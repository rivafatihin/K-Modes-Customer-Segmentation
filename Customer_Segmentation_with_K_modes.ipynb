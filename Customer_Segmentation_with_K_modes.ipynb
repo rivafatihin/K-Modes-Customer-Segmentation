{
  "nbformat": 4,
  "nbformat_minor": 0,
  "metadata": {
    "colab": {
      "provenance": [],
      "collapsed_sections": []
    },
    "kernelspec": {
      "name": "python3",
      "display_name": "Python 3"
    },
    "language_info": {
      "name": "python"
    }
  },
  "cells": [
    {
      "cell_type": "markdown",
      "source": [
        "# 1. Business Framing & Project overview"
      ],
      "metadata": {
        "id": "HOeYuxKfrqBK"
      }
    },
    {
      "cell_type": "markdown",
      "source": [
        "## Background"
      ],
      "metadata": {
        "id": "UwDzXjR5sJlK"
      }
    },
    {
      "cell_type": "markdown",
      "source": [
        "Indonesia’s transportation sector, including automotive \n",
        "industry, has been the highest final energy consumer, contribute 27% of total energy use & become primary source of CO2 emissions in the \n",
        "road transportation sector. \n",
        "\n",
        "As carbon emissions and reliance on fossil energy have become important concerns in Indonesia, developing electric vehicles is considered a \n",
        "possible solution due to their energy efficiency.\n",
        "\n",
        "The project's key contribution is its approach to \n",
        "segmenting the battery electric vehicle market using different \n",
        "groups of consumer profiles."
      ],
      "metadata": {
        "id": "yK8S5hT2sR-r"
      }
    },
    {
      "cell_type": "markdown",
      "source": [
        "## Dataset source information"
      ],
      "metadata": {
        "id": "oAU0D_9-sooZ"
      }
    },
    {
      "cell_type": "markdown",
      "source": [
        "Dataset source from my own personal survey for academic purpose."
      ],
      "metadata": {
        "id": "7WovphRcsuBU"
      }
    },
    {
      "cell_type": "markdown",
      "source": [
        "## Objective"
      ],
      "metadata": {
        "id": "K_48v4pOtOCg"
      }
    },
    {
      "cell_type": "markdown",
      "source": [
        "This project is try to answer below business question:\n",
        "\n",
        "1.   What is the segmentation and characteristic of Indonesian battery electric vehicles?\n",
        "2.   What is the most suitable battery electric vehicle basic product concept for each segmented market?"
      ],
      "metadata": {
        "id": "Tn8L_aaotitN"
      }
    },
    {
      "cell_type": "markdown",
      "source": [
        "# 2. Data understanding"
      ],
      "metadata": {
        "id": "JaBvcpSEu5Hj"
      }
    },
    {
      "cell_type": "markdown",
      "source": [
        "## Import libraries"
      ],
      "metadata": {
        "id": "oA7b8iaWu8DO"
      }
    },
    {
      "cell_type": "code",
      "source": [
        "import numpy as np\n",
        "import pandas as pd\n",
        "from sklearn.preprocessing import LabelEncoder\n",
        "\n",
        "# supress warnings\n",
        "import warnings\n",
        "warnings.filterwarnings('ignore')\n",
        "\n",
        "# Data viz lib\n",
        "import matplotlib.pyplot as plt\n",
        "import seaborn as sns\n",
        "%matplotlib inline\n",
        "from matplotlib.pyplot import xticks"
      ],
      "metadata": {
        "id": "F50T0NxNvV4m"
      },
      "execution_count": 1,
      "outputs": []
    },
    {
      "cell_type": "markdown",
      "source": [
        "## Load Data"
      ],
      "metadata": {
        "id": "Lt5v9VHDvg_F"
      }
    },
    {
      "cell_type": "code",
      "execution_count": 2,
      "metadata": {
        "id": "eav5O9UCq181"
      },
      "outputs": [],
      "source": [
        "data = pd.read_csv('EV_survey.csv')"
      ]
    },
    {
      "cell_type": "markdown",
      "source": [
        "## Sample of data"
      ],
      "metadata": {
        "id": "L8SET7QdwD47"
      }
    },
    {
      "cell_type": "code",
      "source": [
        "# Showing top 5 rows of the data\n",
        "data.head()"
      ],
      "metadata": {
        "colab": {
          "base_uri": "https://localhost:8080/",
          "height": 354
        },
        "id": "3BKEfWMcv6OS",
        "outputId": "7d2a0fdb-8c38-43c9-8282-b7cf3819a382"
      },
      "execution_count": 3,
      "outputs": [
        {
          "output_type": "execute_result",
          "data": {
            "text/plain": [
              "  Respondent ID  Gender Age Range (Years)   Domicile Marital Status  \\\n",
              "0  Respondent 1    Male           25-40    West Java      Unmarried   \n",
              "1  Respondent 2    Male           25-40    West Java      Unmarried   \n",
              "2  Respondent 3  Female           25-40    West Java      Unmarried   \n",
              "3  Respondent 4    Male           25-40    West Java      Unmarried   \n",
              "4  Respondent 5  Female           25-40    West Java      Unmarried   \n",
              "\n",
              "     Education Occupation Spending in a year Vehicle Purchase Price   \\\n",
              "0  High School    Student    200-250 M IDR           300-400 M IDR     \n",
              "1  High School    Student        < 200 M IDR         300-400 M IDR     \n",
              "2  High School    Student    200-250 M IDR           300-400 M IDR     \n",
              "3  High School    Student    200-250 M IDR           300-400 M IDR     \n",
              "4  High School    Student    200-250 M IDR           400-500 M IDR     \n",
              "\n",
              "  Vehicle Model Battery Charging Time Driving Range   \n",
              "0      City Car               3 hours         350 Km  \n",
              "1      City Car               3 hours         350 Km  \n",
              "2      City Car               3 hours         350 Km  \n",
              "3      City Car               5 hours         250 Km  \n",
              "4      City Car               3 hours         350 Km  "
            ],
            "text/html": [
              "\n",
              "  <div id=\"df-32d038bc-ea2f-4ce0-953b-9ed39cb3767e\">\n",
              "    <div class=\"colab-df-container\">\n",
              "      <div>\n",
              "<style scoped>\n",
              "    .dataframe tbody tr th:only-of-type {\n",
              "        vertical-align: middle;\n",
              "    }\n",
              "\n",
              "    .dataframe tbody tr th {\n",
              "        vertical-align: top;\n",
              "    }\n",
              "\n",
              "    .dataframe thead th {\n",
              "        text-align: right;\n",
              "    }\n",
              "</style>\n",
              "<table border=\"1\" class=\"dataframe\">\n",
              "  <thead>\n",
              "    <tr style=\"text-align: right;\">\n",
              "      <th></th>\n",
              "      <th>Respondent ID</th>\n",
              "      <th>Gender</th>\n",
              "      <th>Age Range (Years)</th>\n",
              "      <th>Domicile</th>\n",
              "      <th>Marital Status</th>\n",
              "      <th>Education</th>\n",
              "      <th>Occupation</th>\n",
              "      <th>Spending in a year</th>\n",
              "      <th>Vehicle Purchase Price</th>\n",
              "      <th>Vehicle Model</th>\n",
              "      <th>Battery Charging Time</th>\n",
              "      <th>Driving Range</th>\n",
              "    </tr>\n",
              "  </thead>\n",
              "  <tbody>\n",
              "    <tr>\n",
              "      <th>0</th>\n",
              "      <td>Respondent 1</td>\n",
              "      <td>Male</td>\n",
              "      <td>25-40</td>\n",
              "      <td>West Java</td>\n",
              "      <td>Unmarried</td>\n",
              "      <td>High School</td>\n",
              "      <td>Student</td>\n",
              "      <td>200-250 M IDR</td>\n",
              "      <td>300-400 M IDR</td>\n",
              "      <td>City Car</td>\n",
              "      <td>3 hours</td>\n",
              "      <td>350 Km</td>\n",
              "    </tr>\n",
              "    <tr>\n",
              "      <th>1</th>\n",
              "      <td>Respondent 2</td>\n",
              "      <td>Male</td>\n",
              "      <td>25-40</td>\n",
              "      <td>West Java</td>\n",
              "      <td>Unmarried</td>\n",
              "      <td>High School</td>\n",
              "      <td>Student</td>\n",
              "      <td>&lt; 200 M IDR</td>\n",
              "      <td>300-400 M IDR</td>\n",
              "      <td>City Car</td>\n",
              "      <td>3 hours</td>\n",
              "      <td>350 Km</td>\n",
              "    </tr>\n",
              "    <tr>\n",
              "      <th>2</th>\n",
              "      <td>Respondent 3</td>\n",
              "      <td>Female</td>\n",
              "      <td>25-40</td>\n",
              "      <td>West Java</td>\n",
              "      <td>Unmarried</td>\n",
              "      <td>High School</td>\n",
              "      <td>Student</td>\n",
              "      <td>200-250 M IDR</td>\n",
              "      <td>300-400 M IDR</td>\n",
              "      <td>City Car</td>\n",
              "      <td>3 hours</td>\n",
              "      <td>350 Km</td>\n",
              "    </tr>\n",
              "    <tr>\n",
              "      <th>3</th>\n",
              "      <td>Respondent 4</td>\n",
              "      <td>Male</td>\n",
              "      <td>25-40</td>\n",
              "      <td>West Java</td>\n",
              "      <td>Unmarried</td>\n",
              "      <td>High School</td>\n",
              "      <td>Student</td>\n",
              "      <td>200-250 M IDR</td>\n",
              "      <td>300-400 M IDR</td>\n",
              "      <td>City Car</td>\n",
              "      <td>5 hours</td>\n",
              "      <td>250 Km</td>\n",
              "    </tr>\n",
              "    <tr>\n",
              "      <th>4</th>\n",
              "      <td>Respondent 5</td>\n",
              "      <td>Female</td>\n",
              "      <td>25-40</td>\n",
              "      <td>West Java</td>\n",
              "      <td>Unmarried</td>\n",
              "      <td>High School</td>\n",
              "      <td>Student</td>\n",
              "      <td>200-250 M IDR</td>\n",
              "      <td>400-500 M IDR</td>\n",
              "      <td>City Car</td>\n",
              "      <td>3 hours</td>\n",
              "      <td>350 Km</td>\n",
              "    </tr>\n",
              "  </tbody>\n",
              "</table>\n",
              "</div>\n",
              "      <button class=\"colab-df-convert\" onclick=\"convertToInteractive('df-32d038bc-ea2f-4ce0-953b-9ed39cb3767e')\"\n",
              "              title=\"Convert this dataframe to an interactive table.\"\n",
              "              style=\"display:none;\">\n",
              "        \n",
              "  <svg xmlns=\"http://www.w3.org/2000/svg\" height=\"24px\"viewBox=\"0 0 24 24\"\n",
              "       width=\"24px\">\n",
              "    <path d=\"M0 0h24v24H0V0z\" fill=\"none\"/>\n",
              "    <path d=\"M18.56 5.44l.94 2.06.94-2.06 2.06-.94-2.06-.94-.94-2.06-.94 2.06-2.06.94zm-11 1L8.5 8.5l.94-2.06 2.06-.94-2.06-.94L8.5 2.5l-.94 2.06-2.06.94zm10 10l.94 2.06.94-2.06 2.06-.94-2.06-.94-.94-2.06-.94 2.06-2.06.94z\"/><path d=\"M17.41 7.96l-1.37-1.37c-.4-.4-.92-.59-1.43-.59-.52 0-1.04.2-1.43.59L10.3 9.45l-7.72 7.72c-.78.78-.78 2.05 0 2.83L4 21.41c.39.39.9.59 1.41.59.51 0 1.02-.2 1.41-.59l7.78-7.78 2.81-2.81c.8-.78.8-2.07 0-2.86zM5.41 20L4 18.59l7.72-7.72 1.47 1.35L5.41 20z\"/>\n",
              "  </svg>\n",
              "      </button>\n",
              "      \n",
              "  <style>\n",
              "    .colab-df-container {\n",
              "      display:flex;\n",
              "      flex-wrap:wrap;\n",
              "      gap: 12px;\n",
              "    }\n",
              "\n",
              "    .colab-df-convert {\n",
              "      background-color: #E8F0FE;\n",
              "      border: none;\n",
              "      border-radius: 50%;\n",
              "      cursor: pointer;\n",
              "      display: none;\n",
              "      fill: #1967D2;\n",
              "      height: 32px;\n",
              "      padding: 0 0 0 0;\n",
              "      width: 32px;\n",
              "    }\n",
              "\n",
              "    .colab-df-convert:hover {\n",
              "      background-color: #E2EBFA;\n",
              "      box-shadow: 0px 1px 2px rgba(60, 64, 67, 0.3), 0px 1px 3px 1px rgba(60, 64, 67, 0.15);\n",
              "      fill: #174EA6;\n",
              "    }\n",
              "\n",
              "    [theme=dark] .colab-df-convert {\n",
              "      background-color: #3B4455;\n",
              "      fill: #D2E3FC;\n",
              "    }\n",
              "\n",
              "    [theme=dark] .colab-df-convert:hover {\n",
              "      background-color: #434B5C;\n",
              "      box-shadow: 0px 1px 3px 1px rgba(0, 0, 0, 0.15);\n",
              "      filter: drop-shadow(0px 1px 2px rgba(0, 0, 0, 0.3));\n",
              "      fill: #FFFFFF;\n",
              "    }\n",
              "  </style>\n",
              "\n",
              "      <script>\n",
              "        const buttonEl =\n",
              "          document.querySelector('#df-32d038bc-ea2f-4ce0-953b-9ed39cb3767e button.colab-df-convert');\n",
              "        buttonEl.style.display =\n",
              "          google.colab.kernel.accessAllowed ? 'block' : 'none';\n",
              "\n",
              "        async function convertToInteractive(key) {\n",
              "          const element = document.querySelector('#df-32d038bc-ea2f-4ce0-953b-9ed39cb3767e');\n",
              "          const dataTable =\n",
              "            await google.colab.kernel.invokeFunction('convertToInteractive',\n",
              "                                                     [key], {});\n",
              "          if (!dataTable) return;\n",
              "\n",
              "          const docLinkHtml = 'Like what you see? Visit the ' +\n",
              "            '<a target=\"_blank\" href=https://colab.research.google.com/notebooks/data_table.ipynb>data table notebook</a>'\n",
              "            + ' to learn more about interactive tables.';\n",
              "          element.innerHTML = '';\n",
              "          dataTable['output_type'] = 'display_data';\n",
              "          await google.colab.output.renderOutput(dataTable, element);\n",
              "          const docLink = document.createElement('div');\n",
              "          docLink.innerHTML = docLinkHtml;\n",
              "          element.appendChild(docLink);\n",
              "        }\n",
              "      </script>\n",
              "    </div>\n",
              "  </div>\n",
              "  "
            ]
          },
          "metadata": {},
          "execution_count": 3
        }
      ]
    },
    {
      "cell_type": "code",
      "source": [
        "# sample 5 rows of the data\n",
        "# the results change everytime the code is executed (random sample)\n",
        "data.sample(5)"
      ],
      "metadata": {
        "colab": {
          "base_uri": "https://localhost:8080/",
          "height": 354
        },
        "id": "gPaIjeDbwL7U",
        "outputId": "5bd5f448-452b-418b-bc07-73069d37288c"
      },
      "execution_count": 4,
      "outputs": [
        {
          "output_type": "execute_result",
          "data": {
            "text/plain": [
              "      Respondent ID Gender Age Range (Years)               Domicile  \\\n",
              "390  Respondent 391   Male           18-24    Jakarta surround area   \n",
              "97    Respondent 98   Male        above 40                West Java   \n",
              "103  Respondent 104   Male           25-40                West Java   \n",
              "246  Respondent 247   Male        above 40                West Java   \n",
              "270  Respondent 271   Male           18-24                West Java   \n",
              "\n",
              "    Marital Status Education        Occupation Spending in a year  \\\n",
              "390        Married  Bachelor     Self-employed  above 350 M IDR     \n",
              "97         Married  Bachelor  Private Employee        < 200 M IDR   \n",
              "103        Married  Bachelor  Private Employee        < 200 M IDR   \n",
              "246      Unmarried  Bachelor           Student        < 200 M IDR   \n",
              "270        Married  Bachelor  Private Employee        < 200 M IDR   \n",
              "\n",
              "    Vehicle Purchase Price  Vehicle Model Battery Charging Time Driving Range   \n",
              "390         300-400 M IDR             MPV               3 hours         350 Km  \n",
              "97          300-400 M IDR             MPV               3 hours         300 Km  \n",
              "103         300-400 M IDR             MPV               3 hours         300 Km  \n",
              "246         300-400 M IDR             SUV               3 hours         350 Km  \n",
              "270         300-400 M IDR        City Car               3 hours         250 Km  "
            ],
            "text/html": [
              "\n",
              "  <div id=\"df-20417ff8-6c0d-4aff-9964-123cb8da9476\">\n",
              "    <div class=\"colab-df-container\">\n",
              "      <div>\n",
              "<style scoped>\n",
              "    .dataframe tbody tr th:only-of-type {\n",
              "        vertical-align: middle;\n",
              "    }\n",
              "\n",
              "    .dataframe tbody tr th {\n",
              "        vertical-align: top;\n",
              "    }\n",
              "\n",
              "    .dataframe thead th {\n",
              "        text-align: right;\n",
              "    }\n",
              "</style>\n",
              "<table border=\"1\" class=\"dataframe\">\n",
              "  <thead>\n",
              "    <tr style=\"text-align: right;\">\n",
              "      <th></th>\n",
              "      <th>Respondent ID</th>\n",
              "      <th>Gender</th>\n",
              "      <th>Age Range (Years)</th>\n",
              "      <th>Domicile</th>\n",
              "      <th>Marital Status</th>\n",
              "      <th>Education</th>\n",
              "      <th>Occupation</th>\n",
              "      <th>Spending in a year</th>\n",
              "      <th>Vehicle Purchase Price</th>\n",
              "      <th>Vehicle Model</th>\n",
              "      <th>Battery Charging Time</th>\n",
              "      <th>Driving Range</th>\n",
              "    </tr>\n",
              "  </thead>\n",
              "  <tbody>\n",
              "    <tr>\n",
              "      <th>390</th>\n",
              "      <td>Respondent 391</td>\n",
              "      <td>Male</td>\n",
              "      <td>18-24</td>\n",
              "      <td>Jakarta surround area</td>\n",
              "      <td>Married</td>\n",
              "      <td>Bachelor</td>\n",
              "      <td>Self-employed</td>\n",
              "      <td>above 350 M IDR</td>\n",
              "      <td>300-400 M IDR</td>\n",
              "      <td>MPV</td>\n",
              "      <td>3 hours</td>\n",
              "      <td>350 Km</td>\n",
              "    </tr>\n",
              "    <tr>\n",
              "      <th>97</th>\n",
              "      <td>Respondent 98</td>\n",
              "      <td>Male</td>\n",
              "      <td>above 40</td>\n",
              "      <td>West Java</td>\n",
              "      <td>Married</td>\n",
              "      <td>Bachelor</td>\n",
              "      <td>Private Employee</td>\n",
              "      <td>&lt; 200 M IDR</td>\n",
              "      <td>300-400 M IDR</td>\n",
              "      <td>MPV</td>\n",
              "      <td>3 hours</td>\n",
              "      <td>300 Km</td>\n",
              "    </tr>\n",
              "    <tr>\n",
              "      <th>103</th>\n",
              "      <td>Respondent 104</td>\n",
              "      <td>Male</td>\n",
              "      <td>25-40</td>\n",
              "      <td>West Java</td>\n",
              "      <td>Married</td>\n",
              "      <td>Bachelor</td>\n",
              "      <td>Private Employee</td>\n",
              "      <td>&lt; 200 M IDR</td>\n",
              "      <td>300-400 M IDR</td>\n",
              "      <td>MPV</td>\n",
              "      <td>3 hours</td>\n",
              "      <td>300 Km</td>\n",
              "    </tr>\n",
              "    <tr>\n",
              "      <th>246</th>\n",
              "      <td>Respondent 247</td>\n",
              "      <td>Male</td>\n",
              "      <td>above 40</td>\n",
              "      <td>West Java</td>\n",
              "      <td>Unmarried</td>\n",
              "      <td>Bachelor</td>\n",
              "      <td>Student</td>\n",
              "      <td>&lt; 200 M IDR</td>\n",
              "      <td>300-400 M IDR</td>\n",
              "      <td>SUV</td>\n",
              "      <td>3 hours</td>\n",
              "      <td>350 Km</td>\n",
              "    </tr>\n",
              "    <tr>\n",
              "      <th>270</th>\n",
              "      <td>Respondent 271</td>\n",
              "      <td>Male</td>\n",
              "      <td>18-24</td>\n",
              "      <td>West Java</td>\n",
              "      <td>Married</td>\n",
              "      <td>Bachelor</td>\n",
              "      <td>Private Employee</td>\n",
              "      <td>&lt; 200 M IDR</td>\n",
              "      <td>300-400 M IDR</td>\n",
              "      <td>City Car</td>\n",
              "      <td>3 hours</td>\n",
              "      <td>250 Km</td>\n",
              "    </tr>\n",
              "  </tbody>\n",
              "</table>\n",
              "</div>\n",
              "      <button class=\"colab-df-convert\" onclick=\"convertToInteractive('df-20417ff8-6c0d-4aff-9964-123cb8da9476')\"\n",
              "              title=\"Convert this dataframe to an interactive table.\"\n",
              "              style=\"display:none;\">\n",
              "        \n",
              "  <svg xmlns=\"http://www.w3.org/2000/svg\" height=\"24px\"viewBox=\"0 0 24 24\"\n",
              "       width=\"24px\">\n",
              "    <path d=\"M0 0h24v24H0V0z\" fill=\"none\"/>\n",
              "    <path d=\"M18.56 5.44l.94 2.06.94-2.06 2.06-.94-2.06-.94-.94-2.06-.94 2.06-2.06.94zm-11 1L8.5 8.5l.94-2.06 2.06-.94-2.06-.94L8.5 2.5l-.94 2.06-2.06.94zm10 10l.94 2.06.94-2.06 2.06-.94-2.06-.94-.94-2.06-.94 2.06-2.06.94z\"/><path d=\"M17.41 7.96l-1.37-1.37c-.4-.4-.92-.59-1.43-.59-.52 0-1.04.2-1.43.59L10.3 9.45l-7.72 7.72c-.78.78-.78 2.05 0 2.83L4 21.41c.39.39.9.59 1.41.59.51 0 1.02-.2 1.41-.59l7.78-7.78 2.81-2.81c.8-.78.8-2.07 0-2.86zM5.41 20L4 18.59l7.72-7.72 1.47 1.35L5.41 20z\"/>\n",
              "  </svg>\n",
              "      </button>\n",
              "      \n",
              "  <style>\n",
              "    .colab-df-container {\n",
              "      display:flex;\n",
              "      flex-wrap:wrap;\n",
              "      gap: 12px;\n",
              "    }\n",
              "\n",
              "    .colab-df-convert {\n",
              "      background-color: #E8F0FE;\n",
              "      border: none;\n",
              "      border-radius: 50%;\n",
              "      cursor: pointer;\n",
              "      display: none;\n",
              "      fill: #1967D2;\n",
              "      height: 32px;\n",
              "      padding: 0 0 0 0;\n",
              "      width: 32px;\n",
              "    }\n",
              "\n",
              "    .colab-df-convert:hover {\n",
              "      background-color: #E2EBFA;\n",
              "      box-shadow: 0px 1px 2px rgba(60, 64, 67, 0.3), 0px 1px 3px 1px rgba(60, 64, 67, 0.15);\n",
              "      fill: #174EA6;\n",
              "    }\n",
              "\n",
              "    [theme=dark] .colab-df-convert {\n",
              "      background-color: #3B4455;\n",
              "      fill: #D2E3FC;\n",
              "    }\n",
              "\n",
              "    [theme=dark] .colab-df-convert:hover {\n",
              "      background-color: #434B5C;\n",
              "      box-shadow: 0px 1px 3px 1px rgba(0, 0, 0, 0.15);\n",
              "      filter: drop-shadow(0px 1px 2px rgba(0, 0, 0, 0.3));\n",
              "      fill: #FFFFFF;\n",
              "    }\n",
              "  </style>\n",
              "\n",
              "      <script>\n",
              "        const buttonEl =\n",
              "          document.querySelector('#df-20417ff8-6c0d-4aff-9964-123cb8da9476 button.colab-df-convert');\n",
              "        buttonEl.style.display =\n",
              "          google.colab.kernel.accessAllowed ? 'block' : 'none';\n",
              "\n",
              "        async function convertToInteractive(key) {\n",
              "          const element = document.querySelector('#df-20417ff8-6c0d-4aff-9964-123cb8da9476');\n",
              "          const dataTable =\n",
              "            await google.colab.kernel.invokeFunction('convertToInteractive',\n",
              "                                                     [key], {});\n",
              "          if (!dataTable) return;\n",
              "\n",
              "          const docLinkHtml = 'Like what you see? Visit the ' +\n",
              "            '<a target=\"_blank\" href=https://colab.research.google.com/notebooks/data_table.ipynb>data table notebook</a>'\n",
              "            + ' to learn more about interactive tables.';\n",
              "          element.innerHTML = '';\n",
              "          dataTable['output_type'] = 'display_data';\n",
              "          await google.colab.output.renderOutput(dataTable, element);\n",
              "          const docLink = document.createElement('div');\n",
              "          docLink.innerHTML = docLinkHtml;\n",
              "          element.appendChild(docLink);\n",
              "        }\n",
              "      </script>\n",
              "    </div>\n",
              "  </div>\n",
              "  "
            ]
          },
          "metadata": {},
          "execution_count": 4
        }
      ]
    },
    {
      "cell_type": "markdown",
      "source": [
        "Feature information:\n",
        "\n",
        "*   `Respondent ID`: Index of each Respondent.\n",
        "*   `Gender`: Gender of each respondent, there are Male & Female.\n",
        "*   `Age Range (Years)`: Age range of respondent, Divided into 3 category: Gen Z (18-24), Millenials (25-40), Boomers (above 40)\n",
        "*   `Domicile`: City or Region of each respondent in Indonesia area. There are : West Java, Jakarta surround area, East Indonesia, Sumatera, Borneo & Center & East Java\n",
        "*   `Marital Status`: Status of marriage, Married or Unmarried.\n",
        "*   `Education`: Education level from each respondent divided into 3 category: High School, Bachelor & master/Phd.\n",
        "*   `Occupation`: Profession of each respondent, There are: Private Employee, Student, Self-employed, Government Employees, Housewife, Teacher/Lecturer, Retired & Others.\n",
        "*   `Spending in a year`: Number of spending in a year indicates purchases power, there are: <200 M IDR, 200-250 M IDR, 250-300 M IDR, 300-350 M IDR & above 350 M IDR.\n",
        "*   `Vehicle Purchase Price`: Purchase price range of Electric Vehicle that would be pay by respondent, there are 300-400 M IDR, 400-500 M IDR & above 500 M IDR.\n",
        "*   `Vehicle Model`: Type of favorable electric car model, There are: City Car, MPV, SUV & Sedan \n",
        "*   `Battery Charging Time`: Total time of charging Electric car battery for 100 Km. There 3 hours, 5 hours & 8 hours.\n",
        "*  `Driving Range`: Total maximum lentgh of driving in Km, divided into 250 Km, 300 Km, 350 Km."
      ],
      "metadata": {
        "id": "2XRyr6v8wUOv"
      }
    },
    {
      "cell_type": "markdown",
      "source": [
        "## General Information & Missing Values"
      ],
      "metadata": {
        "id": "7EEDZFRzyJ2J"
      }
    },
    {
      "cell_type": "code",
      "source": [
        "data.info()"
      ],
      "metadata": {
        "colab": {
          "base_uri": "https://localhost:8080/"
        },
        "id": "WKsbx4b1ySbA",
        "outputId": "610e3a19-d14b-4e66-d89c-dfdff273506c"
      },
      "execution_count": 5,
      "outputs": [
        {
          "output_type": "stream",
          "name": "stdout",
          "text": [
            "<class 'pandas.core.frame.DataFrame'>\n",
            "RangeIndex: 422 entries, 0 to 421\n",
            "Data columns (total 12 columns):\n",
            " #   Column                   Non-Null Count  Dtype \n",
            "---  ------                   --------------  ----- \n",
            " 0   Respondent ID            422 non-null    object\n",
            " 1   Gender                   421 non-null    object\n",
            " 2   Age Range (Years)        421 non-null    object\n",
            " 3   Domicile                 421 non-null    object\n",
            " 4   Marital Status           418 non-null    object\n",
            " 5   Education                419 non-null    object\n",
            " 6   Occupation               419 non-null    object\n",
            " 7   Spending in a year       421 non-null    object\n",
            " 8   Vehicle Purchase Price   421 non-null    object\n",
            " 9   Vehicle Model            421 non-null    object\n",
            " 10  Battery Charging Time    422 non-null    object\n",
            " 11  Driving Range            422 non-null    object\n",
            "dtypes: object(12)\n",
            "memory usage: 39.7+ KB\n"
          ]
        }
      ]
    },
    {
      "cell_type": "markdown",
      "source": [
        "Observation:\n",
        "1. Data contains 12 columns with 422 rows.\n",
        "2. Several columns have missing values, will handle later.\n",
        "3. All dtypes is categorical."
      ],
      "metadata": {
        "id": "hf2sCNP3z3IB"
      }
    },
    {
      "cell_type": "code",
      "source": [
        "# number of missing values per column\n",
        "data.isna().sum()"
      ],
      "metadata": {
        "colab": {
          "base_uri": "https://localhost:8080/"
        },
        "id": "9ruGTM6G093r",
        "outputId": "1f35473c-6b19-44c9-a187-2136120e1d06"
      },
      "execution_count": 6,
      "outputs": [
        {
          "output_type": "execute_result",
          "data": {
            "text/plain": [
              "Respondent ID              0\n",
              "Gender                     1\n",
              "Age Range (Years)          1\n",
              "Domicile                   1\n",
              "Marital Status             4\n",
              "Education                  3\n",
              "Occupation                 3\n",
              "Spending in a year         1\n",
              "Vehicle Purchase Price     1\n",
              "Vehicle Model              1\n",
              "Battery Charging Time      0\n",
              "Driving Range              0\n",
              "dtype: int64"
            ]
          },
          "metadata": {},
          "execution_count": 6
        }
      ]
    },
    {
      "cell_type": "code",
      "source": [
        "# percentage version\n",
        "data.isna().sum() * 100 / len(data)"
      ],
      "metadata": {
        "colab": {
          "base_uri": "https://localhost:8080/"
        },
        "id": "2LJpP92L8v-z",
        "outputId": "e38b7d57-cb95-4f59-ca0d-7fb1ea8ef74c"
      },
      "execution_count": 7,
      "outputs": [
        {
          "output_type": "execute_result",
          "data": {
            "text/plain": [
              "Respondent ID              0.000000\n",
              "Gender                     0.236967\n",
              "Age Range (Years)          0.236967\n",
              "Domicile                   0.236967\n",
              "Marital Status             0.947867\n",
              "Education                  0.710900\n",
              "Occupation                 0.710900\n",
              "Spending in a year         0.236967\n",
              "Vehicle Purchase Price     0.236967\n",
              "Vehicle Model              0.236967\n",
              "Battery Charging Time      0.000000\n",
              "Driving Range              0.000000\n",
              "dtype: float64"
            ]
          },
          "metadata": {},
          "execution_count": 7
        }
      ]
    },
    {
      "cell_type": "markdown",
      "source": [
        "Since number of rows with missing values are small in proportion (< 5%), we can simply drop them."
      ],
      "metadata": {
        "id": "oYZ5gKcF1Ogk"
      }
    },
    {
      "cell_type": "code",
      "source": [
        "# drop na values\n",
        "data = data.dropna()"
      ],
      "metadata": {
        "id": "zBwNJ2jJ84Gg"
      },
      "execution_count": 8,
      "outputs": []
    },
    {
      "cell_type": "code",
      "source": [
        "# sanity check\n",
        "data.isna().sum()"
      ],
      "metadata": {
        "colab": {
          "base_uri": "https://localhost:8080/"
        },
        "id": "zvf0MKgf9AIF",
        "outputId": "4e0d7b4b-1bc5-4b59-f242-289725633e1b"
      },
      "execution_count": 9,
      "outputs": [
        {
          "output_type": "execute_result",
          "data": {
            "text/plain": [
              "Respondent ID              0\n",
              "Gender                     0\n",
              "Age Range (Years)          0\n",
              "Domicile                   0\n",
              "Marital Status             0\n",
              "Education                  0\n",
              "Occupation                 0\n",
              "Spending in a year         0\n",
              "Vehicle Purchase Price     0\n",
              "Vehicle Model              0\n",
              "Battery Charging Time      0\n",
              "Driving Range              0\n",
              "dtype: int64"
            ]
          },
          "metadata": {},
          "execution_count": 9
        }
      ]
    },
    {
      "cell_type": "markdown",
      "source": [
        "Success removing NULL values! :)"
      ],
      "metadata": {
        "id": "YqdxElud9FPj"
      }
    },
    {
      "cell_type": "markdown",
      "source": [
        "## Duplicated data check"
      ],
      "metadata": {
        "id": "ieGoKHIq1VEX"
      }
    },
    {
      "cell_type": "code",
      "source": [
        "# number of duplicated data\n",
        "data.duplicated().sum()"
      ],
      "metadata": {
        "colab": {
          "base_uri": "https://localhost:8080/"
        },
        "id": "0LGIaOJe1WJm",
        "outputId": "fbeb8817-b96d-4200-f403-6348de659a43"
      },
      "execution_count": 10,
      "outputs": [
        {
          "output_type": "execute_result",
          "data": {
            "text/plain": [
              "0"
            ]
          },
          "metadata": {},
          "execution_count": 10
        }
      ]
    },
    {
      "cell_type": "markdown",
      "source": [
        "Data don't have any duplicate row as well!!"
      ],
      "metadata": {
        "id": "dV7F87_W1eE2"
      }
    },
    {
      "cell_type": "markdown",
      "source": [
        "## Drop irrelevant feature"
      ],
      "metadata": {
        "id": "F__DqceO2D2s"
      }
    },
    {
      "cell_type": "markdown",
      "source": [
        "Feature irrelevant:\n",
        "\n",
        "*  `Respondent ID`: just give index information"
      ],
      "metadata": {
        "id": "FBXLAxuH2QIC"
      }
    },
    {
      "cell_type": "code",
      "source": [
        "data.drop(['Respondent ID'], axis=1, inplace=True)"
      ],
      "metadata": {
        "id": "TCV42FBb2KAn"
      },
      "execution_count": 11,
      "outputs": []
    },
    {
      "cell_type": "code",
      "source": [
        "data.sample(10)"
      ],
      "metadata": {
        "colab": {
          "base_uri": "https://localhost:8080/",
          "height": 511
        },
        "id": "q9KeMo678ckM",
        "outputId": "0b814e25-1c62-4862-a4f1-9cc719660404"
      },
      "execution_count": 12,
      "outputs": [
        {
          "output_type": "execute_result",
          "data": {
            "text/plain": [
              "     Gender Age Range (Years)               Domicile Marital Status Education  \\\n",
              "291  Female           18-24                   Borneo        Married  Bachelor   \n",
              "65   Female        above 40    Jakarta surround area        Married  Bachelor   \n",
              "60   Female           25-40                West Java        Married  Bachelor   \n",
              "357    Male           18-24           East Indonesia        Married  Bachelor   \n",
              "262    Male           25-40    Jakarta surround area      Unmarried  Bachelor   \n",
              "329  Female           18-24                 Sumatera      Unmarried  Bachelor   \n",
              "342  Female           18-24           East Indonesia        Married  Bachelor   \n",
              "46     Male           25-40                West Java        Married  Bachelor   \n",
              "282  Female           25-40    Jakarta surround area        Married  Bachelor   \n",
              "234  Female           25-40       Center & East Java      Unmarried  Bachelor   \n",
              "\n",
              "           Occupation Spending in a year Vehicle Purchase Price   \\\n",
              "291  Private Employee        < 200 M IDR         300-400 M IDR     \n",
              "65   Private Employee        < 200 M IDR         300-400 M IDR     \n",
              "60   Private Employee        < 200 M IDR         300-400 M IDR     \n",
              "357     Self-employed    300-350 M IDR         above 500 M IDR     \n",
              "262           Student        < 200 M IDR         300-400 M IDR     \n",
              "329           Student    300-350 M IDR           300-400 M IDR     \n",
              "342     Self-employed        < 200 M IDR         300-400 M IDR     \n",
              "46          Housewife        < 200 M IDR         300-400 M IDR     \n",
              "282  Private Employee    300-350 M IDR         above 500 M IDR     \n",
              "234           Student        < 200 M IDR         300-400 M IDR     \n",
              "\n",
              "    Vehicle Model Battery Charging Time Driving Range   \n",
              "291      City Car               3 hours         350 Km  \n",
              "65       City Car               5 hours         350 Km  \n",
              "60       City Car               3 hours         350 Km  \n",
              "357         Sedan               3 hours         350 Km  \n",
              "262           MPV               3 hours         300 Km  \n",
              "329      City Car               3 hours         350 Km  \n",
              "342      City Car               3 hours         350 Km  \n",
              "46       City Car               3 hours         300 Km  \n",
              "282           SUV               3 hours         250 Km  \n",
              "234           MPV               3 hours         250 Km  "
            ],
            "text/html": [
              "\n",
              "  <div id=\"df-dc88c836-d833-4213-b031-aeb524a6964e\">\n",
              "    <div class=\"colab-df-container\">\n",
              "      <div>\n",
              "<style scoped>\n",
              "    .dataframe tbody tr th:only-of-type {\n",
              "        vertical-align: middle;\n",
              "    }\n",
              "\n",
              "    .dataframe tbody tr th {\n",
              "        vertical-align: top;\n",
              "    }\n",
              "\n",
              "    .dataframe thead th {\n",
              "        text-align: right;\n",
              "    }\n",
              "</style>\n",
              "<table border=\"1\" class=\"dataframe\">\n",
              "  <thead>\n",
              "    <tr style=\"text-align: right;\">\n",
              "      <th></th>\n",
              "      <th>Gender</th>\n",
              "      <th>Age Range (Years)</th>\n",
              "      <th>Domicile</th>\n",
              "      <th>Marital Status</th>\n",
              "      <th>Education</th>\n",
              "      <th>Occupation</th>\n",
              "      <th>Spending in a year</th>\n",
              "      <th>Vehicle Purchase Price</th>\n",
              "      <th>Vehicle Model</th>\n",
              "      <th>Battery Charging Time</th>\n",
              "      <th>Driving Range</th>\n",
              "    </tr>\n",
              "  </thead>\n",
              "  <tbody>\n",
              "    <tr>\n",
              "      <th>291</th>\n",
              "      <td>Female</td>\n",
              "      <td>18-24</td>\n",
              "      <td>Borneo</td>\n",
              "      <td>Married</td>\n",
              "      <td>Bachelor</td>\n",
              "      <td>Private Employee</td>\n",
              "      <td>&lt; 200 M IDR</td>\n",
              "      <td>300-400 M IDR</td>\n",
              "      <td>City Car</td>\n",
              "      <td>3 hours</td>\n",
              "      <td>350 Km</td>\n",
              "    </tr>\n",
              "    <tr>\n",
              "      <th>65</th>\n",
              "      <td>Female</td>\n",
              "      <td>above 40</td>\n",
              "      <td>Jakarta surround area</td>\n",
              "      <td>Married</td>\n",
              "      <td>Bachelor</td>\n",
              "      <td>Private Employee</td>\n",
              "      <td>&lt; 200 M IDR</td>\n",
              "      <td>300-400 M IDR</td>\n",
              "      <td>City Car</td>\n",
              "      <td>5 hours</td>\n",
              "      <td>350 Km</td>\n",
              "    </tr>\n",
              "    <tr>\n",
              "      <th>60</th>\n",
              "      <td>Female</td>\n",
              "      <td>25-40</td>\n",
              "      <td>West Java</td>\n",
              "      <td>Married</td>\n",
              "      <td>Bachelor</td>\n",
              "      <td>Private Employee</td>\n",
              "      <td>&lt; 200 M IDR</td>\n",
              "      <td>300-400 M IDR</td>\n",
              "      <td>City Car</td>\n",
              "      <td>3 hours</td>\n",
              "      <td>350 Km</td>\n",
              "    </tr>\n",
              "    <tr>\n",
              "      <th>357</th>\n",
              "      <td>Male</td>\n",
              "      <td>18-24</td>\n",
              "      <td>East Indonesia</td>\n",
              "      <td>Married</td>\n",
              "      <td>Bachelor</td>\n",
              "      <td>Self-employed</td>\n",
              "      <td>300-350 M IDR</td>\n",
              "      <td>above 500 M IDR</td>\n",
              "      <td>Sedan</td>\n",
              "      <td>3 hours</td>\n",
              "      <td>350 Km</td>\n",
              "    </tr>\n",
              "    <tr>\n",
              "      <th>262</th>\n",
              "      <td>Male</td>\n",
              "      <td>25-40</td>\n",
              "      <td>Jakarta surround area</td>\n",
              "      <td>Unmarried</td>\n",
              "      <td>Bachelor</td>\n",
              "      <td>Student</td>\n",
              "      <td>&lt; 200 M IDR</td>\n",
              "      <td>300-400 M IDR</td>\n",
              "      <td>MPV</td>\n",
              "      <td>3 hours</td>\n",
              "      <td>300 Km</td>\n",
              "    </tr>\n",
              "    <tr>\n",
              "      <th>329</th>\n",
              "      <td>Female</td>\n",
              "      <td>18-24</td>\n",
              "      <td>Sumatera</td>\n",
              "      <td>Unmarried</td>\n",
              "      <td>Bachelor</td>\n",
              "      <td>Student</td>\n",
              "      <td>300-350 M IDR</td>\n",
              "      <td>300-400 M IDR</td>\n",
              "      <td>City Car</td>\n",
              "      <td>3 hours</td>\n",
              "      <td>350 Km</td>\n",
              "    </tr>\n",
              "    <tr>\n",
              "      <th>342</th>\n",
              "      <td>Female</td>\n",
              "      <td>18-24</td>\n",
              "      <td>East Indonesia</td>\n",
              "      <td>Married</td>\n",
              "      <td>Bachelor</td>\n",
              "      <td>Self-employed</td>\n",
              "      <td>&lt; 200 M IDR</td>\n",
              "      <td>300-400 M IDR</td>\n",
              "      <td>City Car</td>\n",
              "      <td>3 hours</td>\n",
              "      <td>350 Km</td>\n",
              "    </tr>\n",
              "    <tr>\n",
              "      <th>46</th>\n",
              "      <td>Male</td>\n",
              "      <td>25-40</td>\n",
              "      <td>West Java</td>\n",
              "      <td>Married</td>\n",
              "      <td>Bachelor</td>\n",
              "      <td>Housewife</td>\n",
              "      <td>&lt; 200 M IDR</td>\n",
              "      <td>300-400 M IDR</td>\n",
              "      <td>City Car</td>\n",
              "      <td>3 hours</td>\n",
              "      <td>300 Km</td>\n",
              "    </tr>\n",
              "    <tr>\n",
              "      <th>282</th>\n",
              "      <td>Female</td>\n",
              "      <td>25-40</td>\n",
              "      <td>Jakarta surround area</td>\n",
              "      <td>Married</td>\n",
              "      <td>Bachelor</td>\n",
              "      <td>Private Employee</td>\n",
              "      <td>300-350 M IDR</td>\n",
              "      <td>above 500 M IDR</td>\n",
              "      <td>SUV</td>\n",
              "      <td>3 hours</td>\n",
              "      <td>250 Km</td>\n",
              "    </tr>\n",
              "    <tr>\n",
              "      <th>234</th>\n",
              "      <td>Female</td>\n",
              "      <td>25-40</td>\n",
              "      <td>Center &amp; East Java</td>\n",
              "      <td>Unmarried</td>\n",
              "      <td>Bachelor</td>\n",
              "      <td>Student</td>\n",
              "      <td>&lt; 200 M IDR</td>\n",
              "      <td>300-400 M IDR</td>\n",
              "      <td>MPV</td>\n",
              "      <td>3 hours</td>\n",
              "      <td>250 Km</td>\n",
              "    </tr>\n",
              "  </tbody>\n",
              "</table>\n",
              "</div>\n",
              "      <button class=\"colab-df-convert\" onclick=\"convertToInteractive('df-dc88c836-d833-4213-b031-aeb524a6964e')\"\n",
              "              title=\"Convert this dataframe to an interactive table.\"\n",
              "              style=\"display:none;\">\n",
              "        \n",
              "  <svg xmlns=\"http://www.w3.org/2000/svg\" height=\"24px\"viewBox=\"0 0 24 24\"\n",
              "       width=\"24px\">\n",
              "    <path d=\"M0 0h24v24H0V0z\" fill=\"none\"/>\n",
              "    <path d=\"M18.56 5.44l.94 2.06.94-2.06 2.06-.94-2.06-.94-.94-2.06-.94 2.06-2.06.94zm-11 1L8.5 8.5l.94-2.06 2.06-.94-2.06-.94L8.5 2.5l-.94 2.06-2.06.94zm10 10l.94 2.06.94-2.06 2.06-.94-2.06-.94-.94-2.06-.94 2.06-2.06.94z\"/><path d=\"M17.41 7.96l-1.37-1.37c-.4-.4-.92-.59-1.43-.59-.52 0-1.04.2-1.43.59L10.3 9.45l-7.72 7.72c-.78.78-.78 2.05 0 2.83L4 21.41c.39.39.9.59 1.41.59.51 0 1.02-.2 1.41-.59l7.78-7.78 2.81-2.81c.8-.78.8-2.07 0-2.86zM5.41 20L4 18.59l7.72-7.72 1.47 1.35L5.41 20z\"/>\n",
              "  </svg>\n",
              "      </button>\n",
              "      \n",
              "  <style>\n",
              "    .colab-df-container {\n",
              "      display:flex;\n",
              "      flex-wrap:wrap;\n",
              "      gap: 12px;\n",
              "    }\n",
              "\n",
              "    .colab-df-convert {\n",
              "      background-color: #E8F0FE;\n",
              "      border: none;\n",
              "      border-radius: 50%;\n",
              "      cursor: pointer;\n",
              "      display: none;\n",
              "      fill: #1967D2;\n",
              "      height: 32px;\n",
              "      padding: 0 0 0 0;\n",
              "      width: 32px;\n",
              "    }\n",
              "\n",
              "    .colab-df-convert:hover {\n",
              "      background-color: #E2EBFA;\n",
              "      box-shadow: 0px 1px 2px rgba(60, 64, 67, 0.3), 0px 1px 3px 1px rgba(60, 64, 67, 0.15);\n",
              "      fill: #174EA6;\n",
              "    }\n",
              "\n",
              "    [theme=dark] .colab-df-convert {\n",
              "      background-color: #3B4455;\n",
              "      fill: #D2E3FC;\n",
              "    }\n",
              "\n",
              "    [theme=dark] .colab-df-convert:hover {\n",
              "      background-color: #434B5C;\n",
              "      box-shadow: 0px 1px 3px 1px rgba(0, 0, 0, 0.15);\n",
              "      filter: drop-shadow(0px 1px 2px rgba(0, 0, 0, 0.3));\n",
              "      fill: #FFFFFF;\n",
              "    }\n",
              "  </style>\n",
              "\n",
              "      <script>\n",
              "        const buttonEl =\n",
              "          document.querySelector('#df-dc88c836-d833-4213-b031-aeb524a6964e button.colab-df-convert');\n",
              "        buttonEl.style.display =\n",
              "          google.colab.kernel.accessAllowed ? 'block' : 'none';\n",
              "\n",
              "        async function convertToInteractive(key) {\n",
              "          const element = document.querySelector('#df-dc88c836-d833-4213-b031-aeb524a6964e');\n",
              "          const dataTable =\n",
              "            await google.colab.kernel.invokeFunction('convertToInteractive',\n",
              "                                                     [key], {});\n",
              "          if (!dataTable) return;\n",
              "\n",
              "          const docLinkHtml = 'Like what you see? Visit the ' +\n",
              "            '<a target=\"_blank\" href=https://colab.research.google.com/notebooks/data_table.ipynb>data table notebook</a>'\n",
              "            + ' to learn more about interactive tables.';\n",
              "          element.innerHTML = '';\n",
              "          dataTable['output_type'] = 'display_data';\n",
              "          await google.colab.output.renderOutput(dataTable, element);\n",
              "          const docLink = document.createElement('div');\n",
              "          docLink.innerHTML = docLinkHtml;\n",
              "          element.appendChild(docLink);\n",
              "        }\n",
              "      </script>\n",
              "    </div>\n",
              "  </div>\n",
              "  "
            ]
          },
          "metadata": {},
          "execution_count": 12
        }
      ]
    },
    {
      "cell_type": "code",
      "source": [
        "data.columns"
      ],
      "metadata": {
        "colab": {
          "base_uri": "https://localhost:8080/"
        },
        "id": "X-7tAxigMY6W",
        "outputId": "7d1d2ecf-e891-429f-803d-aa2de3413128"
      },
      "execution_count": 13,
      "outputs": [
        {
          "output_type": "execute_result",
          "data": {
            "text/plain": [
              "Index(['Gender', 'Age Range (Years)', 'Domicile', 'Marital Status',\n",
              "       'Education', 'Occupation', 'Spending in a year',\n",
              "       'Vehicle Purchase Price ', 'Vehicle Model', 'Battery Charging Time',\n",
              "       'Driving Range '],\n",
              "      dtype='object')"
            ]
          },
          "metadata": {},
          "execution_count": 13
        }
      ]
    },
    {
      "cell_type": "code",
      "source": [
        "data.info()"
      ],
      "metadata": {
        "colab": {
          "base_uri": "https://localhost:8080/"
        },
        "id": "mzqPhj229qbW",
        "outputId": "687f6b77-772f-4769-b3f8-e324548d5894"
      },
      "execution_count": 14,
      "outputs": [
        {
          "output_type": "stream",
          "name": "stdout",
          "text": [
            "<class 'pandas.core.frame.DataFrame'>\n",
            "Int64Index: 417 entries, 0 to 417\n",
            "Data columns (total 11 columns):\n",
            " #   Column                   Non-Null Count  Dtype \n",
            "---  ------                   --------------  ----- \n",
            " 0   Gender                   417 non-null    object\n",
            " 1   Age Range (Years)        417 non-null    object\n",
            " 2   Domicile                 417 non-null    object\n",
            " 3   Marital Status           417 non-null    object\n",
            " 4   Education                417 non-null    object\n",
            " 5   Occupation               417 non-null    object\n",
            " 6   Spending in a year       417 non-null    object\n",
            " 7   Vehicle Purchase Price   417 non-null    object\n",
            " 8   Vehicle Model            417 non-null    object\n",
            " 9   Battery Charging Time    417 non-null    object\n",
            " 10  Driving Range            417 non-null    object\n",
            "dtypes: object(11)\n",
            "memory usage: 39.1+ KB\n"
          ]
        }
      ]
    },
    {
      "cell_type": "markdown",
      "source": [
        "## Statistical summary"
      ],
      "metadata": {
        "id": "8kQSCleb1wnE"
      }
    },
    {
      "cell_type": "code",
      "source": [
        "# describe method on dataset\n",
        "data.describe().T"
      ],
      "metadata": {
        "colab": {
          "base_uri": "https://localhost:8080/",
          "height": 394
        },
        "id": "I7R9RgxS-RdI",
        "outputId": "853a6145-5ae7-4089-9180-a0f1c98c8ae2"
      },
      "execution_count": 15,
      "outputs": [
        {
          "output_type": "execute_result",
          "data": {
            "text/plain": [
              "                        count unique               top freq\n",
              "Gender                    417      2            Female  216\n",
              "Age Range (Years)         417      3           25-40    254\n",
              "Domicile                  417      6         West Java  157\n",
              "Marital Status            417      2           Married  293\n",
              "Education                 417      3          Bachelor  378\n",
              "Occupation                417      8  Private Employee  188\n",
              "Spending in a year        417      5       < 200 M IDR  229\n",
              "Vehicle Purchase Price    417      3   300-400 M IDR    342\n",
              "Vehicle Model             417      4          City Car  167\n",
              "Battery Charging Time     417      3           3 hours  276\n",
              "Driving Range             417      3            350 Km  274"
            ],
            "text/html": [
              "\n",
              "  <div id=\"df-e3423b48-1cab-4ade-be37-d4a78a0c2407\">\n",
              "    <div class=\"colab-df-container\">\n",
              "      <div>\n",
              "<style scoped>\n",
              "    .dataframe tbody tr th:only-of-type {\n",
              "        vertical-align: middle;\n",
              "    }\n",
              "\n",
              "    .dataframe tbody tr th {\n",
              "        vertical-align: top;\n",
              "    }\n",
              "\n",
              "    .dataframe thead th {\n",
              "        text-align: right;\n",
              "    }\n",
              "</style>\n",
              "<table border=\"1\" class=\"dataframe\">\n",
              "  <thead>\n",
              "    <tr style=\"text-align: right;\">\n",
              "      <th></th>\n",
              "      <th>count</th>\n",
              "      <th>unique</th>\n",
              "      <th>top</th>\n",
              "      <th>freq</th>\n",
              "    </tr>\n",
              "  </thead>\n",
              "  <tbody>\n",
              "    <tr>\n",
              "      <th>Gender</th>\n",
              "      <td>417</td>\n",
              "      <td>2</td>\n",
              "      <td>Female</td>\n",
              "      <td>216</td>\n",
              "    </tr>\n",
              "    <tr>\n",
              "      <th>Age Range (Years)</th>\n",
              "      <td>417</td>\n",
              "      <td>3</td>\n",
              "      <td>25-40</td>\n",
              "      <td>254</td>\n",
              "    </tr>\n",
              "    <tr>\n",
              "      <th>Domicile</th>\n",
              "      <td>417</td>\n",
              "      <td>6</td>\n",
              "      <td>West Java</td>\n",
              "      <td>157</td>\n",
              "    </tr>\n",
              "    <tr>\n",
              "      <th>Marital Status</th>\n",
              "      <td>417</td>\n",
              "      <td>2</td>\n",
              "      <td>Married</td>\n",
              "      <td>293</td>\n",
              "    </tr>\n",
              "    <tr>\n",
              "      <th>Education</th>\n",
              "      <td>417</td>\n",
              "      <td>3</td>\n",
              "      <td>Bachelor</td>\n",
              "      <td>378</td>\n",
              "    </tr>\n",
              "    <tr>\n",
              "      <th>Occupation</th>\n",
              "      <td>417</td>\n",
              "      <td>8</td>\n",
              "      <td>Private Employee</td>\n",
              "      <td>188</td>\n",
              "    </tr>\n",
              "    <tr>\n",
              "      <th>Spending in a year</th>\n",
              "      <td>417</td>\n",
              "      <td>5</td>\n",
              "      <td>&lt; 200 M IDR</td>\n",
              "      <td>229</td>\n",
              "    </tr>\n",
              "    <tr>\n",
              "      <th>Vehicle Purchase Price</th>\n",
              "      <td>417</td>\n",
              "      <td>3</td>\n",
              "      <td>300-400 M IDR</td>\n",
              "      <td>342</td>\n",
              "    </tr>\n",
              "    <tr>\n",
              "      <th>Vehicle Model</th>\n",
              "      <td>417</td>\n",
              "      <td>4</td>\n",
              "      <td>City Car</td>\n",
              "      <td>167</td>\n",
              "    </tr>\n",
              "    <tr>\n",
              "      <th>Battery Charging Time</th>\n",
              "      <td>417</td>\n",
              "      <td>3</td>\n",
              "      <td>3 hours</td>\n",
              "      <td>276</td>\n",
              "    </tr>\n",
              "    <tr>\n",
              "      <th>Driving Range</th>\n",
              "      <td>417</td>\n",
              "      <td>3</td>\n",
              "      <td>350 Km</td>\n",
              "      <td>274</td>\n",
              "    </tr>\n",
              "  </tbody>\n",
              "</table>\n",
              "</div>\n",
              "      <button class=\"colab-df-convert\" onclick=\"convertToInteractive('df-e3423b48-1cab-4ade-be37-d4a78a0c2407')\"\n",
              "              title=\"Convert this dataframe to an interactive table.\"\n",
              "              style=\"display:none;\">\n",
              "        \n",
              "  <svg xmlns=\"http://www.w3.org/2000/svg\" height=\"24px\"viewBox=\"0 0 24 24\"\n",
              "       width=\"24px\">\n",
              "    <path d=\"M0 0h24v24H0V0z\" fill=\"none\"/>\n",
              "    <path d=\"M18.56 5.44l.94 2.06.94-2.06 2.06-.94-2.06-.94-.94-2.06-.94 2.06-2.06.94zm-11 1L8.5 8.5l.94-2.06 2.06-.94-2.06-.94L8.5 2.5l-.94 2.06-2.06.94zm10 10l.94 2.06.94-2.06 2.06-.94-2.06-.94-.94-2.06-.94 2.06-2.06.94z\"/><path d=\"M17.41 7.96l-1.37-1.37c-.4-.4-.92-.59-1.43-.59-.52 0-1.04.2-1.43.59L10.3 9.45l-7.72 7.72c-.78.78-.78 2.05 0 2.83L4 21.41c.39.39.9.59 1.41.59.51 0 1.02-.2 1.41-.59l7.78-7.78 2.81-2.81c.8-.78.8-2.07 0-2.86zM5.41 20L4 18.59l7.72-7.72 1.47 1.35L5.41 20z\"/>\n",
              "  </svg>\n",
              "      </button>\n",
              "      \n",
              "  <style>\n",
              "    .colab-df-container {\n",
              "      display:flex;\n",
              "      flex-wrap:wrap;\n",
              "      gap: 12px;\n",
              "    }\n",
              "\n",
              "    .colab-df-convert {\n",
              "      background-color: #E8F0FE;\n",
              "      border: none;\n",
              "      border-radius: 50%;\n",
              "      cursor: pointer;\n",
              "      display: none;\n",
              "      fill: #1967D2;\n",
              "      height: 32px;\n",
              "      padding: 0 0 0 0;\n",
              "      width: 32px;\n",
              "    }\n",
              "\n",
              "    .colab-df-convert:hover {\n",
              "      background-color: #E2EBFA;\n",
              "      box-shadow: 0px 1px 2px rgba(60, 64, 67, 0.3), 0px 1px 3px 1px rgba(60, 64, 67, 0.15);\n",
              "      fill: #174EA6;\n",
              "    }\n",
              "\n",
              "    [theme=dark] .colab-df-convert {\n",
              "      background-color: #3B4455;\n",
              "      fill: #D2E3FC;\n",
              "    }\n",
              "\n",
              "    [theme=dark] .colab-df-convert:hover {\n",
              "      background-color: #434B5C;\n",
              "      box-shadow: 0px 1px 3px 1px rgba(0, 0, 0, 0.15);\n",
              "      filter: drop-shadow(0px 1px 2px rgba(0, 0, 0, 0.3));\n",
              "      fill: #FFFFFF;\n",
              "    }\n",
              "  </style>\n",
              "\n",
              "      <script>\n",
              "        const buttonEl =\n",
              "          document.querySelector('#df-e3423b48-1cab-4ade-be37-d4a78a0c2407 button.colab-df-convert');\n",
              "        buttonEl.style.display =\n",
              "          google.colab.kernel.accessAllowed ? 'block' : 'none';\n",
              "\n",
              "        async function convertToInteractive(key) {\n",
              "          const element = document.querySelector('#df-e3423b48-1cab-4ade-be37-d4a78a0c2407');\n",
              "          const dataTable =\n",
              "            await google.colab.kernel.invokeFunction('convertToInteractive',\n",
              "                                                     [key], {});\n",
              "          if (!dataTable) return;\n",
              "\n",
              "          const docLinkHtml = 'Like what you see? Visit the ' +\n",
              "            '<a target=\"_blank\" href=https://colab.research.google.com/notebooks/data_table.ipynb>data table notebook</a>'\n",
              "            + ' to learn more about interactive tables.';\n",
              "          element.innerHTML = '';\n",
              "          dataTable['output_type'] = 'display_data';\n",
              "          await google.colab.output.renderOutput(dataTable, element);\n",
              "          const docLink = document.createElement('div');\n",
              "          docLink.innerHTML = docLinkHtml;\n",
              "          element.appendChild(docLink);\n",
              "        }\n",
              "      </script>\n",
              "    </div>\n",
              "  </div>\n",
              "  "
            ]
          },
          "metadata": {},
          "execution_count": 15
        }
      ]
    },
    {
      "cell_type": "code",
      "source": [
        "# showing the precise value counts\n",
        "# this code is especially useful if we have many categorical columns\n",
        "for col in data:\n",
        "  print(f\"Value counts of {col} column\")\n",
        "  print(data[col].value_counts(), '\\n')"
      ],
      "metadata": {
        "colab": {
          "base_uri": "https://localhost:8080/"
        },
        "id": "7ybDLVrsAVI9",
        "outputId": "07f0cd45-a155-4e49-a66c-4d7cdd73ade9"
      },
      "execution_count": 16,
      "outputs": [
        {
          "output_type": "stream",
          "name": "stdout",
          "text": [
            "Value counts of Gender column\n",
            "Female    216\n",
            "Male      201\n",
            "Name: Gender, dtype: int64 \n",
            "\n",
            "Value counts of Age Range (Years) column\n",
            "25-40         254\n",
            "18-24         106\n",
            "above 40       57\n",
            "Name: Age Range (Years), dtype: int64 \n",
            "\n",
            "Value counts of Domicile column\n",
            "West Java                157\n",
            "Jakarta surround area    139\n",
            "East Indonesia            42\n",
            "Sumatera                  33\n",
            "Borneo                    24\n",
            "Center & East Java        22\n",
            "Name: Domicile, dtype: int64 \n",
            "\n",
            "Value counts of Marital Status column\n",
            "Married      293\n",
            "Unmarried    124\n",
            "Name: Marital Status, dtype: int64 \n",
            "\n",
            "Value counts of Education column\n",
            "Bachelor             378\n",
            "Magister/Doctoral     21\n",
            "High School           18\n",
            "Name: Education, dtype: int64 \n",
            "\n",
            "Value counts of Occupation column\n",
            "Private Employee        188\n",
            "Student                  89\n",
            "Self-employed            42\n",
            "Government Employees     30\n",
            "Housewife                29\n",
            "Teacher/Lecturer         16\n",
            "Others                   16\n",
            "Retired                   7\n",
            "Name: Occupation, dtype: int64 \n",
            "\n",
            "Value counts of Spending in a year column\n",
            "< 200 M IDR          229\n",
            "200-250 M IDR         90\n",
            "250-300 M IDR         45\n",
            "300-350 M IDR         29\n",
            "above 350 M IDR       24\n",
            "Name: Spending in a year, dtype: int64 \n",
            "\n",
            "Value counts of Vehicle Purchase Price  column\n",
            "300-400 M IDR        342\n",
            "400-500 M IDR         52\n",
            "above 500 M IDR       23\n",
            "Name: Vehicle Purchase Price , dtype: int64 \n",
            "\n",
            "Value counts of Vehicle Model column\n",
            "City Car    167\n",
            "MPV         160\n",
            "SUV          75\n",
            "Sedan        15\n",
            "Name: Vehicle Model, dtype: int64 \n",
            "\n",
            "Value counts of Battery Charging Time column\n",
            "3 hours    276\n",
            "5 hours    119\n",
            "8 hours     22\n",
            "Name: Battery Charging Time, dtype: int64 \n",
            "\n",
            "Value counts of Driving Range  column\n",
            "350 Km    274\n",
            "300 Km     82\n",
            "250 Km     61\n",
            "Name: Driving Range , dtype: int64 \n",
            "\n"
          ]
        }
      ]
    },
    {
      "cell_type": "markdown",
      "source": [
        "# 3. Perform Exploratory Data Analysis"
      ],
      "metadata": {
        "id": "2XLBXwfB-DRs"
      }
    },
    {
      "cell_type": "markdown",
      "source": [
        "## Univariat Analysis"
      ],
      "metadata": {
        "id": "njv20av0Axly"
      }
    },
    {
      "cell_type": "code",
      "source": [
        "# count plot on Gender feature\n",
        "sns.countplot(data['Gender'], order=data['Gender'].value_counts(ascending=False).index)\n",
        "\n",
        " \n",
        "# Show the plot\n",
        "plt.show()"
      ],
      "metadata": {
        "colab": {
          "base_uri": "https://localhost:8080/",
          "height": 279
        },
        "id": "k9-JcJidMOSL",
        "outputId": "5b425db0-714a-46ef-9e4a-2e07a38ee623"
      },
      "execution_count": 17,
      "outputs": [
        {
          "output_type": "display_data",
          "data": {
            "text/plain": [
              "<Figure size 432x288 with 1 Axes>"
            ],
            "image/png": "[encoded data removed]"
          },
          "metadata": {
            "needs_background": "light"
          }
        }
      ]
    },
    {
      "cell_type": "markdown",
      "source": [
        "Observation:\n",
        "From above Barplot show that Female 216, Male 201, it's quite balance & representative enough to do further analysis."
      ],
      "metadata": {
        "id": "e6wHencq20pM"
      }
    },
    {
      "cell_type": "code",
      "source": [
        "# count plot on Age Range (Years) feature\n",
        "sns.countplot(data['Age Range (Years)'], order=data['Age Range (Years)'].value_counts(ascending=False).index)\n",
        " \n",
        "# Show the plot\n",
        "plt.show()"
      ],
      "metadata": {
        "colab": {
          "base_uri": "https://localhost:8080/",
          "height": 279
        },
        "id": "gSbvihyE23-Y",
        "outputId": "169cf832-b927-40a5-8936-9b5a9cbcc440"
      },
      "execution_count": 18,
      "outputs": [
        {
          "output_type": "display_data",
          "data": {
            "text/plain": [
              "<Figure size 432x288 with 1 Axes>"
            ],
            "image/png": "[encoded data removed]"
          },
          "metadata": {
            "needs_background": "light"
          }
        }
      ]
    },
    {
      "cell_type": "markdown",
      "source": [
        "Observation:\n",
        "Generation distribution of these respondent survey are, Millenials (25-40 yo) 254 peoples, Gen-Z (18-24 yo) 106 peoples, & Babyboomers (above 40 yo) 57 peoples."
      ],
      "metadata": {
        "id": "iVuXsnl53DUH"
      }
    },
    {
      "cell_type": "code",
      "source": [
        "# count plot on Domicile feature\n",
        "sns.countplot(data['Domicile'], order=data['Domicile'].value_counts(ascending=False).index)\n",
        "plt.xticks(rotation=90)\n",
        " \n",
        "# Show the plot\n",
        "plt.show()"
      ],
      "metadata": {
        "colab": {
          "base_uri": "https://localhost:8080/",
          "height": 377
        },
        "id": "oFr36lh43FYx",
        "outputId": "4b28d150-d604-45bb-c3fb-31a20b5c3de4"
      },
      "execution_count": 19,
      "outputs": [
        {
          "output_type": "display_data",
          "data": {
            "text/plain": [
              "<Figure size 432x288 with 1 Axes>"
            ],
            "image/png": "[encoded data removed]"
          },
          "metadata": {
            "needs_background": "light"
          }
        }
      ]
    },
    {
      "cell_type": "markdown",
      "source": [
        "Observation: Domicile respondent berakdown West Java 157 peoples, Jakarta surround area 139 peoples, East Indonesia 42 peoples, Sumatera 33 peoples, Borneo 24 peoples, Center & East Java 22 peoples"
      ],
      "metadata": {
        "id": "T7TINT_a4kpE"
      }
    },
    {
      "cell_type": "code",
      "source": [
        "# count plot on Marital Status feature\n",
        "sns.countplot(data['Marital Status'], order=data['Marital Status'].value_counts(ascending=False).index)\n",
        "\n",
        " \n",
        "# Show the plot\n",
        "plt.show()"
      ],
      "metadata": {
        "colab": {
          "base_uri": "https://localhost:8080/",
          "height": 279
        },
        "id": "cS4DVIXz5CMy",
        "outputId": "c0c3d6bb-baa0-4699-8542-39760212f2b8"
      },
      "execution_count": 20,
      "outputs": [
        {
          "output_type": "display_data",
          "data": {
            "text/plain": [
              "<Figure size 432x288 with 1 Axes>"
            ],
            "image/png": "[encoded data removed]"
          },
          "metadata": {
            "needs_background": "light"
          }
        }
      ]
    },
    {
      "cell_type": "markdown",
      "source": [
        "Observation:\n",
        "From above Barplot show that Married 293, Unmarried 124, Married respondent dominated this survey."
      ],
      "metadata": {
        "id": "D92GTnZn88OS"
      }
    },
    {
      "cell_type": "code",
      "source": [
        "# count plot on Education feature\n",
        "sns.countplot(data['Education'], order=data['Education'].value_counts(ascending=False).index)\n",
        "\n",
        " \n",
        "# Show the plot\n",
        "plt.show()"
      ],
      "metadata": {
        "colab": {
          "base_uri": "https://localhost:8080/",
          "height": 279
        },
        "id": "qURxcHZo9DMH",
        "outputId": "c13f20a6-f9a9-4299-9797-29702e87f1a7"
      },
      "execution_count": 21,
      "outputs": [
        {
          "output_type": "display_data",
          "data": {
            "text/plain": [
              "<Figure size 432x288 with 1 Axes>"
            ],
            "image/png": "[encoded data removed]"
          },
          "metadata": {
            "needs_background": "light"
          }
        }
      ]
    },
    {
      "cell_type": "markdown",
      "source": [
        "Observation:\n",
        "Education level of respondent dominated by Bachelor 378 peoples, Magister/Doctoral 21 peoples & High School 18 peoples."
      ],
      "metadata": {
        "id": "wQQs6-lP_czA"
      }
    },
    {
      "cell_type": "code",
      "source": [
        "# count plot on Occupation feature\n",
        "sns.countplot(data['Occupation'], order=data['Occupation'].value_counts(ascending=False).index)\n",
        "plt.xticks(rotation=90)\n",
        "\n",
        " \n",
        "# Show the plot\n",
        "plt.show()"
      ],
      "metadata": {
        "colab": {
          "base_uri": "https://localhost:8080/",
          "height": 389
        },
        "id": "DIa9E9PM9UzO",
        "outputId": "b065d40d-8650-4df2-81cf-87c90dc4cbb9"
      },
      "execution_count": 22,
      "outputs": [
        {
          "output_type": "display_data",
          "data": {
            "text/plain": [
              "<Figure size 432x288 with 1 Axes>"
            ],
            "image/png": "[encoded data removed]"
          },
          "metadata": {
            "needs_background": "light"
          }
        }
      ]
    },
    {
      "cell_type": "markdown",
      "source": [
        "Observation:\n",
        "Profession of respondent dominated by Private Employee 188 peoples,\n",
        "Student 89 peoples, Self-employed 42 peoples, Government Employees 30 peoples, Housewife 29 peoples, Teacher/Lecturer 16 peoples, Retired 7 peoples & Others 16 "
      ],
      "metadata": {
        "id": "z5xETe-c_f17"
      }
    },
    {
      "cell_type": "code",
      "source": [
        "# count plot on Spending in a year feature\n",
        "sns.countplot(data['Spending in a year'], order=data['Spending in a year'].value_counts(ascending=False).index)\n",
        "plt.xticks(rotation=90)\n",
        "\n",
        " \n",
        "# Show the plot\n",
        "plt.show()"
      ],
      "metadata": {
        "colab": {
          "base_uri": "https://localhost:8080/",
          "height": 360
        },
        "id": "pcGoDO229lKL",
        "outputId": "21d1ff5b-e70a-43fa-951f-25e8b2f6cef9"
      },
      "execution_count": 23,
      "outputs": [
        {
          "output_type": "display_data",
          "data": {
            "text/plain": [
              "<Figure size 432x288 with 1 Axes>"
            ],
            "image/png": "[encoded data removed]"
          },
          "metadata": {
            "needs_background": "light"
          }
        }
      ]
    },
    {
      "cell_type": "markdown",
      "source": [
        "Observation: \n",
        "Yearly spending of each respondent from survey show that < 200 M IDR 229 peoples, 200-250 M IDR 90 peoples, 250-300 M IDR 45 peoples, 300-350 M IDR 29 peoples, above 350 M IDR 24 peoples."
      ],
      "metadata": {
        "id": "yzQjXLyN_inY"
      }
    },
    {
      "cell_type": "code",
      "source": [
        "# count plot on Vehicle Purchase Price feature\n",
        "sns.countplot(data['Vehicle Purchase Price '], order=data['Vehicle Purchase Price '].value_counts(ascending=False).index)\n",
        "\n",
        "\n",
        " \n",
        "# Show the plot\n",
        "plt.show()"
      ],
      "metadata": {
        "colab": {
          "base_uri": "https://localhost:8080/",
          "height": 279
        },
        "id": "oSZWKASoQ1VV",
        "outputId": "2256c238-dc21-494e-8239-a5f60eca83a5"
      },
      "execution_count": 24,
      "outputs": [
        {
          "output_type": "display_data",
          "data": {
            "text/plain": [
              "<Figure size 432x288 with 1 Axes>"
            ],
            "image/png": "[encoded data removed]"
          },
          "metadata": {
            "needs_background": "light"
          }
        }
      ]
    },
    {
      "cell_type": "markdown",
      "source": [
        "Observation: \n",
        "Vehicle Purchase that respondent desirable are 300-400 M IDR 342 peoples, 400-500 M IDR 52 peoples & above 500 M IDR 23 peoples."
      ],
      "metadata": {
        "id": "wCth_h4vRKTw"
      }
    },
    {
      "cell_type": "code",
      "source": [
        "# count plot on Vehicle Model feature\n",
        "sns.countplot(data['Vehicle Model'], order=data['Vehicle Model'].value_counts(ascending=False).index)\n",
        "\n",
        " \n",
        "# Show the plot\n",
        "plt.show()"
      ],
      "metadata": {
        "colab": {
          "base_uri": "https://localhost:8080/",
          "height": 279
        },
        "id": "8JwN436U-7Az",
        "outputId": "cbcaba1c-cbe1-45b9-faeb-ca5e4964fc48"
      },
      "execution_count": 25,
      "outputs": [
        {
          "output_type": "display_data",
          "data": {
            "text/plain": [
              "<Figure size 432x288 with 1 Axes>"
            ],
            "image/png": "[encoded data removed]"
          },
          "metadata": {
            "needs_background": "light"
          }
        }
      ]
    },
    {
      "cell_type": "markdown",
      "source": [
        "Observation: \n",
        "Favorable car type fromrespondent are City Car 167 peoples, MPV 160 peoples, SUV 75 peoples & Sedan 15 peoples"
      ],
      "metadata": {
        "id": "UMWvMMIj_lKg"
      }
    },
    {
      "cell_type": "code",
      "source": [
        "# count plot on Battery Charging Timel feature\n",
        "sns.countplot(data['Battery Charging Time'], order=data['Battery Charging Time'].value_counts(ascending=False).index)\n",
        "\n",
        " \n",
        "# Show the plot\n",
        "plt.show()"
      ],
      "metadata": {
        "colab": {
          "base_uri": "https://localhost:8080/",
          "height": 279
        },
        "id": "Hc4l0Q1K_LwH",
        "outputId": "1eec762e-daa3-4bc5-8829-0d8106c939c7"
      },
      "execution_count": 26,
      "outputs": [
        {
          "output_type": "display_data",
          "data": {
            "text/plain": [
              "<Figure size 432x288 with 1 Axes>"
            ],
            "image/png": "[encoded data removed]"
          },
          "metadata": {
            "needs_background": "light"
          }
        }
      ]
    },
    {
      "cell_type": "markdown",
      "source": [
        "Observation: \n",
        "Battery Charging time desriable by respondent are 3 hours 276 peoples, 5 hours 119 peoples & 8 hours 22 peoples"
      ],
      "metadata": {
        "id": "URvh2BLL_njU"
      }
    },
    {
      "cell_type": "code",
      "source": [
        "# count plot on Driving Range Time feature\n",
        "sns.countplot(data['Driving Range '], order=data['Driving Range '].value_counts(ascending=False).index)\n",
        "\n",
        " \n",
        "# Show the plot\n",
        "plt.show()"
      ],
      "metadata": {
        "colab": {
          "base_uri": "https://localhost:8080/",
          "height": 279
        },
        "id": "V_vBNo4m_pjA",
        "outputId": "9a059af0-7e5a-4e63-ead0-3b86064f17f3"
      },
      "execution_count": 27,
      "outputs": [
        {
          "output_type": "display_data",
          "data": {
            "text/plain": [
              "<Figure size 432x288 with 1 Axes>"
            ],
            "image/png": "[encoded data removed]"
          },
          "metadata": {
            "needs_background": "light"
          }
        }
      ]
    },
    {
      "cell_type": "markdown",
      "source": [
        "Observation:\n",
        "Driving Range desriable by respondent are 350 Km 274 peoples, 300 Km 82 peoples & 250 Km 61 peoples."
      ],
      "metadata": {
        "id": "CnmqbWda_4ZA"
      }
    },
    {
      "cell_type": "markdown",
      "source": [
        "## Multivariate Analysis"
      ],
      "metadata": {
        "id": "rP0tdC0rFoeG"
      }
    },
    {
      "cell_type": "code",
      "source": [
        "# adjust the figure size for better readability\n",
        "plt.figure(figsize=(12,8))\n",
        "\n",
        "# Spending with Vehicle Purchase relation\n",
        "sns.countplot(data=data,\n",
        "            hue='Vehicle Purchase Price ',\n",
        "            x='Spending in a year')"
      ],
      "metadata": {
        "colab": {
          "base_uri": "https://localhost:8080/",
          "height": 514
        },
        "id": "ZMZxdRBt0T4J",
        "outputId": "d4d8ef0f-e086-46fa-d21d-dad58bca5fab"
      },
      "execution_count": 77,
      "outputs": [
        {
          "output_type": "execute_result",
          "data": {
            "text/plain": [
              "<matplotlib.axes._subplots.AxesSubplot at 0x7f3cd89d6f90>"
            ]
          },
          "metadata": {},
          "execution_count": 77
        },
        {
          "output_type": "display_data",
          "data": {
            "text/plain": [
              "<Figure size 864x576 with 1 Axes>"
            ],
            "image/png": "[encoded data removed]"
          },
          "metadata": {
            "needs_background": "light"
          }
        }
      ]
    },
    {
      "cell_type": "markdown",
      "source": [
        "Observation:\n",
        "Respondent with Spending < 200 M IDR up to 300 M IDR consider to buy electric vehicle with price 300-400 M IDR. While Respondent with Spending 300 - above 350 M IDR consider Electric Vehicle with price above 500 M IDR."
      ],
      "metadata": {
        "id": "i_swjYY71RyD"
      }
    },
    {
      "cell_type": "code",
      "source": [
        "# adjust the figure size for better readability\n",
        "plt.figure(figsize=(12,8))\n",
        "\n",
        "# Gender with Vehicle model relation\n",
        "\n",
        "feat = 'Vehicle Model'\n",
        "hue = 'Gender'\n",
        "hue_type = data[hue].dtype.type\n",
        "\n",
        "groups = data[feat].unique()\n",
        "proportions = data.groupby(feat)[hue].value_counts(normalize=True)\n",
        "\n",
        "ax = sns.countplot(x=feat, hue=hue, data=data)\n",
        "\n",
        "for c in ax.containers:\n",
        "    labels = [f'{proportions.loc[g, hue_type(c.get_label())]:.1%}' for g in groups]"
      ],
      "metadata": {
        "colab": {
          "base_uri": "https://localhost:8080/",
          "height": 497
        },
        "id": "jVTfwVz2Fvcc",
        "outputId": "9152a442-d70c-4349-cc99-a6fc113fd0e7"
      },
      "execution_count": 28,
      "outputs": [
        {
          "output_type": "display_data",
          "data": {
            "text/plain": [
              "<Figure size 864x576 with 1 Axes>"
            ],
            "image/png": "[encoded data removed]"
          },
          "metadata": {
            "needs_background": "light"
          }
        }
      ]
    },
    {
      "cell_type": "markdown",
      "source": [
        "Observation:\n",
        "Female favorable City Car, SUV & Sedan. While Male desirable MPV type."
      ],
      "metadata": {
        "id": "Acy93Bn5F1Dx"
      }
    },
    {
      "cell_type": "code",
      "source": [
        "# adjust the figure size for better readability\n",
        "plt.figure(figsize=(12,8))\n",
        "\n",
        "# Age Range with Vehicle Model relation\n",
        "sns.countplot(data=data,\n",
        "            hue='Age Range (Years)',\n",
        "            x='Vehicle Model')"
      ],
      "metadata": {
        "colab": {
          "base_uri": "https://localhost:8080/",
          "height": 514
        },
        "id": "y-EamcBLH3bU",
        "outputId": "475b9bd6-a4ed-4ae7-cd64-9f5db77ee8f7"
      },
      "execution_count": 29,
      "outputs": [
        {
          "output_type": "execute_result",
          "data": {
            "text/plain": [
              "<matplotlib.axes._subplots.AxesSubplot at 0x7f3cd98e1710>"
            ]
          },
          "metadata": {},
          "execution_count": 29
        },
        {
          "output_type": "display_data",
          "data": {
            "text/plain": [
              "<Figure size 864x576 with 1 Axes>"
            ],
            "image/png": "[encoded data removed]"
          },
          "metadata": {
            "needs_background": "light"
          }
        }
      ]
    },
    {
      "cell_type": "markdown",
      "source": [
        "Observation:\n",
        "Millenials favorable MPV, City car, Gen-z love City car & Babyboomers love MPV & City Car."
      ],
      "metadata": {
        "id": "UzPXl8GcGjHQ"
      }
    },
    {
      "cell_type": "code",
      "source": [
        "data.groupby(['Battery Charging Time','Driving Range ']).agg(distinct_name = ('Vehicle Model','nunique'))"
      ],
      "metadata": {
        "colab": {
          "base_uri": "https://localhost:8080/",
          "height": 332
        },
        "id": "fC35htZ7IMdB",
        "outputId": "58541b36-c15d-48ac-8b29-d2ce4296dce3"
      },
      "execution_count": 30,
      "outputs": [
        {
          "output_type": "execute_result",
          "data": {
            "text/plain": [
              "                                      distinct_name\n",
              "Battery Charging Time Driving Range                \n",
              "3 hours               250 Km                      4\n",
              "                      300 Km                      4\n",
              "                      350 Km                      4\n",
              "5 hours               250 Km                      3\n",
              "                      300 Km                      3\n",
              "                      350 Km                      4\n",
              "8 hours               300 Km                      1\n",
              "                      350 Km                      4"
            ],
            "text/html": [
              "\n",
              "  <div id=\"df-331b5cc7-c952-415d-82e2-282f9d34dede\">\n",
              "    <div class=\"colab-df-container\">\n",
              "      <div>\n",
              "<style scoped>\n",
              "    .dataframe tbody tr th:only-of-type {\n",
              "        vertical-align: middle;\n",
              "    }\n",
              "\n",
              "    .dataframe tbody tr th {\n",
              "        vertical-align: top;\n",
              "    }\n",
              "\n",
              "    .dataframe thead th {\n",
              "        text-align: right;\n",
              "    }\n",
              "</style>\n",
              "<table border=\"1\" class=\"dataframe\">\n",
              "  <thead>\n",
              "    <tr style=\"text-align: right;\">\n",
              "      <th></th>\n",
              "      <th></th>\n",
              "      <th>distinct_name</th>\n",
              "    </tr>\n",
              "    <tr>\n",
              "      <th>Battery Charging Time</th>\n",
              "      <th>Driving Range</th>\n",
              "      <th></th>\n",
              "    </tr>\n",
              "  </thead>\n",
              "  <tbody>\n",
              "    <tr>\n",
              "      <th rowspan=\"3\" valign=\"top\">3 hours</th>\n",
              "      <th>250 Km</th>\n",
              "      <td>4</td>\n",
              "    </tr>\n",
              "    <tr>\n",
              "      <th>300 Km</th>\n",
              "      <td>4</td>\n",
              "    </tr>\n",
              "    <tr>\n",
              "      <th>350 Km</th>\n",
              "      <td>4</td>\n",
              "    </tr>\n",
              "    <tr>\n",
              "      <th rowspan=\"3\" valign=\"top\">5 hours</th>\n",
              "      <th>250 Km</th>\n",
              "      <td>3</td>\n",
              "    </tr>\n",
              "    <tr>\n",
              "      <th>300 Km</th>\n",
              "      <td>3</td>\n",
              "    </tr>\n",
              "    <tr>\n",
              "      <th>350 Km</th>\n",
              "      <td>4</td>\n",
              "    </tr>\n",
              "    <tr>\n",
              "      <th rowspan=\"2\" valign=\"top\">8 hours</th>\n",
              "      <th>300 Km</th>\n",
              "      <td>1</td>\n",
              "    </tr>\n",
              "    <tr>\n",
              "      <th>350 Km</th>\n",
              "      <td>4</td>\n",
              "    </tr>\n",
              "  </tbody>\n",
              "</table>\n",
              "</div>\n",
              "      <button class=\"colab-df-convert\" onclick=\"convertToInteractive('df-331b5cc7-c952-415d-82e2-282f9d34dede')\"\n",
              "              title=\"Convert this dataframe to an interactive table.\"\n",
              "              style=\"display:none;\">\n",
              "        \n",
              "  <svg xmlns=\"http://www.w3.org/2000/svg\" height=\"24px\"viewBox=\"0 0 24 24\"\n",
              "       width=\"24px\">\n",
              "    <path d=\"M0 0h24v24H0V0z\" fill=\"none\"/>\n",
              "    <path d=\"M18.56 5.44l.94 2.06.94-2.06 2.06-.94-2.06-.94-.94-2.06-.94 2.06-2.06.94zm-11 1L8.5 8.5l.94-2.06 2.06-.94-2.06-.94L8.5 2.5l-.94 2.06-2.06.94zm10 10l.94 2.06.94-2.06 2.06-.94-2.06-.94-.94-2.06-.94 2.06-2.06.94z\"/><path d=\"M17.41 7.96l-1.37-1.37c-.4-.4-.92-.59-1.43-.59-.52 0-1.04.2-1.43.59L10.3 9.45l-7.72 7.72c-.78.78-.78 2.05 0 2.83L4 21.41c.39.39.9.59 1.41.59.51 0 1.02-.2 1.41-.59l7.78-7.78 2.81-2.81c.8-.78.8-2.07 0-2.86zM5.41 20L4 18.59l7.72-7.72 1.47 1.35L5.41 20z\"/>\n",
              "  </svg>\n",
              "      </button>\n",
              "      \n",
              "  <style>\n",
              "    .colab-df-container {\n",
              "      display:flex;\n",
              "      flex-wrap:wrap;\n",
              "      gap: 12px;\n",
              "    }\n",
              "\n",
              "    .colab-df-convert {\n",
              "      background-color: #E8F0FE;\n",
              "      border: none;\n",
              "      border-radius: 50%;\n",
              "      cursor: pointer;\n",
              "      display: none;\n",
              "      fill: #1967D2;\n",
              "      height: 32px;\n",
              "      padding: 0 0 0 0;\n",
              "      width: 32px;\n",
              "    }\n",
              "\n",
              "    .colab-df-convert:hover {\n",
              "      background-color: #E2EBFA;\n",
              "      box-shadow: 0px 1px 2px rgba(60, 64, 67, 0.3), 0px 1px 3px 1px rgba(60, 64, 67, 0.15);\n",
              "      fill: #174EA6;\n",
              "    }\n",
              "\n",
              "    [theme=dark] .colab-df-convert {\n",
              "      background-color: #3B4455;\n",
              "      fill: #D2E3FC;\n",
              "    }\n",
              "\n",
              "    [theme=dark] .colab-df-convert:hover {\n",
              "      background-color: #434B5C;\n",
              "      box-shadow: 0px 1px 3px 1px rgba(0, 0, 0, 0.15);\n",
              "      filter: drop-shadow(0px 1px 2px rgba(0, 0, 0, 0.3));\n",
              "      fill: #FFFFFF;\n",
              "    }\n",
              "  </style>\n",
              "\n",
              "      <script>\n",
              "        const buttonEl =\n",
              "          document.querySelector('#df-331b5cc7-c952-415d-82e2-282f9d34dede button.colab-df-convert');\n",
              "        buttonEl.style.display =\n",
              "          google.colab.kernel.accessAllowed ? 'block' : 'none';\n",
              "\n",
              "        async function convertToInteractive(key) {\n",
              "          const element = document.querySelector('#df-331b5cc7-c952-415d-82e2-282f9d34dede');\n",
              "          const dataTable =\n",
              "            await google.colab.kernel.invokeFunction('convertToInteractive',\n",
              "                                                     [key], {});\n",
              "          if (!dataTable) return;\n",
              "\n",
              "          const docLinkHtml = 'Like what you see? Visit the ' +\n",
              "            '<a target=\"_blank\" href=https://colab.research.google.com/notebooks/data_table.ipynb>data table notebook</a>'\n",
              "            + ' to learn more about interactive tables.';\n",
              "          element.innerHTML = '';\n",
              "          dataTable['output_type'] = 'display_data';\n",
              "          await google.colab.output.renderOutput(dataTable, element);\n",
              "          const docLink = document.createElement('div');\n",
              "          docLink.innerHTML = docLinkHtml;\n",
              "          element.appendChild(docLink);\n",
              "        }\n",
              "      </script>\n",
              "    </div>\n",
              "  </div>\n",
              "  "
            ]
          },
          "metadata": {},
          "execution_count": 30
        }
      ]
    },
    {
      "cell_type": "markdown",
      "source": [
        "Observation:\n",
        "Only Electric Vehicle with 8 hours Charging time doesn't have 250 Km driving range combination choosed by respondent"
      ],
      "metadata": {
        "id": "49w2kHc1L3Gi"
      }
    },
    {
      "cell_type": "code",
      "source": [
        "data.groupby(['Vehicle Model','Driving Range ']).agg(distinct_name = ('Battery Charging Time','nunique'))"
      ],
      "metadata": {
        "colab": {
          "base_uri": "https://localhost:8080/",
          "height": 457
        },
        "id": "V9u-APOCK5_W",
        "outputId": "9c7f8eca-4d14-4db0-f82c-1420ebaf094e"
      },
      "execution_count": 31,
      "outputs": [
        {
          "output_type": "execute_result",
          "data": {
            "text/plain": [
              "                              distinct_name\n",
              "Vehicle Model Driving Range                \n",
              "City Car      250 Km                      2\n",
              "              300 Km                      2\n",
              "              350 Km                      3\n",
              "MPV           250 Km                      2\n",
              "              300 Km                      2\n",
              "              350 Km                      3\n",
              "SUV           250 Km                      2\n",
              "              300 Km                      3\n",
              "              350 Km                      3\n",
              "Sedan         250 Km                      1\n",
              "              300 Km                      1\n",
              "              350 Km                      3"
            ],
            "text/html": [
              "\n",
              "  <div id=\"df-18103a15-73a1-449a-8fce-abb22350e955\">\n",
              "    <div class=\"colab-df-container\">\n",
              "      <div>\n",
              "<style scoped>\n",
              "    .dataframe tbody tr th:only-of-type {\n",
              "        vertical-align: middle;\n",
              "    }\n",
              "\n",
              "    .dataframe tbody tr th {\n",
              "        vertical-align: top;\n",
              "    }\n",
              "\n",
              "    .dataframe thead th {\n",
              "        text-align: right;\n",
              "    }\n",
              "</style>\n",
              "<table border=\"1\" class=\"dataframe\">\n",
              "  <thead>\n",
              "    <tr style=\"text-align: right;\">\n",
              "      <th></th>\n",
              "      <th></th>\n",
              "      <th>distinct_name</th>\n",
              "    </tr>\n",
              "    <tr>\n",
              "      <th>Vehicle Model</th>\n",
              "      <th>Driving Range</th>\n",
              "      <th></th>\n",
              "    </tr>\n",
              "  </thead>\n",
              "  <tbody>\n",
              "    <tr>\n",
              "      <th rowspan=\"3\" valign=\"top\">City Car</th>\n",
              "      <th>250 Km</th>\n",
              "      <td>2</td>\n",
              "    </tr>\n",
              "    <tr>\n",
              "      <th>300 Km</th>\n",
              "      <td>2</td>\n",
              "    </tr>\n",
              "    <tr>\n",
              "      <th>350 Km</th>\n",
              "      <td>3</td>\n",
              "    </tr>\n",
              "    <tr>\n",
              "      <th rowspan=\"3\" valign=\"top\">MPV</th>\n",
              "      <th>250 Km</th>\n",
              "      <td>2</td>\n",
              "    </tr>\n",
              "    <tr>\n",
              "      <th>300 Km</th>\n",
              "      <td>2</td>\n",
              "    </tr>\n",
              "    <tr>\n",
              "      <th>350 Km</th>\n",
              "      <td>3</td>\n",
              "    </tr>\n",
              "    <tr>\n",
              "      <th rowspan=\"3\" valign=\"top\">SUV</th>\n",
              "      <th>250 Km</th>\n",
              "      <td>2</td>\n",
              "    </tr>\n",
              "    <tr>\n",
              "      <th>300 Km</th>\n",
              "      <td>3</td>\n",
              "    </tr>\n",
              "    <tr>\n",
              "      <th>350 Km</th>\n",
              "      <td>3</td>\n",
              "    </tr>\n",
              "    <tr>\n",
              "      <th rowspan=\"3\" valign=\"top\">Sedan</th>\n",
              "      <th>250 Km</th>\n",
              "      <td>1</td>\n",
              "    </tr>\n",
              "    <tr>\n",
              "      <th>300 Km</th>\n",
              "      <td>1</td>\n",
              "    </tr>\n",
              "    <tr>\n",
              "      <th>350 Km</th>\n",
              "      <td>3</td>\n",
              "    </tr>\n",
              "  </tbody>\n",
              "</table>\n",
              "</div>\n",
              "      <button class=\"colab-df-convert\" onclick=\"convertToInteractive('df-18103a15-73a1-449a-8fce-abb22350e955')\"\n",
              "              title=\"Convert this dataframe to an interactive table.\"\n",
              "              style=\"display:none;\">\n",
              "        \n",
              "  <svg xmlns=\"http://www.w3.org/2000/svg\" height=\"24px\"viewBox=\"0 0 24 24\"\n",
              "       width=\"24px\">\n",
              "    <path d=\"M0 0h24v24H0V0z\" fill=\"none\"/>\n",
              "    <path d=\"M18.56 5.44l.94 2.06.94-2.06 2.06-.94-2.06-.94-.94-2.06-.94 2.06-2.06.94zm-11 1L8.5 8.5l.94-2.06 2.06-.94-2.06-.94L8.5 2.5l-.94 2.06-2.06.94zm10 10l.94 2.06.94-2.06 2.06-.94-2.06-.94-.94-2.06-.94 2.06-2.06.94z\"/><path d=\"M17.41 7.96l-1.37-1.37c-.4-.4-.92-.59-1.43-.59-.52 0-1.04.2-1.43.59L10.3 9.45l-7.72 7.72c-.78.78-.78 2.05 0 2.83L4 21.41c.39.39.9.59 1.41.59.51 0 1.02-.2 1.41-.59l7.78-7.78 2.81-2.81c.8-.78.8-2.07 0-2.86zM5.41 20L4 18.59l7.72-7.72 1.47 1.35L5.41 20z\"/>\n",
              "  </svg>\n",
              "      </button>\n",
              "      \n",
              "  <style>\n",
              "    .colab-df-container {\n",
              "      display:flex;\n",
              "      flex-wrap:wrap;\n",
              "      gap: 12px;\n",
              "    }\n",
              "\n",
              "    .colab-df-convert {\n",
              "      background-color: #E8F0FE;\n",
              "      border: none;\n",
              "      border-radius: 50%;\n",
              "      cursor: pointer;\n",
              "      display: none;\n",
              "      fill: #1967D2;\n",
              "      height: 32px;\n",
              "      padding: 0 0 0 0;\n",
              "      width: 32px;\n",
              "    }\n",
              "\n",
              "    .colab-df-convert:hover {\n",
              "      background-color: #E2EBFA;\n",
              "      box-shadow: 0px 1px 2px rgba(60, 64, 67, 0.3), 0px 1px 3px 1px rgba(60, 64, 67, 0.15);\n",
              "      fill: #174EA6;\n",
              "    }\n",
              "\n",
              "    [theme=dark] .colab-df-convert {\n",
              "      background-color: #3B4455;\n",
              "      fill: #D2E3FC;\n",
              "    }\n",
              "\n",
              "    [theme=dark] .colab-df-convert:hover {\n",
              "      background-color: #434B5C;\n",
              "      box-shadow: 0px 1px 3px 1px rgba(0, 0, 0, 0.15);\n",
              "      filter: drop-shadow(0px 1px 2px rgba(0, 0, 0, 0.3));\n",
              "      fill: #FFFFFF;\n",
              "    }\n",
              "  </style>\n",
              "\n",
              "      <script>\n",
              "        const buttonEl =\n",
              "          document.querySelector('#df-18103a15-73a1-449a-8fce-abb22350e955 button.colab-df-convert');\n",
              "        buttonEl.style.display =\n",
              "          google.colab.kernel.accessAllowed ? 'block' : 'none';\n",
              "\n",
              "        async function convertToInteractive(key) {\n",
              "          const element = document.querySelector('#df-18103a15-73a1-449a-8fce-abb22350e955');\n",
              "          const dataTable =\n",
              "            await google.colab.kernel.invokeFunction('convertToInteractive',\n",
              "                                                     [key], {});\n",
              "          if (!dataTable) return;\n",
              "\n",
              "          const docLinkHtml = 'Like what you see? Visit the ' +\n",
              "            '<a target=\"_blank\" href=https://colab.research.google.com/notebooks/data_table.ipynb>data table notebook</a>'\n",
              "            + ' to learn more about interactive tables.';\n",
              "          element.innerHTML = '';\n",
              "          dataTable['output_type'] = 'display_data';\n",
              "          await google.colab.output.renderOutput(dataTable, element);\n",
              "          const docLink = document.createElement('div');\n",
              "          docLink.innerHTML = docLinkHtml;\n",
              "          element.appendChild(docLink);\n",
              "        }\n",
              "      </script>\n",
              "    </div>\n",
              "  </div>\n",
              "  "
            ]
          },
          "metadata": {},
          "execution_count": 31
        }
      ]
    },
    {
      "cell_type": "markdown",
      "source": [
        "Observation:\n",
        "Sedan type have less combination of Driving Range & Battery Cahrging time tahn any type of cars."
      ],
      "metadata": {
        "id": "jtGCNv2tMZ9-"
      }
    },
    {
      "cell_type": "markdown",
      "source": [
        "# 4. Clustering model (K-modes)"
      ],
      "metadata": {
        "id": "pCR637p84_Zq"
      }
    },
    {
      "cell_type": "markdown",
      "source": [
        "## Create data copy"
      ],
      "metadata": {
        "id": "_NpHv7Vx5DKY"
      }
    },
    {
      "cell_type": "code",
      "source": [
        "data_copy = data.copy()"
      ],
      "metadata": {
        "id": "ZP1fmqEW9XMQ"
      },
      "execution_count": 32,
      "outputs": []
    },
    {
      "cell_type": "markdown",
      "source": [
        "## Data preparation"
      ],
      "metadata": {
        "id": "WT3Qr8wAOhNt"
      }
    },
    {
      "cell_type": "code",
      "source": [
        "from sklearn import preprocessing\n",
        "le = preprocessing.LabelEncoder()\n",
        "data = data.apply(le.fit_transform)\n",
        "data.head()"
      ],
      "metadata": {
        "colab": {
          "base_uri": "https://localhost:8080/",
          "height": 250
        },
        "id": "PpPnEdcT-BLD",
        "outputId": "27409a6a-be64-4237-bdbc-8286f8c6a4b6"
      },
      "execution_count": 33,
      "outputs": [
        {
          "output_type": "execute_result",
          "data": {
            "text/plain": [
              "   Gender  Age Range (Years)  Domicile  Marital Status  Education  Occupation  \\\n",
              "0       1                  1         5               1          1           6   \n",
              "1       1                  1         5               1          1           6   \n",
              "2       0                  1         5               1          1           6   \n",
              "3       1                  1         5               1          1           6   \n",
              "4       0                  1         5               1          1           6   \n",
              "\n",
              "   Spending in a year  Vehicle Purchase Price   Vehicle Model  \\\n",
              "0                   0                        0              0   \n",
              "1                   3                        0              0   \n",
              "2                   0                        0              0   \n",
              "3                   0                        0              0   \n",
              "4                   0                        1              0   \n",
              "\n",
              "   Battery Charging Time  Driving Range   \n",
              "0                      0               2  \n",
              "1                      0               2  \n",
              "2                      0               2  \n",
              "3                      1               0  \n",
              "4                      0               2  "
            ],
            "text/html": [
              "\n",
              "  <div id=\"df-498d46ee-c834-4484-ba2e-76c2643c95bf\">\n",
              "    <div class=\"colab-df-container\">\n",
              "      <div>\n",
              "<style scoped>\n",
              "    .dataframe tbody tr th:only-of-type {\n",
              "        vertical-align: middle;\n",
              "    }\n",
              "\n",
              "    .dataframe tbody tr th {\n",
              "        vertical-align: top;\n",
              "    }\n",
              "\n",
              "    .dataframe thead th {\n",
              "        text-align: right;\n",
              "    }\n",
              "</style>\n",
              "<table border=\"1\" class=\"dataframe\">\n",
              "  <thead>\n",
              "    <tr style=\"text-align: right;\">\n",
              "      <th></th>\n",
              "      <th>Gender</th>\n",
              "      <th>Age Range (Years)</th>\n",
              "      <th>Domicile</th>\n",
              "      <th>Marital Status</th>\n",
              "      <th>Education</th>\n",
              "      <th>Occupation</th>\n",
              "      <th>Spending in a year</th>\n",
              "      <th>Vehicle Purchase Price</th>\n",
              "      <th>Vehicle Model</th>\n",
              "      <th>Battery Charging Time</th>\n",
              "      <th>Driving Range</th>\n",
              "    </tr>\n",
              "  </thead>\n",
              "  <tbody>\n",
              "    <tr>\n",
              "      <th>0</th>\n",
              "      <td>1</td>\n",
              "      <td>1</td>\n",
              "      <td>5</td>\n",
              "      <td>1</td>\n",
              "      <td>1</td>\n",
              "      <td>6</td>\n",
              "      <td>0</td>\n",
              "      <td>0</td>\n",
              "      <td>0</td>\n",
              "      <td>0</td>\n",
              "      <td>2</td>\n",
              "    </tr>\n",
              "    <tr>\n",
              "      <th>1</th>\n",
              "      <td>1</td>\n",
              "      <td>1</td>\n",
              "      <td>5</td>\n",
              "      <td>1</td>\n",
              "      <td>1</td>\n",
              "      <td>6</td>\n",
              "      <td>3</td>\n",
              "      <td>0</td>\n",
              "      <td>0</td>\n",
              "      <td>0</td>\n",
              "      <td>2</td>\n",
              "    </tr>\n",
              "    <tr>\n",
              "      <th>2</th>\n",
              "      <td>0</td>\n",
              "      <td>1</td>\n",
              "      <td>5</td>\n",
              "      <td>1</td>\n",
              "      <td>1</td>\n",
              "      <td>6</td>\n",
              "      <td>0</td>\n",
              "      <td>0</td>\n",
              "      <td>0</td>\n",
              "      <td>0</td>\n",
              "      <td>2</td>\n",
              "    </tr>\n",
              "    <tr>\n",
              "      <th>3</th>\n",
              "      <td>1</td>\n",
              "      <td>1</td>\n",
              "      <td>5</td>\n",
              "      <td>1</td>\n",
              "      <td>1</td>\n",
              "      <td>6</td>\n",
              "      <td>0</td>\n",
              "      <td>0</td>\n",
              "      <td>0</td>\n",
              "      <td>1</td>\n",
              "      <td>0</td>\n",
              "    </tr>\n",
              "    <tr>\n",
              "      <th>4</th>\n",
              "      <td>0</td>\n",
              "      <td>1</td>\n",
              "      <td>5</td>\n",
              "      <td>1</td>\n",
              "      <td>1</td>\n",
              "      <td>6</td>\n",
              "      <td>0</td>\n",
              "      <td>1</td>\n",
              "      <td>0</td>\n",
              "      <td>0</td>\n",
              "      <td>2</td>\n",
              "    </tr>\n",
              "  </tbody>\n",
              "</table>\n",
              "</div>\n",
              "      <button class=\"colab-df-convert\" onclick=\"convertToInteractive('df-498d46ee-c834-4484-ba2e-76c2643c95bf')\"\n",
              "              title=\"Convert this dataframe to an interactive table.\"\n",
              "              style=\"display:none;\">\n",
              "        \n",
              "  <svg xmlns=\"http://www.w3.org/2000/svg\" height=\"24px\"viewBox=\"0 0 24 24\"\n",
              "       width=\"24px\">\n",
              "    <path d=\"M0 0h24v24H0V0z\" fill=\"none\"/>\n",
              "    <path d=\"M18.56 5.44l.94 2.06.94-2.06 2.06-.94-2.06-.94-.94-2.06-.94 2.06-2.06.94zm-11 1L8.5 8.5l.94-2.06 2.06-.94-2.06-.94L8.5 2.5l-.94 2.06-2.06.94zm10 10l.94 2.06.94-2.06 2.06-.94-2.06-.94-.94-2.06-.94 2.06-2.06.94z\"/><path d=\"M17.41 7.96l-1.37-1.37c-.4-.4-.92-.59-1.43-.59-.52 0-1.04.2-1.43.59L10.3 9.45l-7.72 7.72c-.78.78-.78 2.05 0 2.83L4 21.41c.39.39.9.59 1.41.59.51 0 1.02-.2 1.41-.59l7.78-7.78 2.81-2.81c.8-.78.8-2.07 0-2.86zM5.41 20L4 18.59l7.72-7.72 1.47 1.35L5.41 20z\"/>\n",
              "  </svg>\n",
              "      </button>\n",
              "      \n",
              "  <style>\n",
              "    .colab-df-container {\n",
              "      display:flex;\n",
              "      flex-wrap:wrap;\n",
              "      gap: 12px;\n",
              "    }\n",
              "\n",
              "    .colab-df-convert {\n",
              "      background-color: #E8F0FE;\n",
              "      border: none;\n",
              "      border-radius: 50%;\n",
              "      cursor: pointer;\n",
              "      display: none;\n",
              "      fill: #1967D2;\n",
              "      height: 32px;\n",
              "      padding: 0 0 0 0;\n",
              "      width: 32px;\n",
              "    }\n",
              "\n",
              "    .colab-df-convert:hover {\n",
              "      background-color: #E2EBFA;\n",
              "      box-shadow: 0px 1px 2px rgba(60, 64, 67, 0.3), 0px 1px 3px 1px rgba(60, 64, 67, 0.15);\n",
              "      fill: #174EA6;\n",
              "    }\n",
              "\n",
              "    [theme=dark] .colab-df-convert {\n",
              "      background-color: #3B4455;\n",
              "      fill: #D2E3FC;\n",
              "    }\n",
              "\n",
              "    [theme=dark] .colab-df-convert:hover {\n",
              "      background-color: #434B5C;\n",
              "      box-shadow: 0px 1px 3px 1px rgba(0, 0, 0, 0.15);\n",
              "      filter: drop-shadow(0px 1px 2px rgba(0, 0, 0, 0.3));\n",
              "      fill: #FFFFFF;\n",
              "    }\n",
              "  </style>\n",
              "\n",
              "      <script>\n",
              "        const buttonEl =\n",
              "          document.querySelector('#df-498d46ee-c834-4484-ba2e-76c2643c95bf button.colab-df-convert');\n",
              "        buttonEl.style.display =\n",
              "          google.colab.kernel.accessAllowed ? 'block' : 'none';\n",
              "\n",
              "        async function convertToInteractive(key) {\n",
              "          const element = document.querySelector('#df-498d46ee-c834-4484-ba2e-76c2643c95bf');\n",
              "          const dataTable =\n",
              "            await google.colab.kernel.invokeFunction('convertToInteractive',\n",
              "                                                     [key], {});\n",
              "          if (!dataTable) return;\n",
              "\n",
              "          const docLinkHtml = 'Like what you see? Visit the ' +\n",
              "            '<a target=\"_blank\" href=https://colab.research.google.com/notebooks/data_table.ipynb>data table notebook</a>'\n",
              "            + ' to learn more about interactive tables.';\n",
              "          element.innerHTML = '';\n",
              "          dataTable['output_type'] = 'display_data';\n",
              "          await google.colab.output.renderOutput(dataTable, element);\n",
              "          const docLink = document.createElement('div');\n",
              "          docLink.innerHTML = docLinkHtml;\n",
              "          element.appendChild(docLink);\n",
              "        }\n",
              "      </script>\n",
              "    </div>\n",
              "  </div>\n",
              "  "
            ]
          },
          "metadata": {},
          "execution_count": 33
        }
      ]
    },
    {
      "cell_type": "code",
      "source": [
        "pip install kmodes"
      ],
      "metadata": {
        "colab": {
          "base_uri": "https://localhost:8080/"
        },
        "id": "SsrU0GoYSazi",
        "outputId": "f9ed51c1-3b1c-4bbc-abd2-1a51566261ae"
      },
      "execution_count": 34,
      "outputs": [
        {
          "output_type": "stream",
          "name": "stdout",
          "text": [
            "Looking in indexes: https://pypi.org/simple, https://us-python.pkg.dev/colab-wheels/public/simple/\n",
            "Requirement already satisfied: kmodes in /usr/local/lib/python3.7/dist-packages (0.12.2)\n",
            "Requirement already satisfied: scipy>=0.13.3 in /usr/local/lib/python3.7/dist-packages (from kmodes) (1.7.3)\n",
            "Requirement already satisfied: joblib>=0.11 in /usr/local/lib/python3.7/dist-packages (from kmodes) (1.2.0)\n",
            "Requirement already satisfied: numpy>=1.10.4 in /usr/local/lib/python3.7/dist-packages (from kmodes) (1.21.6)\n",
            "Requirement already satisfied: scikit-learn>=0.22.0 in /usr/local/lib/python3.7/dist-packages (from kmodes) (1.0.2)\n",
            "Requirement already satisfied: threadpoolctl>=2.0.0 in /usr/local/lib/python3.7/dist-packages (from scikit-learn>=0.22.0->kmodes) (3.1.0)\n"
          ]
        }
      ]
    },
    {
      "cell_type": "code",
      "source": [
        "# Importing Libraries\n",
        "from kmodes.kmodes import KModes"
      ],
      "metadata": {
        "id": "RoIux1h6EURA"
      },
      "execution_count": 35,
      "outputs": []
    },
    {
      "cell_type": "markdown",
      "source": [
        "## Using K-Mode with \"Cao\" initialization"
      ],
      "metadata": {
        "id": "8S8ob11-SiBX"
      }
    },
    {
      "cell_type": "code",
      "source": [
        "km_cao = KModes(n_clusters=3, init = \"Cao\", n_init = 1, verbose=1)\n",
        "fitClusters_cao = km_cao.fit_predict(data)"
      ],
      "metadata": {
        "colab": {
          "base_uri": "https://localhost:8080/"
        },
        "id": "NlFUb30eSk1s",
        "outputId": "ad9e677d-3375-4e9c-ae6f-b60fc7bb6a56"
      },
      "execution_count": 36,
      "outputs": [
        {
          "output_type": "stream",
          "name": "stdout",
          "text": [
            "Init: initializing centroids\n",
            "Init: initializing clusters\n",
            "Starting iterations...\n",
            "Run 1, iteration: 1/100, moves: 35, cost: 1630.0\n",
            "Run 1, iteration: 2/100, moves: 11, cost: 1630.0\n"
          ]
        }
      ]
    },
    {
      "cell_type": "code",
      "source": [
        "# Predicted Clusters\n",
        "fitClusters_cao"
      ],
      "metadata": {
        "colab": {
          "base_uri": "https://localhost:8080/"
        },
        "id": "igBvMgwES7rI",
        "outputId": "221c70ce-9d6c-4595-abfb-0c37fdc301f2"
      },
      "execution_count": 70,
      "outputs": [
        {
          "output_type": "execute_result",
          "data": {
            "text/plain": [
              "array([0, 0, 0, 0, 0, 0, 0, 1, 1, 1, 1, 0, 1, 1, 0, 1, 0, 1, 0, 1, 1, 0,\n",
              "       1, 1, 1, 1, 1, 1, 1, 1, 0, 0, 1, 2, 0, 0, 2, 0, 1, 0, 0, 2, 2, 1,\n",
              "       0, 0, 0, 2, 2, 1, 2, 2, 2, 0, 0, 2, 0, 2, 0, 0, 0, 0, 0, 0, 0, 0,\n",
              "       0, 1, 0, 0, 0, 0, 0, 0, 0, 0, 0, 0, 2, 0, 0, 0, 0, 0, 0, 0, 0, 0,\n",
              "       0, 0, 0, 0, 0, 0, 0, 0, 2, 0, 0, 0, 0, 0, 0, 0, 0, 0, 0, 0, 0, 0,\n",
              "       0, 2, 0, 0, 2, 0, 0, 0, 0, 0, 0, 0, 0, 1, 0, 0, 0, 0, 0, 0, 0, 0,\n",
              "       0, 2, 0, 0, 0, 0, 2, 2, 0, 2, 0, 0, 0, 0, 2, 2, 0, 2, 2, 2, 2, 0,\n",
              "       0, 0, 0, 0, 2, 0, 2, 0, 0, 0, 0, 0, 2, 0, 2, 0, 0, 2, 0, 0, 0, 0,\n",
              "       2, 1, 0, 2, 0, 0, 0, 0, 0, 0, 0, 0, 0, 0, 0, 0, 0, 0, 0, 0, 2, 2,\n",
              "       2, 2, 0, 0, 2, 2, 2, 0, 0, 0, 0, 2, 0, 1, 0, 0, 0, 0, 0, 0, 0, 0,\n",
              "       0, 0, 0, 2, 2, 0, 0, 0, 1, 0, 0, 0, 0, 1, 1, 1, 1, 1, 0, 1, 1, 1,\n",
              "       1, 1, 1, 1, 0, 1, 0, 0, 1, 0, 0, 0, 0, 0, 0, 1, 1, 1, 1, 1, 1, 1,\n",
              "       0, 0, 0, 0, 0, 0, 0, 0, 0, 0, 0, 0, 0, 0, 0, 0, 0, 0, 0, 0, 0, 0,\n",
              "       0, 0, 0, 0, 0, 0, 0, 0, 0, 0, 0, 0, 0, 0, 0, 0, 0, 0, 0, 0, 0, 0,\n",
              "       0, 0, 0, 0, 0, 0, 0, 0, 0, 1, 1, 1, 1, 1, 1, 1, 1, 1, 1, 1, 1, 1,\n",
              "       1, 1, 1, 1, 0, 0, 0, 0, 0, 0, 0, 0, 0, 0, 0, 0, 0, 0, 0, 0, 0, 0,\n",
              "       1, 0, 0, 0, 1, 0, 0, 0, 0, 0, 0, 0, 0, 0, 0, 0, 0, 0, 2, 1, 1, 1,\n",
              "       1, 2, 0, 1, 2, 2, 2, 0, 1, 1, 1, 0, 2, 1, 1, 1, 0, 0, 0, 0, 0, 1,\n",
              "       1, 1, 0, 0, 1, 2, 2, 0, 1, 0, 0, 0, 0, 0, 2, 0, 2, 0, 2, 2, 0],\n",
              "      dtype=uint16)"
            ]
          },
          "metadata": {},
          "execution_count": 70
        }
      ]
    },
    {
      "cell_type": "code",
      "source": [
        "clusterCentroidsDf = pd.DataFrame(km_cao.cluster_centroids_)\n",
        "clusterCentroidsDf.columns = data.columns"
      ],
      "metadata": {
        "id": "z1g8Ou4MTC7l"
      },
      "execution_count": 38,
      "outputs": []
    },
    {
      "cell_type": "code",
      "source": [
        "# Mode of the clusters\n",
        "clusterCentroidsDf"
      ],
      "metadata": {
        "colab": {
          "base_uri": "https://localhost:8080/",
          "height": 156
        },
        "id": "bJXFtDyxTJQQ",
        "outputId": "d538447e-c319-4a38-b4ca-274dcd4b7b71"
      },
      "execution_count": 39,
      "outputs": [
        {
          "output_type": "execute_result",
          "data": {
            "text/plain": [
              "   Gender  Age Range (Years)  Domicile  Marital Status  Education  Occupation  \\\n",
              "0       0                  1         5               0          0           3   \n",
              "1       1                  1         3               1          0           6   \n",
              "\n",
              "   Spending in a year  Vehicle Purchase Price   Vehicle Model  \\\n",
              "0                   3                        0              0   \n",
              "1                   0                        0              1   \n",
              "\n",
              "   Battery Charging Time  Driving Range   \n",
              "0                      0               2  \n",
              "1                      0               2  "
            ],
            "text/html": [
              "\n",
              "  <div id=\"df-f2e727c4-e736-4f42-aa8f-e8cf0dddbd07\">\n",
              "    <div class=\"colab-df-container\">\n",
              "      <div>\n",
              "<style scoped>\n",
              "    .dataframe tbody tr th:only-of-type {\n",
              "        vertical-align: middle;\n",
              "    }\n",
              "\n",
              "    .dataframe tbody tr th {\n",
              "        vertical-align: top;\n",
              "    }\n",
              "\n",
              "    .dataframe thead th {\n",
              "        text-align: right;\n",
              "    }\n",
              "</style>\n",
              "<table border=\"1\" class=\"dataframe\">\n",
              "  <thead>\n",
              "    <tr style=\"text-align: right;\">\n",
              "      <th></th>\n",
              "      <th>Gender</th>\n",
              "      <th>Age Range (Years)</th>\n",
              "      <th>Domicile</th>\n",
              "      <th>Marital Status</th>\n",
              "      <th>Education</th>\n",
              "      <th>Occupation</th>\n",
              "      <th>Spending in a year</th>\n",
              "      <th>Vehicle Purchase Price</th>\n",
              "      <th>Vehicle Model</th>\n",
              "      <th>Battery Charging Time</th>\n",
              "      <th>Driving Range</th>\n",
              "    </tr>\n",
              "  </thead>\n",
              "  <tbody>\n",
              "    <tr>\n",
              "      <th>0</th>\n",
              "      <td>0</td>\n",
              "      <td>1</td>\n",
              "      <td>5</td>\n",
              "      <td>0</td>\n",
              "      <td>0</td>\n",
              "      <td>3</td>\n",
              "      <td>3</td>\n",
              "      <td>0</td>\n",
              "      <td>0</td>\n",
              "      <td>0</td>\n",
              "      <td>2</td>\n",
              "    </tr>\n",
              "    <tr>\n",
              "      <th>1</th>\n",
              "      <td>1</td>\n",
              "      <td>1</td>\n",
              "      <td>3</td>\n",
              "      <td>1</td>\n",
              "      <td>0</td>\n",
              "      <td>6</td>\n",
              "      <td>0</td>\n",
              "      <td>0</td>\n",
              "      <td>1</td>\n",
              "      <td>0</td>\n",
              "      <td>2</td>\n",
              "    </tr>\n",
              "  </tbody>\n",
              "</table>\n",
              "</div>\n",
              "      <button class=\"colab-df-convert\" onclick=\"convertToInteractive('df-f2e727c4-e736-4f42-aa8f-e8cf0dddbd07')\"\n",
              "              title=\"Convert this dataframe to an interactive table.\"\n",
              "              style=\"display:none;\">\n",
              "        \n",
              "  <svg xmlns=\"http://www.w3.org/2000/svg\" height=\"24px\"viewBox=\"0 0 24 24\"\n",
              "       width=\"24px\">\n",
              "    <path d=\"M0 0h24v24H0V0z\" fill=\"none\"/>\n",
              "    <path d=\"M18.56 5.44l.94 2.06.94-2.06 2.06-.94-2.06-.94-.94-2.06-.94 2.06-2.06.94zm-11 1L8.5 8.5l.94-2.06 2.06-.94-2.06-.94L8.5 2.5l-.94 2.06-2.06.94zm10 10l.94 2.06.94-2.06 2.06-.94-2.06-.94-.94-2.06-.94 2.06-2.06.94z\"/><path d=\"M17.41 7.96l-1.37-1.37c-.4-.4-.92-.59-1.43-.59-.52 0-1.04.2-1.43.59L10.3 9.45l-7.72 7.72c-.78.78-.78 2.05 0 2.83L4 21.41c.39.39.9.59 1.41.59.51 0 1.02-.2 1.41-.59l7.78-7.78 2.81-2.81c.8-.78.8-2.07 0-2.86zM5.41 20L4 18.59l7.72-7.72 1.47 1.35L5.41 20z\"/>\n",
              "  </svg>\n",
              "      </button>\n",
              "      \n",
              "  <style>\n",
              "    .colab-df-container {\n",
              "      display:flex;\n",
              "      flex-wrap:wrap;\n",
              "      gap: 12px;\n",
              "    }\n",
              "\n",
              "    .colab-df-convert {\n",
              "      background-color: #E8F0FE;\n",
              "      border: none;\n",
              "      border-radius: 50%;\n",
              "      cursor: pointer;\n",
              "      display: none;\n",
              "      fill: #1967D2;\n",
              "      height: 32px;\n",
              "      padding: 0 0 0 0;\n",
              "      width: 32px;\n",
              "    }\n",
              "\n",
              "    .colab-df-convert:hover {\n",
              "      background-color: #E2EBFA;\n",
              "      box-shadow: 0px 1px 2px rgba(60, 64, 67, 0.3), 0px 1px 3px 1px rgba(60, 64, 67, 0.15);\n",
              "      fill: #174EA6;\n",
              "    }\n",
              "\n",
              "    [theme=dark] .colab-df-convert {\n",
              "      background-color: #3B4455;\n",
              "      fill: #D2E3FC;\n",
              "    }\n",
              "\n",
              "    [theme=dark] .colab-df-convert:hover {\n",
              "      background-color: #434B5C;\n",
              "      box-shadow: 0px 1px 3px 1px rgba(0, 0, 0, 0.15);\n",
              "      filter: drop-shadow(0px 1px 2px rgba(0, 0, 0, 0.3));\n",
              "      fill: #FFFFFF;\n",
              "    }\n",
              "  </style>\n",
              "\n",
              "      <script>\n",
              "        const buttonEl =\n",
              "          document.querySelector('#df-f2e727c4-e736-4f42-aa8f-e8cf0dddbd07 button.colab-df-convert');\n",
              "        buttonEl.style.display =\n",
              "          google.colab.kernel.accessAllowed ? 'block' : 'none';\n",
              "\n",
              "        async function convertToInteractive(key) {\n",
              "          const element = document.querySelector('#df-f2e727c4-e736-4f42-aa8f-e8cf0dddbd07');\n",
              "          const dataTable =\n",
              "            await google.colab.kernel.invokeFunction('convertToInteractive',\n",
              "                                                     [key], {});\n",
              "          if (!dataTable) return;\n",
              "\n",
              "          const docLinkHtml = 'Like what you see? Visit the ' +\n",
              "            '<a target=\"_blank\" href=https://colab.research.google.com/notebooks/data_table.ipynb>data table notebook</a>'\n",
              "            + ' to learn more about interactive tables.';\n",
              "          element.innerHTML = '';\n",
              "          dataTable['output_type'] = 'display_data';\n",
              "          await google.colab.output.renderOutput(dataTable, element);\n",
              "          const docLink = document.createElement('div');\n",
              "          docLink.innerHTML = docLinkHtml;\n",
              "          element.appendChild(docLink);\n",
              "        }\n",
              "      </script>\n",
              "    </div>\n",
              "  </div>\n",
              "  "
            ]
          },
          "metadata": {},
          "execution_count": 39
        }
      ]
    },
    {
      "cell_type": "markdown",
      "source": [
        "## Using K-Mode with \"Huang\" initialization"
      ],
      "metadata": {
        "id": "nJCmTXiCTQzi"
      }
    },
    {
      "cell_type": "code",
      "source": [
        "km_huang = KModes(n_clusters=3, init = \"Huang\", n_init = 1, verbose=1)\n",
        "fitClusters_huang = km_huang.fit_predict(data)"
      ],
      "metadata": {
        "colab": {
          "base_uri": "https://localhost:8080/"
        },
        "id": "9GaP9FDHTTAD",
        "outputId": "0f4303cc-aab3-4e73-e92e-373e7dd6d49e"
      },
      "execution_count": 40,
      "outputs": [
        {
          "output_type": "stream",
          "name": "stdout",
          "text": [
            "Init: initializing centroids\n",
            "Init: initializing clusters\n",
            "Starting iterations...\n",
            "Run 1, iteration: 1/100, moves: 29, cost: 1550.0\n"
          ]
        }
      ]
    },
    {
      "cell_type": "code",
      "source": [
        "# Predicted clusters\n",
        "fitClusters_huang"
      ],
      "metadata": {
        "colab": {
          "base_uri": "https://localhost:8080/"
        },
        "id": "lPQI7oYJTggr",
        "outputId": "2a38f346-5df0-469e-9c6b-a357332f1972"
      },
      "execution_count": 71,
      "outputs": [
        {
          "output_type": "execute_result",
          "data": {
            "text/plain": [
              "array([0, 0, 1, 0, 1, 1, 1, 0, 0, 0, 0, 0, 1, 0, 0, 0, 0, 0, 0, 0, 0, 0,\n",
              "       0, 0, 0, 0, 0, 0, 0, 0, 0, 0, 0, 0, 0, 0, 1, 0, 0, 0, 0, 0, 0, 0,\n",
              "       0, 0, 0, 0, 0, 0, 0, 0, 0, 0, 0, 0, 0, 0, 0, 0, 0, 1, 0, 0, 1, 1,\n",
              "       0, 0, 1, 0, 0, 0, 0, 0, 0, 0, 0, 0, 0, 0, 0, 0, 1, 1, 0, 1, 1, 0,\n",
              "       0, 0, 0, 0, 0, 0, 0, 0, 0, 0, 0, 0, 0, 0, 0, 0, 0, 0, 0, 0, 0, 0,\n",
              "       0, 0, 0, 0, 0, 0, 0, 0, 0, 0, 0, 0, 0, 0, 0, 0, 0, 0, 0, 0, 0, 1,\n",
              "       1, 0, 1, 1, 0, 0, 0, 0, 0, 0, 0, 0, 0, 0, 0, 0, 0, 0, 0, 0, 0, 0,\n",
              "       0, 0, 0, 0, 0, 0, 0, 0, 0, 0, 0, 0, 0, 0, 0, 0, 0, 0, 0, 0, 0, 0,\n",
              "       0, 0, 0, 0, 0, 0, 0, 0, 0, 0, 0, 0, 0, 0, 0, 0, 0, 0, 0, 0, 1, 1,\n",
              "       0, 1, 0, 0, 1, 1, 0, 0, 0, 0, 0, 1, 0, 0, 0, 0, 0, 1, 0, 0, 0, 0,\n",
              "       0, 0, 0, 0, 0, 1, 0, 0, 0, 0, 0, 0, 0, 0, 0, 0, 0, 0, 0, 0, 0, 0,\n",
              "       1, 0, 0, 0, 0, 1, 0, 0, 0, 0, 0, 0, 0, 0, 0, 0, 0, 0, 0, 0, 0, 0,\n",
              "       0, 0, 0, 0, 0, 0, 0, 1, 0, 1, 1, 0, 0, 0, 0, 0, 1, 0, 1, 1, 1, 1,\n",
              "       0, 0, 1, 1, 1, 1, 1, 1, 1, 1, 1, 1, 1, 1, 1, 1, 1, 1, 1, 1, 1, 1,\n",
              "       1, 0, 1, 1, 1, 0, 1, 1, 1, 1, 0, 1, 1, 1, 1, 1, 1, 1, 1, 1, 1, 1,\n",
              "       1, 1, 1, 1, 1, 1, 1, 1, 1, 1, 1, 1, 1, 1, 1, 1, 1, 1, 1, 1, 0, 1,\n",
              "       1, 1, 1, 1, 0, 1, 1, 1, 1, 0, 0, 1, 1, 1, 1, 1, 1, 0, 0, 0, 1, 1,\n",
              "       1, 0, 0, 0, 0, 0, 0, 0, 0, 0, 0, 0, 0, 0, 0, 0, 0, 0, 1, 1, 0, 1,\n",
              "       0, 0, 1, 1, 0, 0, 0, 0, 0, 0, 0, 0, 0, 0, 0, 0, 0, 0, 0, 0, 0],\n",
              "      dtype=uint16)"
            ]
          },
          "metadata": {},
          "execution_count": 71
        }
      ]
    },
    {
      "cell_type": "markdown",
      "source": [
        "## Choosing K by comparing Cost against each K"
      ],
      "metadata": {
        "id": "SZ6-GvpdTdXj"
      }
    },
    {
      "cell_type": "code",
      "source": [
        "cost = []\n",
        "for num_clusters in list(range(1,6)):\n",
        "    kmode = KModes(n_clusters=num_clusters, init = \"Cao\", n_init = 1, verbose=1)\n",
        "    kmode.fit_predict(data)\n",
        "    cost.append(kmode.cost_)"
      ],
      "metadata": {
        "colab": {
          "base_uri": "https://localhost:8080/"
        },
        "id": "MTJ0tqO9TopL",
        "outputId": "007a70df-e163-4e0b-f3f7-cf0627f98d73"
      },
      "execution_count": 72,
      "outputs": [
        {
          "output_type": "stream",
          "name": "stdout",
          "text": [
            "Init: initializing centroids\n",
            "Init: initializing clusters\n",
            "Starting iterations...\n",
            "Run 1, iteration: 1/100, moves: 0, cost: 2229.0\n",
            "Init: initializing centroids\n",
            "Init: initializing clusters\n",
            "Starting iterations...\n",
            "Run 1, iteration: 1/100, moves: 35, cost: 2045.0\n",
            "Run 1, iteration: 2/100, moves: 11, cost: 2045.0\n",
            "Init: initializing centroids\n",
            "Init: initializing clusters\n",
            "Starting iterations...\n",
            "Run 1, iteration: 1/100, moves: 79, cost: 1908.0\n",
            "Init: initializing centroids\n",
            "Init: initializing clusters\n",
            "Starting iterations...\n",
            "Run 1, iteration: 1/100, moves: 99, cost: 1820.0\n",
            "Run 1, iteration: 2/100, moves: 4, cost: 1819.0\n",
            "Run 1, iteration: 3/100, moves: 0, cost: 1819.0\n",
            "Init: initializing centroids\n",
            "Init: initializing clusters\n",
            "Starting iterations...\n",
            "Run 1, iteration: 1/100, moves: 107, cost: 1761.0\n",
            "Run 1, iteration: 2/100, moves: 23, cost: 1748.0\n",
            "Run 1, iteration: 3/100, moves: 1, cost: 1747.0\n",
            "Run 1, iteration: 4/100, moves: 0, cost: 1747.0\n"
          ]
        }
      ]
    },
    {
      "cell_type": "markdown",
      "source": [
        "## Elbow Method"
      ],
      "metadata": {
        "id": "pMMehssSVPr7"
      }
    },
    {
      "cell_type": "code",
      "source": [
        "y = np.array([i for i in range(1,6,1)])\n",
        "plt.plot(y,cost)\n",
        "plt.title('Elbow Methdod to Check Number of Cluster')"
      ],
      "metadata": {
        "colab": {
          "base_uri": "https://localhost:8080/",
          "height": 298
        },
        "id": "kC0ZCqUNT1hT",
        "outputId": "834ed17c-5a56-4058-d5b5-cd76ccca78a3"
      },
      "execution_count": 73,
      "outputs": [
        {
          "output_type": "execute_result",
          "data": {
            "text/plain": [
              "Text(0.5, 1.0, 'Elbow Methdod to Check Number of Cluster')"
            ]
          },
          "metadata": {},
          "execution_count": 73
        },
        {
          "output_type": "display_data",
          "data": {
            "text/plain": [
              "<Figure size 432x288 with 1 Axes>"
            ],
            "image/png": "[encoded data removed]"
          },
          "metadata": {
            "needs_background": "light"
          }
        }
      ]
    },
    {
      "cell_type": "markdown",
      "source": [
        "the line starts to lowering slope at k=3"
      ],
      "metadata": {
        "id": "Q8tgiXVxVOre"
      }
    },
    {
      "cell_type": "markdown",
      "source": [
        "## Choosing K=3"
      ],
      "metadata": {
        "id": "kIgxToXlUQBH"
      }
    },
    {
      "cell_type": "code",
      "source": [
        "km_cao = KModes(n_clusters=3, init = \"Cao\", n_init = 1, verbose=1)\n",
        "fitClusters_cao = km_cao.fit_predict(data)"
      ],
      "metadata": {
        "colab": {
          "base_uri": "https://localhost:8080/"
        },
        "id": "3x7D7VnmUO9F",
        "outputId": "cecf3242-c429-4bd3-c05a-1ef151cab8d0"
      },
      "execution_count": 44,
      "outputs": [
        {
          "output_type": "stream",
          "name": "stdout",
          "text": [
            "Init: initializing centroids\n",
            "Init: initializing clusters\n",
            "Starting iterations...\n",
            "Run 1, iteration: 1/100, moves: 46, cost: 1550.0\n",
            "Run 1, iteration: 2/100, moves: 20, cost: 1529.0\n",
            "Run 1, iteration: 3/100, moves: 14, cost: 1529.0\n"
          ]
        }
      ]
    },
    {
      "cell_type": "code",
      "source": [
        "fitClusters_cao"
      ],
      "metadata": {
        "colab": {
          "base_uri": "https://localhost:8080/"
        },
        "id": "BmtUcCwRUfUX",
        "outputId": "cf94d9e7-622d-4ce4-cb0a-c9023288feaa"
      },
      "execution_count": 45,
      "outputs": [
        {
          "output_type": "execute_result",
          "data": {
            "text/plain": [
              "array([0, 0, 0, 0, 0, 0, 0, 1, 1, 1, 1, 0, 1, 1, 0, 1, 0, 1, 0, 1, 1, 0,\n",
              "       1, 1, 1, 1, 1, 1, 1, 1, 0, 0, 1, 2, 0, 0, 2, 0, 1, 0, 0, 2, 2, 1,\n",
              "       0, 0, 0, 2, 2, 1, 2, 2, 2, 0, 0, 2, 0, 2, 0, 0, 0, 0, 0, 0, 0, 0,\n",
              "       0, 1, 0, 0, 0, 0, 0, 0, 0, 0, 0, 0, 2, 0, 0, 0, 0, 0, 0, 0, 0, 0,\n",
              "       0, 0, 0, 0, 0, 0, 0, 0, 2, 0, 0, 0, 0, 0, 0, 0, 0, 0, 0, 0, 0, 0,\n",
              "       0, 2, 0, 0, 2, 0, 0, 0, 0, 0, 0, 0, 0, 1, 0, 0, 0, 0, 0, 0, 0, 0,\n",
              "       0, 2, 0, 0, 0, 0, 2, 2, 0, 2, 0, 0, 0, 0, 2, 2, 0, 2, 2, 2, 2, 0,\n",
              "       0, 0, 0, 0, 2, 0, 2, 0, 0, 0, 0, 0, 2, 0, 2, 0, 0, 2, 0, 0, 0, 0,\n",
              "       2, 1, 0, 2, 0, 0, 0, 0, 0, 0, 0, 0, 0, 0, 0, 0, 0, 0, 0, 0, 2, 2,\n",
              "       2, 2, 0, 0, 2, 2, 2, 0, 0, 0, 0, 2, 0, 1, 0, 0, 0, 0, 0, 0, 0, 0,\n",
              "       0, 0, 0, 2, 2, 0, 0, 0, 1, 0, 0, 0, 0, 1, 1, 1, 1, 1, 0, 1, 1, 1,\n",
              "       1, 1, 1, 1, 0, 1, 0, 0, 1, 0, 0, 0, 0, 0, 0, 1, 1, 1, 1, 1, 1, 1,\n",
              "       0, 0, 0, 0, 0, 0, 0, 0, 0, 0, 0, 0, 0, 0, 0, 0, 0, 0, 0, 0, 0, 0,\n",
              "       0, 0, 0, 0, 0, 0, 0, 0, 0, 0, 0, 0, 0, 0, 0, 0, 0, 0, 0, 0, 0, 0,\n",
              "       0, 0, 0, 0, 0, 0, 0, 0, 0, 1, 1, 1, 1, 1, 1, 1, 1, 1, 1, 1, 1, 1,\n",
              "       1, 1, 1, 1, 0, 0, 0, 0, 0, 0, 0, 0, 0, 0, 0, 0, 0, 0, 0, 0, 0, 0,\n",
              "       1, 0, 0, 0, 1, 0, 0, 0, 0, 0, 0, 0, 0, 0, 0, 0, 0, 0, 2, 1, 1, 1,\n",
              "       1, 2, 0, 1, 2, 2, 2, 0, 1, 1, 1, 0, 2, 1, 1, 1, 0, 0, 0, 0, 0, 1,\n",
              "       1, 1, 0, 0, 1, 2, 2, 0, 1, 0, 0, 0, 0, 0, 2, 0, 2, 0, 2, 2, 0],\n",
              "      dtype=uint16)"
            ]
          },
          "metadata": {},
          "execution_count": 45
        }
      ]
    },
    {
      "cell_type": "markdown",
      "source": [
        "## Combining the predicted clusters with the original DF."
      ],
      "metadata": {
        "id": "fn-iZmIhUlmH"
      }
    },
    {
      "cell_type": "code",
      "source": [
        "data = data_copy.reset_index()"
      ],
      "metadata": {
        "id": "a9ofXtlKUnIl"
      },
      "execution_count": 46,
      "outputs": []
    },
    {
      "cell_type": "code",
      "source": [
        "clustersDf = pd.DataFrame(fitClusters_cao)\n",
        "clustersDf.columns = ['cluster_predicted']\n",
        "combinedDf = pd.concat([data, clustersDf], axis = 1).reset_index()\n",
        "combinedDf = combinedDf.drop(['index', 'level_0'], axis = 1)"
      ],
      "metadata": {
        "id": "FXLHFq53Uv45"
      },
      "execution_count": 47,
      "outputs": []
    },
    {
      "cell_type": "code",
      "source": [
        "combinedDf['cluster_predicted'] = combinedDf['cluster_predicted'].map({0:'First', 1:'Second', 2:'Third'})\n",
        "combinedDf.head()"
      ],
      "metadata": {
        "colab": {
          "base_uri": "https://localhost:8080/",
          "height": 354
        },
        "id": "ObcOWN0TbVv9",
        "outputId": "ddf82589-007a-45d6-d0e1-24bbd766374a"
      },
      "execution_count": 48,
      "outputs": [
        {
          "output_type": "execute_result",
          "data": {
            "text/plain": [
              "   Gender Age Range (Years)   Domicile Marital Status    Education Occupation  \\\n",
              "0    Male           25-40    West Java      Unmarried  High School    Student   \n",
              "1    Male           25-40    West Java      Unmarried  High School    Student   \n",
              "2  Female           25-40    West Java      Unmarried  High School    Student   \n",
              "3    Male           25-40    West Java      Unmarried  High School    Student   \n",
              "4  Female           25-40    West Java      Unmarried  High School    Student   \n",
              "\n",
              "  Spending in a year Vehicle Purchase Price  Vehicle Model  \\\n",
              "0    200-250 M IDR           300-400 M IDR        City Car   \n",
              "1        < 200 M IDR         300-400 M IDR        City Car   \n",
              "2    200-250 M IDR           300-400 M IDR        City Car   \n",
              "3    200-250 M IDR           300-400 M IDR        City Car   \n",
              "4    200-250 M IDR           400-500 M IDR        City Car   \n",
              "\n",
              "  Battery Charging Time Driving Range  cluster_predicted  \n",
              "0               3 hours         350 Km             First  \n",
              "1               3 hours         350 Km             First  \n",
              "2               3 hours         350 Km             First  \n",
              "3               5 hours         250 Km             First  \n",
              "4               3 hours         350 Km             First  "
            ],
            "text/html": [
              "\n",
              "  <div id=\"df-6345b337-f66b-4c08-b377-a25a47b62d99\">\n",
              "    <div class=\"colab-df-container\">\n",
              "      <div>\n",
              "<style scoped>\n",
              "    .dataframe tbody tr th:only-of-type {\n",
              "        vertical-align: middle;\n",
              "    }\n",
              "\n",
              "    .dataframe tbody tr th {\n",
              "        vertical-align: top;\n",
              "    }\n",
              "\n",
              "    .dataframe thead th {\n",
              "        text-align: right;\n",
              "    }\n",
              "</style>\n",
              "<table border=\"1\" class=\"dataframe\">\n",
              "  <thead>\n",
              "    <tr style=\"text-align: right;\">\n",
              "      <th></th>\n",
              "      <th>Gender</th>\n",
              "      <th>Age Range (Years)</th>\n",
              "      <th>Domicile</th>\n",
              "      <th>Marital Status</th>\n",
              "      <th>Education</th>\n",
              "      <th>Occupation</th>\n",
              "      <th>Spending in a year</th>\n",
              "      <th>Vehicle Purchase Price</th>\n",
              "      <th>Vehicle Model</th>\n",
              "      <th>Battery Charging Time</th>\n",
              "      <th>Driving Range</th>\n",
              "      <th>cluster_predicted</th>\n",
              "    </tr>\n",
              "  </thead>\n",
              "  <tbody>\n",
              "    <tr>\n",
              "      <th>0</th>\n",
              "      <td>Male</td>\n",
              "      <td>25-40</td>\n",
              "      <td>West Java</td>\n",
              "      <td>Unmarried</td>\n",
              "      <td>High School</td>\n",
              "      <td>Student</td>\n",
              "      <td>200-250 M IDR</td>\n",
              "      <td>300-400 M IDR</td>\n",
              "      <td>City Car</td>\n",
              "      <td>3 hours</td>\n",
              "      <td>350 Km</td>\n",
              "      <td>First</td>\n",
              "    </tr>\n",
              "    <tr>\n",
              "      <th>1</th>\n",
              "      <td>Male</td>\n",
              "      <td>25-40</td>\n",
              "      <td>West Java</td>\n",
              "      <td>Unmarried</td>\n",
              "      <td>High School</td>\n",
              "      <td>Student</td>\n",
              "      <td>&lt; 200 M IDR</td>\n",
              "      <td>300-400 M IDR</td>\n",
              "      <td>City Car</td>\n",
              "      <td>3 hours</td>\n",
              "      <td>350 Km</td>\n",
              "      <td>First</td>\n",
              "    </tr>\n",
              "    <tr>\n",
              "      <th>2</th>\n",
              "      <td>Female</td>\n",
              "      <td>25-40</td>\n",
              "      <td>West Java</td>\n",
              "      <td>Unmarried</td>\n",
              "      <td>High School</td>\n",
              "      <td>Student</td>\n",
              "      <td>200-250 M IDR</td>\n",
              "      <td>300-400 M IDR</td>\n",
              "      <td>City Car</td>\n",
              "      <td>3 hours</td>\n",
              "      <td>350 Km</td>\n",
              "      <td>First</td>\n",
              "    </tr>\n",
              "    <tr>\n",
              "      <th>3</th>\n",
              "      <td>Male</td>\n",
              "      <td>25-40</td>\n",
              "      <td>West Java</td>\n",
              "      <td>Unmarried</td>\n",
              "      <td>High School</td>\n",
              "      <td>Student</td>\n",
              "      <td>200-250 M IDR</td>\n",
              "      <td>300-400 M IDR</td>\n",
              "      <td>City Car</td>\n",
              "      <td>5 hours</td>\n",
              "      <td>250 Km</td>\n",
              "      <td>First</td>\n",
              "    </tr>\n",
              "    <tr>\n",
              "      <th>4</th>\n",
              "      <td>Female</td>\n",
              "      <td>25-40</td>\n",
              "      <td>West Java</td>\n",
              "      <td>Unmarried</td>\n",
              "      <td>High School</td>\n",
              "      <td>Student</td>\n",
              "      <td>200-250 M IDR</td>\n",
              "      <td>400-500 M IDR</td>\n",
              "      <td>City Car</td>\n",
              "      <td>3 hours</td>\n",
              "      <td>350 Km</td>\n",
              "      <td>First</td>\n",
              "    </tr>\n",
              "  </tbody>\n",
              "</table>\n",
              "</div>\n",
              "      <button class=\"colab-df-convert\" onclick=\"convertToInteractive('df-6345b337-f66b-4c08-b377-a25a47b62d99')\"\n",
              "              title=\"Convert this dataframe to an interactive table.\"\n",
              "              style=\"display:none;\">\n",
              "        \n",
              "  <svg xmlns=\"http://www.w3.org/2000/svg\" height=\"24px\"viewBox=\"0 0 24 24\"\n",
              "       width=\"24px\">\n",
              "    <path d=\"M0 0h24v24H0V0z\" fill=\"none\"/>\n",
              "    <path d=\"M18.56 5.44l.94 2.06.94-2.06 2.06-.94-2.06-.94-.94-2.06-.94 2.06-2.06.94zm-11 1L8.5 8.5l.94-2.06 2.06-.94-2.06-.94L8.5 2.5l-.94 2.06-2.06.94zm10 10l.94 2.06.94-2.06 2.06-.94-2.06-.94-.94-2.06-.94 2.06-2.06.94z\"/><path d=\"M17.41 7.96l-1.37-1.37c-.4-.4-.92-.59-1.43-.59-.52 0-1.04.2-1.43.59L10.3 9.45l-7.72 7.72c-.78.78-.78 2.05 0 2.83L4 21.41c.39.39.9.59 1.41.59.51 0 1.02-.2 1.41-.59l7.78-7.78 2.81-2.81c.8-.78.8-2.07 0-2.86zM5.41 20L4 18.59l7.72-7.72 1.47 1.35L5.41 20z\"/>\n",
              "  </svg>\n",
              "      </button>\n",
              "      \n",
              "  <style>\n",
              "    .colab-df-container {\n",
              "      display:flex;\n",
              "      flex-wrap:wrap;\n",
              "      gap: 12px;\n",
              "    }\n",
              "\n",
              "    .colab-df-convert {\n",
              "      background-color: #E8F0FE;\n",
              "      border: none;\n",
              "      border-radius: 50%;\n",
              "      cursor: pointer;\n",
              "      display: none;\n",
              "      fill: #1967D2;\n",
              "      height: 32px;\n",
              "      padding: 0 0 0 0;\n",
              "      width: 32px;\n",
              "    }\n",
              "\n",
              "    .colab-df-convert:hover {\n",
              "      background-color: #E2EBFA;\n",
              "      box-shadow: 0px 1px 2px rgba(60, 64, 67, 0.3), 0px 1px 3px 1px rgba(60, 64, 67, 0.15);\n",
              "      fill: #174EA6;\n",
              "    }\n",
              "\n",
              "    [theme=dark] .colab-df-convert {\n",
              "      background-color: #3B4455;\n",
              "      fill: #D2E3FC;\n",
              "    }\n",
              "\n",
              "    [theme=dark] .colab-df-convert:hover {\n",
              "      background-color: #434B5C;\n",
              "      box-shadow: 0px 1px 3px 1px rgba(0, 0, 0, 0.15);\n",
              "      filter: drop-shadow(0px 1px 2px rgba(0, 0, 0, 0.3));\n",
              "      fill: #FFFFFF;\n",
              "    }\n",
              "  </style>\n",
              "\n",
              "      <script>\n",
              "        const buttonEl =\n",
              "          document.querySelector('#df-6345b337-f66b-4c08-b377-a25a47b62d99 button.colab-df-convert');\n",
              "        buttonEl.style.display =\n",
              "          google.colab.kernel.accessAllowed ? 'block' : 'none';\n",
              "\n",
              "        async function convertToInteractive(key) {\n",
              "          const element = document.querySelector('#df-6345b337-f66b-4c08-b377-a25a47b62d99');\n",
              "          const dataTable =\n",
              "            await google.colab.kernel.invokeFunction('convertToInteractive',\n",
              "                                                     [key], {});\n",
              "          if (!dataTable) return;\n",
              "\n",
              "          const docLinkHtml = 'Like what you see? Visit the ' +\n",
              "            '<a target=\"_blank\" href=https://colab.research.google.com/notebooks/data_table.ipynb>data table notebook</a>'\n",
              "            + ' to learn more about interactive tables.';\n",
              "          element.innerHTML = '';\n",
              "          dataTable['output_type'] = 'display_data';\n",
              "          await google.colab.output.renderOutput(dataTable, element);\n",
              "          const docLink = document.createElement('div');\n",
              "          docLink.innerHTML = docLinkHtml;\n",
              "          element.appendChild(docLink);\n",
              "        }\n",
              "      </script>\n",
              "    </div>\n",
              "  </div>\n",
              "  "
            ]
          },
          "metadata": {},
          "execution_count": 48
        }
      ]
    },
    {
      "cell_type": "code",
      "source": [
        "combinedDf.sample(10)"
      ],
      "metadata": {
        "colab": {
          "base_uri": "https://localhost:8080/",
          "height": 546
        },
        "id": "K7w1PKxtU4LY",
        "outputId": "eefb354f-b30c-41fd-f801-48fe5b2ff7ed"
      },
      "execution_count": 49,
      "outputs": [
        {
          "output_type": "execute_result",
          "data": {
            "text/plain": [
              "     Gender Age Range (Years)               Domicile Marital Status  \\\n",
              "26     Male        above 40    Jakarta surround area      Unmarried   \n",
              "413    Male           25-40    Jakarta surround area        Married   \n",
              "61   Female           25-40                West Java        Married   \n",
              "138    Male           25-40    Jakarta surround area        Married   \n",
              "237  Female           25-40    Jakarta surround area      Unmarried   \n",
              "265  Female           25-40                West Java        Married   \n",
              "229  Female           25-40                West Java      Unmarried   \n",
              "103    Male           25-40                West Java        Married   \n",
              "117  Female           25-40    Jakarta surround area        Married   \n",
              "327  Female           18-24           East Indonesia      Unmarried   \n",
              "\n",
              "             Education        Occupation Spending in a year  \\\n",
              "26            Bachelor           Student        < 200 M IDR   \n",
              "413  Magister/Doctoral     Self-employed    200-250 M IDR     \n",
              "61            Bachelor         Housewife    200-250 M IDR     \n",
              "138           Bachelor  Private Employee    200-250 M IDR     \n",
              "237           Bachelor           Student        < 200 M IDR   \n",
              "265           Bachelor  Private Employee        < 200 M IDR   \n",
              "229        High School           Student        < 200 M IDR   \n",
              "103           Bachelor  Private Employee        < 200 M IDR   \n",
              "117           Bachelor  Private Employee        < 200 M IDR   \n",
              "327           Bachelor           Student    250-300 M IDR     \n",
              "\n",
              "    Vehicle Purchase Price  Vehicle Model Battery Charging Time  \\\n",
              "26          300-400 M IDR        City Car               5 hours   \n",
              "413         300-400 M IDR        City Car               3 hours   \n",
              "61          300-400 M IDR        City Car               3 hours   \n",
              "138         300-400 M IDR             MPV               3 hours   \n",
              "237         300-400 M IDR             MPV               3 hours   \n",
              "265         300-400 M IDR             MPV               3 hours   \n",
              "229         300-400 M IDR        City Car               3 hours   \n",
              "103         300-400 M IDR             MPV               3 hours   \n",
              "117         300-400 M IDR        City Car               3 hours   \n",
              "327         300-400 M IDR        City Car               3 hours   \n",
              "\n",
              "    Driving Range  cluster_predicted  \n",
              "26          350 Km            Second  \n",
              "413         350 Km             First  \n",
              "61          300 Km             First  \n",
              "138         350 Km             Third  \n",
              "237         300 Km            Second  \n",
              "265         350 Km             First  \n",
              "229         350 Km             First  \n",
              "103         300 Km             First  \n",
              "117         250 Km             First  \n",
              "327         300 Km            Second  "
            ],
            "text/html": [
              "\n",
              "  <div id=\"df-dbb6a6ea-ffba-4ea7-af79-a9e835dcd9d2\">\n",
              "    <div class=\"colab-df-container\">\n",
              "      <div>\n",
              "<style scoped>\n",
              "    .dataframe tbody tr th:only-of-type {\n",
              "        vertical-align: middle;\n",
              "    }\n",
              "\n",
              "    .dataframe tbody tr th {\n",
              "        vertical-align: top;\n",
              "    }\n",
              "\n",
              "    .dataframe thead th {\n",
              "        text-align: right;\n",
              "    }\n",
              "</style>\n",
              "<table border=\"1\" class=\"dataframe\">\n",
              "  <thead>\n",
              "    <tr style=\"text-align: right;\">\n",
              "      <th></th>\n",
              "      <th>Gender</th>\n",
              "      <th>Age Range (Years)</th>\n",
              "      <th>Domicile</th>\n",
              "      <th>Marital Status</th>\n",
              "      <th>Education</th>\n",
              "      <th>Occupation</th>\n",
              "      <th>Spending in a year</th>\n",
              "      <th>Vehicle Purchase Price</th>\n",
              "      <th>Vehicle Model</th>\n",
              "      <th>Battery Charging Time</th>\n",
              "      <th>Driving Range</th>\n",
              "      <th>cluster_predicted</th>\n",
              "    </tr>\n",
              "  </thead>\n",
              "  <tbody>\n",
              "    <tr>\n",
              "      <th>26</th>\n",
              "      <td>Male</td>\n",
              "      <td>above 40</td>\n",
              "      <td>Jakarta surround area</td>\n",
              "      <td>Unmarried</td>\n",
              "      <td>Bachelor</td>\n",
              "      <td>Student</td>\n",
              "      <td>&lt; 200 M IDR</td>\n",
              "      <td>300-400 M IDR</td>\n",
              "      <td>City Car</td>\n",
              "      <td>5 hours</td>\n",
              "      <td>350 Km</td>\n",
              "      <td>Second</td>\n",
              "    </tr>\n",
              "    <tr>\n",
              "      <th>413</th>\n",
              "      <td>Male</td>\n",
              "      <td>25-40</td>\n",
              "      <td>Jakarta surround area</td>\n",
              "      <td>Married</td>\n",
              "      <td>Magister/Doctoral</td>\n",
              "      <td>Self-employed</td>\n",
              "      <td>200-250 M IDR</td>\n",
              "      <td>300-400 M IDR</td>\n",
              "      <td>City Car</td>\n",
              "      <td>3 hours</td>\n",
              "      <td>350 Km</td>\n",
              "      <td>First</td>\n",
              "    </tr>\n",
              "    <tr>\n",
              "      <th>61</th>\n",
              "      <td>Female</td>\n",
              "      <td>25-40</td>\n",
              "      <td>West Java</td>\n",
              "      <td>Married</td>\n",
              "      <td>Bachelor</td>\n",
              "      <td>Housewife</td>\n",
              "      <td>200-250 M IDR</td>\n",
              "      <td>300-400 M IDR</td>\n",
              "      <td>City Car</td>\n",
              "      <td>3 hours</td>\n",
              "      <td>300 Km</td>\n",
              "      <td>First</td>\n",
              "    </tr>\n",
              "    <tr>\n",
              "      <th>138</th>\n",
              "      <td>Male</td>\n",
              "      <td>25-40</td>\n",
              "      <td>Jakarta surround area</td>\n",
              "      <td>Married</td>\n",
              "      <td>Bachelor</td>\n",
              "      <td>Private Employee</td>\n",
              "      <td>200-250 M IDR</td>\n",
              "      <td>300-400 M IDR</td>\n",
              "      <td>MPV</td>\n",
              "      <td>3 hours</td>\n",
              "      <td>350 Km</td>\n",
              "      <td>Third</td>\n",
              "    </tr>\n",
              "    <tr>\n",
              "      <th>237</th>\n",
              "      <td>Female</td>\n",
              "      <td>25-40</td>\n",
              "      <td>Jakarta surround area</td>\n",
              "      <td>Unmarried</td>\n",
              "      <td>Bachelor</td>\n",
              "      <td>Student</td>\n",
              "      <td>&lt; 200 M IDR</td>\n",
              "      <td>300-400 M IDR</td>\n",
              "      <td>MPV</td>\n",
              "      <td>3 hours</td>\n",
              "      <td>300 Km</td>\n",
              "      <td>Second</td>\n",
              "    </tr>\n",
              "    <tr>\n",
              "      <th>265</th>\n",
              "      <td>Female</td>\n",
              "      <td>25-40</td>\n",
              "      <td>West Java</td>\n",
              "      <td>Married</td>\n",
              "      <td>Bachelor</td>\n",
              "      <td>Private Employee</td>\n",
              "      <td>&lt; 200 M IDR</td>\n",
              "      <td>300-400 M IDR</td>\n",
              "      <td>MPV</td>\n",
              "      <td>3 hours</td>\n",
              "      <td>350 Km</td>\n",
              "      <td>First</td>\n",
              "    </tr>\n",
              "    <tr>\n",
              "      <th>229</th>\n",
              "      <td>Female</td>\n",
              "      <td>25-40</td>\n",
              "      <td>West Java</td>\n",
              "      <td>Unmarried</td>\n",
              "      <td>High School</td>\n",
              "      <td>Student</td>\n",
              "      <td>&lt; 200 M IDR</td>\n",
              "      <td>300-400 M IDR</td>\n",
              "      <td>City Car</td>\n",
              "      <td>3 hours</td>\n",
              "      <td>350 Km</td>\n",
              "      <td>First</td>\n",
              "    </tr>\n",
              "    <tr>\n",
              "      <th>103</th>\n",
              "      <td>Male</td>\n",
              "      <td>25-40</td>\n",
              "      <td>West Java</td>\n",
              "      <td>Married</td>\n",
              "      <td>Bachelor</td>\n",
              "      <td>Private Employee</td>\n",
              "      <td>&lt; 200 M IDR</td>\n",
              "      <td>300-400 M IDR</td>\n",
              "      <td>MPV</td>\n",
              "      <td>3 hours</td>\n",
              "      <td>300 Km</td>\n",
              "      <td>First</td>\n",
              "    </tr>\n",
              "    <tr>\n",
              "      <th>117</th>\n",
              "      <td>Female</td>\n",
              "      <td>25-40</td>\n",
              "      <td>Jakarta surround area</td>\n",
              "      <td>Married</td>\n",
              "      <td>Bachelor</td>\n",
              "      <td>Private Employee</td>\n",
              "      <td>&lt; 200 M IDR</td>\n",
              "      <td>300-400 M IDR</td>\n",
              "      <td>City Car</td>\n",
              "      <td>3 hours</td>\n",
              "      <td>250 Km</td>\n",
              "      <td>First</td>\n",
              "    </tr>\n",
              "    <tr>\n",
              "      <th>327</th>\n",
              "      <td>Female</td>\n",
              "      <td>18-24</td>\n",
              "      <td>East Indonesia</td>\n",
              "      <td>Unmarried</td>\n",
              "      <td>Bachelor</td>\n",
              "      <td>Student</td>\n",
              "      <td>250-300 M IDR</td>\n",
              "      <td>300-400 M IDR</td>\n",
              "      <td>City Car</td>\n",
              "      <td>3 hours</td>\n",
              "      <td>300 Km</td>\n",
              "      <td>Second</td>\n",
              "    </tr>\n",
              "  </tbody>\n",
              "</table>\n",
              "</div>\n",
              "      <button class=\"colab-df-convert\" onclick=\"convertToInteractive('df-dbb6a6ea-ffba-4ea7-af79-a9e835dcd9d2')\"\n",
              "              title=\"Convert this dataframe to an interactive table.\"\n",
              "              style=\"display:none;\">\n",
              "        \n",
              "  <svg xmlns=\"http://www.w3.org/2000/svg\" height=\"24px\"viewBox=\"0 0 24 24\"\n",
              "       width=\"24px\">\n",
              "    <path d=\"M0 0h24v24H0V0z\" fill=\"none\"/>\n",
              "    <path d=\"M18.56 5.44l.94 2.06.94-2.06 2.06-.94-2.06-.94-.94-2.06-.94 2.06-2.06.94zm-11 1L8.5 8.5l.94-2.06 2.06-.94-2.06-.94L8.5 2.5l-.94 2.06-2.06.94zm10 10l.94 2.06.94-2.06 2.06-.94-2.06-.94-.94-2.06-.94 2.06-2.06.94z\"/><path d=\"M17.41 7.96l-1.37-1.37c-.4-.4-.92-.59-1.43-.59-.52 0-1.04.2-1.43.59L10.3 9.45l-7.72 7.72c-.78.78-.78 2.05 0 2.83L4 21.41c.39.39.9.59 1.41.59.51 0 1.02-.2 1.41-.59l7.78-7.78 2.81-2.81c.8-.78.8-2.07 0-2.86zM5.41 20L4 18.59l7.72-7.72 1.47 1.35L5.41 20z\"/>\n",
              "  </svg>\n",
              "      </button>\n",
              "      \n",
              "  <style>\n",
              "    .colab-df-container {\n",
              "      display:flex;\n",
              "      flex-wrap:wrap;\n",
              "      gap: 12px;\n",
              "    }\n",
              "\n",
              "    .colab-df-convert {\n",
              "      background-color: #E8F0FE;\n",
              "      border: none;\n",
              "      border-radius: 50%;\n",
              "      cursor: pointer;\n",
              "      display: none;\n",
              "      fill: #1967D2;\n",
              "      height: 32px;\n",
              "      padding: 0 0 0 0;\n",
              "      width: 32px;\n",
              "    }\n",
              "\n",
              "    .colab-df-convert:hover {\n",
              "      background-color: #E2EBFA;\n",
              "      box-shadow: 0px 1px 2px rgba(60, 64, 67, 0.3), 0px 1px 3px 1px rgba(60, 64, 67, 0.15);\n",
              "      fill: #174EA6;\n",
              "    }\n",
              "\n",
              "    [theme=dark] .colab-df-convert {\n",
              "      background-color: #3B4455;\n",
              "      fill: #D2E3FC;\n",
              "    }\n",
              "\n",
              "    [theme=dark] .colab-df-convert:hover {\n",
              "      background-color: #434B5C;\n",
              "      box-shadow: 0px 1px 3px 1px rgba(0, 0, 0, 0.15);\n",
              "      filter: drop-shadow(0px 1px 2px rgba(0, 0, 0, 0.3));\n",
              "      fill: #FFFFFF;\n",
              "    }\n",
              "  </style>\n",
              "\n",
              "      <script>\n",
              "        const buttonEl =\n",
              "          document.querySelector('#df-dbb6a6ea-ffba-4ea7-af79-a9e835dcd9d2 button.colab-df-convert');\n",
              "        buttonEl.style.display =\n",
              "          google.colab.kernel.accessAllowed ? 'block' : 'none';\n",
              "\n",
              "        async function convertToInteractive(key) {\n",
              "          const element = document.querySelector('#df-dbb6a6ea-ffba-4ea7-af79-a9e835dcd9d2');\n",
              "          const dataTable =\n",
              "            await google.colab.kernel.invokeFunction('convertToInteractive',\n",
              "                                                     [key], {});\n",
              "          if (!dataTable) return;\n",
              "\n",
              "          const docLinkHtml = 'Like what you see? Visit the ' +\n",
              "            '<a target=\"_blank\" href=https://colab.research.google.com/notebooks/data_table.ipynb>data table notebook</a>'\n",
              "            + ' to learn more about interactive tables.';\n",
              "          element.innerHTML = '';\n",
              "          dataTable['output_type'] = 'display_data';\n",
              "          await google.colab.output.renderOutput(dataTable, element);\n",
              "          const docLink = document.createElement('div');\n",
              "          docLink.innerHTML = docLinkHtml;\n",
              "          element.appendChild(docLink);\n",
              "        }\n",
              "      </script>\n",
              "    </div>\n",
              "  </div>\n",
              "  "
            ]
          },
          "metadata": {},
          "execution_count": 49
        }
      ]
    },
    {
      "cell_type": "code",
      "source": [
        "plt.figure(figsize = (8,8))\n",
        "pie = combinedDf.groupby(['cluster_predicted']).size().to_frame().reset_index()\n",
        "pie.rename(columns={0: 'count'}, inplace=True)\n",
        "\n",
        "plt.title('Cluster Distribution')\n",
        "pie_labels = ['first cluster', 'second cluster', 'third cluster']\n",
        "plt.pie(pie['count'], labels=pie_labels,autopct='%.0f%%')\n",
        "plt.show()"
      ],
      "metadata": {
        "colab": {
          "base_uri": "https://localhost:8080/",
          "height": 482
        },
        "id": "cfHrVY3OcPyG",
        "outputId": "b5d70c81-a3bd-436d-8079-5f14f76390cf"
      },
      "execution_count": 50,
      "outputs": [
        {
          "output_type": "display_data",
          "data": {
            "text/plain": [
              "<Figure size 576x576 with 1 Axes>"
            ],
            "image/png": "[encoded data removed]"
          },
          "metadata": {}
        }
      ]
    },
    {
      "cell_type": "code",
      "source": [
        "# Gender distribution for each Cluster/Segment\n",
        "plt.figure(figsize = (8,8))\n",
        "sns.countplot(data=combinedDf,\n",
        "            hue='cluster_predicted',\n",
        "            x='Gender',\n",
        "            palette = \"Set2\",\n",
        "            )"
      ],
      "metadata": {
        "colab": {
          "base_uri": "https://localhost:8080/",
          "height": 514
        },
        "id": "MCUS-kdcj75m",
        "outputId": "9fa065b9-ab8b-4c75-8186-d56d035e2cdb"
      },
      "execution_count": 76,
      "outputs": [
        {
          "output_type": "execute_result",
          "data": {
            "text/plain": [
              "<matplotlib.axes._subplots.AxesSubplot at 0x7f3cd8c36490>"
            ]
          },
          "metadata": {},
          "execution_count": 76
        },
        {
          "output_type": "display_data",
          "data": {
            "text/plain": [
              "<Figure size 576x576 with 1 Axes>"
            ],
            "image/png": "[encoded data removed]"
          },
          "metadata": {
            "needs_background": "light"
          }
        }
      ]
    },
    {
      "cell_type": "code",
      "source": [
        "# Age Range (Years) distribution for each Cluster/Segment\n",
        "plt.figure(figsize = (8,8))\n",
        "sns.countplot(data=combinedDf,\n",
        "            hue='cluster_predicted',\n",
        "            x='Age Range (Years)',\n",
        "            palette = \"Set2\"\n",
        "            )"
      ],
      "metadata": {
        "colab": {
          "base_uri": "https://localhost:8080/",
          "height": 514
        },
        "id": "_XXWnbTPngDb",
        "outputId": "87d6eabb-0de8-4f5b-b512-3a131e72935f"
      },
      "execution_count": 52,
      "outputs": [
        {
          "output_type": "execute_result",
          "data": {
            "text/plain": [
              "<matplotlib.axes._subplots.AxesSubplot at 0x7f3cd9c47890>"
            ]
          },
          "metadata": {},
          "execution_count": 52
        },
        {
          "output_type": "display_data",
          "data": {
            "text/plain": [
              "<Figure size 576x576 with 1 Axes>"
            ],
            "image/png": "[encoded data removed]"
          },
          "metadata": {
            "needs_background": "light"
          }
        }
      ]
    },
    {
      "cell_type": "code",
      "source": [
        "# Domicile distribution for each Cluster/Segment\n",
        "plt.figure(figsize = (8,8))\n",
        "sns.countplot(data=combinedDf,\n",
        "            hue='cluster_predicted',\n",
        "            x='Domicile',\n",
        "            palette = \"Set2\"\n",
        "            )\n",
        "plt.xticks(rotation=90)"
      ],
      "metadata": {
        "colab": {
          "base_uri": "https://localhost:8080/",
          "height": 612
        },
        "id": "N0-7Mcjtn7UG",
        "outputId": "ec00d331-d29d-40b2-b100-99b572a7c8fe"
      },
      "execution_count": 53,
      "outputs": [
        {
          "output_type": "execute_result",
          "data": {
            "text/plain": [
              "(array([0, 1, 2, 3, 4, 5]), <a list of 6 Text major ticklabel objects>)"
            ]
          },
          "metadata": {},
          "execution_count": 53
        },
        {
          "output_type": "display_data",
          "data": {
            "text/plain": [
              "<Figure size 576x576 with 1 Axes>"
            ],
            "image/png": "[encoded data removed]"
          },
          "metadata": {
            "needs_background": "light"
          }
        }
      ]
    },
    {
      "cell_type": "code",
      "source": [
        "# Marital Status distribution for each Cluster/Segment\n",
        "plt.figure(figsize = (8,8))\n",
        "sns.countplot(data=combinedDf,\n",
        "            hue='cluster_predicted',\n",
        "            x='Marital Status',\n",
        "            palette = \"Set2\"\n",
        "            )"
      ],
      "metadata": {
        "colab": {
          "base_uri": "https://localhost:8080/",
          "height": 514
        },
        "id": "S-ku50b9op0d",
        "outputId": "3070d406-5de7-4267-b0c4-957a02912dba"
      },
      "execution_count": 54,
      "outputs": [
        {
          "output_type": "execute_result",
          "data": {
            "text/plain": [
              "<matplotlib.axes._subplots.AxesSubplot at 0x7f3cd9c08490>"
            ]
          },
          "metadata": {},
          "execution_count": 54
        },
        {
          "output_type": "display_data",
          "data": {
            "text/plain": [
              "<Figure size 576x576 with 1 Axes>"
            ],
            "image/png": "[encoded data removed]"
          },
          "metadata": {
            "needs_background": "light"
          }
        }
      ]
    },
    {
      "cell_type": "code",
      "source": [
        "# Education distribution for each Cluster/Segment\n",
        "plt.figure(figsize = (8,8))\n",
        "sns.countplot(data=combinedDf,\n",
        "            hue='cluster_predicted',\n",
        "            x='Education',\n",
        "            palette = \"Set2\"\n",
        "            )"
      ],
      "metadata": {
        "colab": {
          "base_uri": "https://localhost:8080/",
          "height": 514
        },
        "id": "LVd6qclro4VP",
        "outputId": "751e0fe1-4fa2-43ee-9d98-33a71235a099"
      },
      "execution_count": 55,
      "outputs": [
        {
          "output_type": "execute_result",
          "data": {
            "text/plain": [
              "<matplotlib.axes._subplots.AxesSubplot at 0x7f3cd9ae3590>"
            ]
          },
          "metadata": {},
          "execution_count": 55
        },
        {
          "output_type": "display_data",
          "data": {
            "text/plain": [
              "<Figure size 576x576 with 1 Axes>"
            ],
            "image/png": "[encoded data removed]"
          },
          "metadata": {
            "needs_background": "light"
          }
        }
      ]
    },
    {
      "cell_type": "code",
      "source": [
        "# Occupation distribution for each Cluster/Segment\n",
        "plt.figure(figsize = (8,8))\n",
        "sns.countplot(data=combinedDf,\n",
        "            hue='cluster_predicted',\n",
        "            x='Occupation',\n",
        "            palette = \"Set2\"\n",
        "            )\n",
        "plt.xticks(rotation=90)"
      ],
      "metadata": {
        "colab": {
          "base_uri": "https://localhost:8080/",
          "height": 623
        },
        "id": "wnoi9xnzpdUn",
        "outputId": "f00e2330-e588-49e9-bf96-64ee5816c76c"
      },
      "execution_count": 56,
      "outputs": [
        {
          "output_type": "execute_result",
          "data": {
            "text/plain": [
              "(array([0, 1, 2, 3, 4, 5, 6, 7]), <a list of 8 Text major ticklabel objects>)"
            ]
          },
          "metadata": {},
          "execution_count": 56
        },
        {
          "output_type": "display_data",
          "data": {
            "text/plain": [
              "<Figure size 576x576 with 1 Axes>"
            ],
            "image/png": "[encoded data removed]"
          },
          "metadata": {
            "needs_background": "light"
          }
        }
      ]
    },
    {
      "cell_type": "code",
      "source": [
        "# Spending in a year distribution for each Cluster/Segment\n",
        "plt.figure(figsize = (8,8))\n",
        "sns.countplot(data=combinedDf,\n",
        "            hue='cluster_predicted',\n",
        "            x='Spending in a year',\n",
        "            palette = \"Set2\"\n",
        "            )\n",
        "plt.xticks(rotation=90)"
      ],
      "metadata": {
        "colab": {
          "base_uri": "https://localhost:8080/",
          "height": 595
        },
        "id": "XfdJM0_uq99f",
        "outputId": "1ddbcd35-bee1-4bbf-9249-3ae7d6987c04"
      },
      "execution_count": 57,
      "outputs": [
        {
          "output_type": "execute_result",
          "data": {
            "text/plain": [
              "(array([0, 1, 2, 3, 4]), <a list of 5 Text major ticklabel objects>)"
            ]
          },
          "metadata": {},
          "execution_count": 57
        },
        {
          "output_type": "display_data",
          "data": {
            "text/plain": [
              "<Figure size 576x576 with 1 Axes>"
            ],
            "image/png": "[encoded data removed]"
          },
          "metadata": {
            "needs_background": "light"
          }
        }
      ]
    },
    {
      "cell_type": "code",
      "source": [
        "# Vehicle Purchase Price distribution for each Cluster/Segment\n",
        "plt.figure(figsize = (8,8))\n",
        "sns.countplot(data=combinedDf,\n",
        "            hue='cluster_predicted',\n",
        "            x='Vehicle Purchase Price ',\n",
        "            palette = \"Set2\"\n",
        "            )"
      ],
      "metadata": {
        "colab": {
          "base_uri": "https://localhost:8080/",
          "height": 514
        },
        "id": "8RkpQWzgS0Sh",
        "outputId": "f2d401f8-2c0c-4a85-8092-64bd1ffe3906"
      },
      "execution_count": 58,
      "outputs": [
        {
          "output_type": "execute_result",
          "data": {
            "text/plain": [
              "<matplotlib.axes._subplots.AxesSubplot at 0x7f3cd8f5f390>"
            ]
          },
          "metadata": {},
          "execution_count": 58
        },
        {
          "output_type": "display_data",
          "data": {
            "text/plain": [
              "<Figure size 576x576 with 1 Axes>"
            ],
            "image/png": "[encoded data removed]"
          },
          "metadata": {
            "needs_background": "light"
          }
        }
      ]
    },
    {
      "cell_type": "code",
      "source": [
        "# Vehicle Model distribution for each Cluster/Segment\n",
        "plt.figure(figsize = (8,8))\n",
        "sns.countplot(data=combinedDf,\n",
        "            hue='cluster_predicted',\n",
        "            x='Vehicle Model',\n",
        "            palette = \"Set2\"\n",
        "            )"
      ],
      "metadata": {
        "colab": {
          "base_uri": "https://localhost:8080/",
          "height": 514
        },
        "id": "-Cgf9G2Ztpey",
        "outputId": "1a3ba268-2e8b-4b9c-8d60-f0c26037f106"
      },
      "execution_count": 59,
      "outputs": [
        {
          "output_type": "execute_result",
          "data": {
            "text/plain": [
              "<matplotlib.axes._subplots.AxesSubplot at 0x7f3cd8f18590>"
            ]
          },
          "metadata": {},
          "execution_count": 59
        },
        {
          "output_type": "display_data",
          "data": {
            "text/plain": [
              "<Figure size 576x576 with 1 Axes>"
            ],
            "image/png": "[encoded data removed]"
          },
          "metadata": {
            "needs_background": "light"
          }
        }
      ]
    },
    {
      "cell_type": "code",
      "source": [
        "# Battery Charging Time distribution for each Cluster/Segment\n",
        "plt.figure(figsize = (8,8))\n",
        "sns.countplot(data=combinedDf,\n",
        "            hue='cluster_predicted',\n",
        "            x='Battery Charging Time',\n",
        "            palette = \"Set2\"\n",
        "            )"
      ],
      "metadata": {
        "colab": {
          "base_uri": "https://localhost:8080/",
          "height": 514
        },
        "id": "c3k9mGABuDIv",
        "outputId": "a3bc388f-6180-489d-eb35-8655eb7ebb04"
      },
      "execution_count": 60,
      "outputs": [
        {
          "output_type": "execute_result",
          "data": {
            "text/plain": [
              "<matplotlib.axes._subplots.AxesSubplot at 0x7f3cd9be0710>"
            ]
          },
          "metadata": {},
          "execution_count": 60
        },
        {
          "output_type": "display_data",
          "data": {
            "text/plain": [
              "<Figure size 576x576 with 1 Axes>"
            ],
            "image/png": "[encoded data removed]"
          },
          "metadata": {
            "needs_background": "light"
          }
        }
      ]
    },
    {
      "cell_type": "code",
      "source": [
        "# Driving Range distribution for each Cluster/Segment\n",
        "plt.figure(figsize = (8,8))\n",
        "sns.countplot(data=combinedDf,\n",
        "            hue='cluster_predicted',\n",
        "            x='Driving Range ',\n",
        "            palette = \"Set2\"\n",
        "            )"
      ],
      "metadata": {
        "colab": {
          "base_uri": "https://localhost:8080/",
          "height": 514
        },
        "id": "DnB4Q8ZbuFM5",
        "outputId": "6b0b4467-61fc-4c93-d23d-4a9db44cc914"
      },
      "execution_count": 61,
      "outputs": [
        {
          "output_type": "execute_result",
          "data": {
            "text/plain": [
              "<matplotlib.axes._subplots.AxesSubplot at 0x7f3cd8f403d0>"
            ]
          },
          "metadata": {},
          "execution_count": 61
        },
        {
          "output_type": "display_data",
          "data": {
            "text/plain": [
              "<Figure size 576x576 with 1 Axes>"
            ],
            "image/png": "[encoded data removed]"
          },
          "metadata": {
            "needs_background": "light"
          }
        }
      ]
    },
    {
      "cell_type": "markdown",
      "source": [
        "# 5. Cluster/Segment Identification"
      ],
      "metadata": {
        "id": "DmyKmr_mVqt0"
      }
    },
    {
      "cell_type": "markdown",
      "source": [
        "## First Cluster - \"Price Sensitive\""
      ],
      "metadata": {
        "id": "r6caM4-XjTZi"
      }
    },
    {
      "cell_type": "code",
      "source": [
        "# First Cluster\n",
        "First_Cluster = combinedDf[combinedDf['cluster_predicted'].isin(['First'])]\n",
        "First_Cluster['cluster_predicted'].value_counts()"
      ],
      "metadata": {
        "colab": {
          "base_uri": "https://localhost:8080/"
        },
        "id": "nf1qddLLVu6q",
        "outputId": "ea3e7b19-c9ec-4eaa-c4ce-7b05794b9295"
      },
      "execution_count": 62,
      "outputs": [
        {
          "output_type": "execute_result",
          "data": {
            "text/plain": [
              "First    280\n",
              "Name: cluster_predicted, dtype: int64"
            ]
          },
          "metadata": {},
          "execution_count": 62
        }
      ]
    },
    {
      "cell_type": "code",
      "source": [
        "First_Cluster.describe().T"
      ],
      "metadata": {
        "colab": {
          "base_uri": "https://localhost:8080/",
          "height": 426
        },
        "id": "piIbTcPIOAmo",
        "outputId": "3ae79f58-a31c-404f-98d3-9406d86745f7"
      },
      "execution_count": 63,
      "outputs": [
        {
          "output_type": "execute_result",
          "data": {
            "text/plain": [
              "                        count unique               top freq\n",
              "Gender                    280      2            Female  175\n",
              "Age Range (Years)         280      3           25-40    183\n",
              "Domicile                  280      6         West Java  126\n",
              "Marital Status            280      2           Married  227\n",
              "Education                 280      3          Bachelor  258\n",
              "Occupation                280      8  Private Employee  156\n",
              "Spending in a year        280      5       < 200 M IDR  179\n",
              "Vehicle Purchase Price    280      3   300-400 M IDR    260\n",
              "Vehicle Model             280      4          City Car  130\n",
              "Battery Charging Time     280      3           3 hours  201\n",
              "Driving Range             280      3            350 Km  180\n",
              "cluster_predicted         280      1             First  280"
            ],
            "text/html": [
              "\n",
              "  <div id=\"df-77c3f30b-01cd-49be-a239-6850fd296fda\">\n",
              "    <div class=\"colab-df-container\">\n",
              "      <div>\n",
              "<style scoped>\n",
              "    .dataframe tbody tr th:only-of-type {\n",
              "        vertical-align: middle;\n",
              "    }\n",
              "\n",
              "    .dataframe tbody tr th {\n",
              "        vertical-align: top;\n",
              "    }\n",
              "\n",
              "    .dataframe thead th {\n",
              "        text-align: right;\n",
              "    }\n",
              "</style>\n",
              "<table border=\"1\" class=\"dataframe\">\n",
              "  <thead>\n",
              "    <tr style=\"text-align: right;\">\n",
              "      <th></th>\n",
              "      <th>count</th>\n",
              "      <th>unique</th>\n",
              "      <th>top</th>\n",
              "      <th>freq</th>\n",
              "    </tr>\n",
              "  </thead>\n",
              "  <tbody>\n",
              "    <tr>\n",
              "      <th>Gender</th>\n",
              "      <td>280</td>\n",
              "      <td>2</td>\n",
              "      <td>Female</td>\n",
              "      <td>175</td>\n",
              "    </tr>\n",
              "    <tr>\n",
              "      <th>Age Range (Years)</th>\n",
              "      <td>280</td>\n",
              "      <td>3</td>\n",
              "      <td>25-40</td>\n",
              "      <td>183</td>\n",
              "    </tr>\n",
              "    <tr>\n",
              "      <th>Domicile</th>\n",
              "      <td>280</td>\n",
              "      <td>6</td>\n",
              "      <td>West Java</td>\n",
              "      <td>126</td>\n",
              "    </tr>\n",
              "    <tr>\n",
              "      <th>Marital Status</th>\n",
              "      <td>280</td>\n",
              "      <td>2</td>\n",
              "      <td>Married</td>\n",
              "      <td>227</td>\n",
              "    </tr>\n",
              "    <tr>\n",
              "      <th>Education</th>\n",
              "      <td>280</td>\n",
              "      <td>3</td>\n",
              "      <td>Bachelor</td>\n",
              "      <td>258</td>\n",
              "    </tr>\n",
              "    <tr>\n",
              "      <th>Occupation</th>\n",
              "      <td>280</td>\n",
              "      <td>8</td>\n",
              "      <td>Private Employee</td>\n",
              "      <td>156</td>\n",
              "    </tr>\n",
              "    <tr>\n",
              "      <th>Spending in a year</th>\n",
              "      <td>280</td>\n",
              "      <td>5</td>\n",
              "      <td>&lt; 200 M IDR</td>\n",
              "      <td>179</td>\n",
              "    </tr>\n",
              "    <tr>\n",
              "      <th>Vehicle Purchase Price</th>\n",
              "      <td>280</td>\n",
              "      <td>3</td>\n",
              "      <td>300-400 M IDR</td>\n",
              "      <td>260</td>\n",
              "    </tr>\n",
              "    <tr>\n",
              "      <th>Vehicle Model</th>\n",
              "      <td>280</td>\n",
              "      <td>4</td>\n",
              "      <td>City Car</td>\n",
              "      <td>130</td>\n",
              "    </tr>\n",
              "    <tr>\n",
              "      <th>Battery Charging Time</th>\n",
              "      <td>280</td>\n",
              "      <td>3</td>\n",
              "      <td>3 hours</td>\n",
              "      <td>201</td>\n",
              "    </tr>\n",
              "    <tr>\n",
              "      <th>Driving Range</th>\n",
              "      <td>280</td>\n",
              "      <td>3</td>\n",
              "      <td>350 Km</td>\n",
              "      <td>180</td>\n",
              "    </tr>\n",
              "    <tr>\n",
              "      <th>cluster_predicted</th>\n",
              "      <td>280</td>\n",
              "      <td>1</td>\n",
              "      <td>First</td>\n",
              "      <td>280</td>\n",
              "    </tr>\n",
              "  </tbody>\n",
              "</table>\n",
              "</div>\n",
              "      <button class=\"colab-df-convert\" onclick=\"convertToInteractive('df-77c3f30b-01cd-49be-a239-6850fd296fda')\"\n",
              "              title=\"Convert this dataframe to an interactive table.\"\n",
              "              style=\"display:none;\">\n",
              "        \n",
              "  <svg xmlns=\"http://www.w3.org/2000/svg\" height=\"24px\"viewBox=\"0 0 24 24\"\n",
              "       width=\"24px\">\n",
              "    <path d=\"M0 0h24v24H0V0z\" fill=\"none\"/>\n",
              "    <path d=\"M18.56 5.44l.94 2.06.94-2.06 2.06-.94-2.06-.94-.94-2.06-.94 2.06-2.06.94zm-11 1L8.5 8.5l.94-2.06 2.06-.94-2.06-.94L8.5 2.5l-.94 2.06-2.06.94zm10 10l.94 2.06.94-2.06 2.06-.94-2.06-.94-.94-2.06-.94 2.06-2.06.94z\"/><path d=\"M17.41 7.96l-1.37-1.37c-.4-.4-.92-.59-1.43-.59-.52 0-1.04.2-1.43.59L10.3 9.45l-7.72 7.72c-.78.78-.78 2.05 0 2.83L4 21.41c.39.39.9.59 1.41.59.51 0 1.02-.2 1.41-.59l7.78-7.78 2.81-2.81c.8-.78.8-2.07 0-2.86zM5.41 20L4 18.59l7.72-7.72 1.47 1.35L5.41 20z\"/>\n",
              "  </svg>\n",
              "      </button>\n",
              "      \n",
              "  <style>\n",
              "    .colab-df-container {\n",
              "      display:flex;\n",
              "      flex-wrap:wrap;\n",
              "      gap: 12px;\n",
              "    }\n",
              "\n",
              "    .colab-df-convert {\n",
              "      background-color: #E8F0FE;\n",
              "      border: none;\n",
              "      border-radius: 50%;\n",
              "      cursor: pointer;\n",
              "      display: none;\n",
              "      fill: #1967D2;\n",
              "      height: 32px;\n",
              "      padding: 0 0 0 0;\n",
              "      width: 32px;\n",
              "    }\n",
              "\n",
              "    .colab-df-convert:hover {\n",
              "      background-color: #E2EBFA;\n",
              "      box-shadow: 0px 1px 2px rgba(60, 64, 67, 0.3), 0px 1px 3px 1px rgba(60, 64, 67, 0.15);\n",
              "      fill: #174EA6;\n",
              "    }\n",
              "\n",
              "    [theme=dark] .colab-df-convert {\n",
              "      background-color: #3B4455;\n",
              "      fill: #D2E3FC;\n",
              "    }\n",
              "\n",
              "    [theme=dark] .colab-df-convert:hover {\n",
              "      background-color: #434B5C;\n",
              "      box-shadow: 0px 1px 3px 1px rgba(0, 0, 0, 0.15);\n",
              "      filter: drop-shadow(0px 1px 2px rgba(0, 0, 0, 0.3));\n",
              "      fill: #FFFFFF;\n",
              "    }\n",
              "  </style>\n",
              "\n",
              "      <script>\n",
              "        const buttonEl =\n",
              "          document.querySelector('#df-77c3f30b-01cd-49be-a239-6850fd296fda button.colab-df-convert');\n",
              "        buttonEl.style.display =\n",
              "          google.colab.kernel.accessAllowed ? 'block' : 'none';\n",
              "\n",
              "        async function convertToInteractive(key) {\n",
              "          const element = document.querySelector('#df-77c3f30b-01cd-49be-a239-6850fd296fda');\n",
              "          const dataTable =\n",
              "            await google.colab.kernel.invokeFunction('convertToInteractive',\n",
              "                                                     [key], {});\n",
              "          if (!dataTable) return;\n",
              "\n",
              "          const docLinkHtml = 'Like what you see? Visit the ' +\n",
              "            '<a target=\"_blank\" href=https://colab.research.google.com/notebooks/data_table.ipynb>data table notebook</a>'\n",
              "            + ' to learn more about interactive tables.';\n",
              "          element.innerHTML = '';\n",
              "          dataTable['output_type'] = 'display_data';\n",
              "          await google.colab.output.renderOutput(dataTable, element);\n",
              "          const docLink = document.createElement('div');\n",
              "          docLink.innerHTML = docLinkHtml;\n",
              "          element.appendChild(docLink);\n",
              "        }\n",
              "      </script>\n",
              "    </div>\n",
              "  </div>\n",
              "  "
            ]
          },
          "metadata": {},
          "execution_count": 63
        }
      ]
    },
    {
      "cell_type": "markdown",
      "source": [
        "Interpretation:\n",
        "*   Cluster #1 is the biggest segment with 280 members or \n",
        "67% of total participants. This segment is a price-sensitive \n",
        "group that prioritizes purchasing price when choosing \n",
        "battery-electric vehicles and considers City Car vehicle model with 3 hrs charging time & 350 Km Driving Range.\n",
        "*   This Cluster dominated by Female, Millenials (25-40 years old). Mostly live in West Java. Most of them are married with Bachelor as the last education & Private employee as their profession. They spend less than 200 million rupiahs/year.\n",
        "\n"
      ],
      "metadata": {
        "id": "CecKlCC4M1XE"
      }
    },
    {
      "cell_type": "markdown",
      "source": [
        "## Second Cluster - \"Value Seeker\""
      ],
      "metadata": {
        "id": "5mFklh_RjbYm"
      }
    },
    {
      "cell_type": "code",
      "source": [
        "# Second Cluster\n",
        "Second_Cluster = combinedDf[combinedDf['cluster_predicted'].isin(['Second'])]\n",
        "Second_Cluster['cluster_predicted'].value_counts()"
      ],
      "metadata": {
        "colab": {
          "base_uri": "https://localhost:8080/"
        },
        "id": "DbVI_2ZYV7hs",
        "outputId": "1a4053da-cf25-49ef-8461-23454753e8a3"
      },
      "execution_count": 64,
      "outputs": [
        {
          "output_type": "execute_result",
          "data": {
            "text/plain": [
              "Second    83\n",
              "Name: cluster_predicted, dtype: int64"
            ]
          },
          "metadata": {},
          "execution_count": 64
        }
      ]
    },
    {
      "cell_type": "code",
      "source": [
        "Second_Cluster.describe().T"
      ],
      "metadata": {
        "colab": {
          "base_uri": "https://localhost:8080/",
          "height": 426
        },
        "id": "ow-2ocYoPOJ7",
        "outputId": "7b031d4a-47ea-4b6b-8b20-f70ce1948b24"
      },
      "execution_count": 65,
      "outputs": [
        {
          "output_type": "execute_result",
          "data": {
            "text/plain": [
              "                        count unique                    top freq\n",
              "Gender                     83      2                   Male   52\n",
              "Age Range (Years)          83      3                18-24     34\n",
              "Domicile                   83      6  Jakarta surround area   33\n",
              "Marital Status             83      2              Unmarried   68\n",
              "Education                  83      3               Bachelor   72\n",
              "Occupation                 83      7                Student   58\n",
              "Spending in a year         83      5            < 200 M IDR   42\n",
              "Vehicle Purchase Price     83      3        300-400 M IDR     67\n",
              "Vehicle Model              83      4                    MPV   40\n",
              "Battery Charging Time      83      3                3 hours   53\n",
              "Driving Range              83      3                 350 Km   53\n",
              "cluster_predicted          83      1                 Second   83"
            ],
            "text/html": [
              "\n",
              "  <div id=\"df-22676d85-402b-4f18-bf72-d68dfc0c1d4a\">\n",
              "    <div class=\"colab-df-container\">\n",
              "      <div>\n",
              "<style scoped>\n",
              "    .dataframe tbody tr th:only-of-type {\n",
              "        vertical-align: middle;\n",
              "    }\n",
              "\n",
              "    .dataframe tbody tr th {\n",
              "        vertical-align: top;\n",
              "    }\n",
              "\n",
              "    .dataframe thead th {\n",
              "        text-align: right;\n",
              "    }\n",
              "</style>\n",
              "<table border=\"1\" class=\"dataframe\">\n",
              "  <thead>\n",
              "    <tr style=\"text-align: right;\">\n",
              "      <th></th>\n",
              "      <th>count</th>\n",
              "      <th>unique</th>\n",
              "      <th>top</th>\n",
              "      <th>freq</th>\n",
              "    </tr>\n",
              "  </thead>\n",
              "  <tbody>\n",
              "    <tr>\n",
              "      <th>Gender</th>\n",
              "      <td>83</td>\n",
              "      <td>2</td>\n",
              "      <td>Male</td>\n",
              "      <td>52</td>\n",
              "    </tr>\n",
              "    <tr>\n",
              "      <th>Age Range (Years)</th>\n",
              "      <td>83</td>\n",
              "      <td>3</td>\n",
              "      <td>18-24</td>\n",
              "      <td>34</td>\n",
              "    </tr>\n",
              "    <tr>\n",
              "      <th>Domicile</th>\n",
              "      <td>83</td>\n",
              "      <td>6</td>\n",
              "      <td>Jakarta surround area</td>\n",
              "      <td>33</td>\n",
              "    </tr>\n",
              "    <tr>\n",
              "      <th>Marital Status</th>\n",
              "      <td>83</td>\n",
              "      <td>2</td>\n",
              "      <td>Unmarried</td>\n",
              "      <td>68</td>\n",
              "    </tr>\n",
              "    <tr>\n",
              "      <th>Education</th>\n",
              "      <td>83</td>\n",
              "      <td>3</td>\n",
              "      <td>Bachelor</td>\n",
              "      <td>72</td>\n",
              "    </tr>\n",
              "    <tr>\n",
              "      <th>Occupation</th>\n",
              "      <td>83</td>\n",
              "      <td>7</td>\n",
              "      <td>Student</td>\n",
              "      <td>58</td>\n",
              "    </tr>\n",
              "    <tr>\n",
              "      <th>Spending in a year</th>\n",
              "      <td>83</td>\n",
              "      <td>5</td>\n",
              "      <td>&lt; 200 M IDR</td>\n",
              "      <td>42</td>\n",
              "    </tr>\n",
              "    <tr>\n",
              "      <th>Vehicle Purchase Price</th>\n",
              "      <td>83</td>\n",
              "      <td>3</td>\n",
              "      <td>300-400 M IDR</td>\n",
              "      <td>67</td>\n",
              "    </tr>\n",
              "    <tr>\n",
              "      <th>Vehicle Model</th>\n",
              "      <td>83</td>\n",
              "      <td>4</td>\n",
              "      <td>MPV</td>\n",
              "      <td>40</td>\n",
              "    </tr>\n",
              "    <tr>\n",
              "      <th>Battery Charging Time</th>\n",
              "      <td>83</td>\n",
              "      <td>3</td>\n",
              "      <td>3 hours</td>\n",
              "      <td>53</td>\n",
              "    </tr>\n",
              "    <tr>\n",
              "      <th>Driving Range</th>\n",
              "      <td>83</td>\n",
              "      <td>3</td>\n",
              "      <td>350 Km</td>\n",
              "      <td>53</td>\n",
              "    </tr>\n",
              "    <tr>\n",
              "      <th>cluster_predicted</th>\n",
              "      <td>83</td>\n",
              "      <td>1</td>\n",
              "      <td>Second</td>\n",
              "      <td>83</td>\n",
              "    </tr>\n",
              "  </tbody>\n",
              "</table>\n",
              "</div>\n",
              "      <button class=\"colab-df-convert\" onclick=\"convertToInteractive('df-22676d85-402b-4f18-bf72-d68dfc0c1d4a')\"\n",
              "              title=\"Convert this dataframe to an interactive table.\"\n",
              "              style=\"display:none;\">\n",
              "        \n",
              "  <svg xmlns=\"http://www.w3.org/2000/svg\" height=\"24px\"viewBox=\"0 0 24 24\"\n",
              "       width=\"24px\">\n",
              "    <path d=\"M0 0h24v24H0V0z\" fill=\"none\"/>\n",
              "    <path d=\"M18.56 5.44l.94 2.06.94-2.06 2.06-.94-2.06-.94-.94-2.06-.94 2.06-2.06.94zm-11 1L8.5 8.5l.94-2.06 2.06-.94-2.06-.94L8.5 2.5l-.94 2.06-2.06.94zm10 10l.94 2.06.94-2.06 2.06-.94-2.06-.94-.94-2.06-.94 2.06-2.06.94z\"/><path d=\"M17.41 7.96l-1.37-1.37c-.4-.4-.92-.59-1.43-.59-.52 0-1.04.2-1.43.59L10.3 9.45l-7.72 7.72c-.78.78-.78 2.05 0 2.83L4 21.41c.39.39.9.59 1.41.59.51 0 1.02-.2 1.41-.59l7.78-7.78 2.81-2.81c.8-.78.8-2.07 0-2.86zM5.41 20L4 18.59l7.72-7.72 1.47 1.35L5.41 20z\"/>\n",
              "  </svg>\n",
              "      </button>\n",
              "      \n",
              "  <style>\n",
              "    .colab-df-container {\n",
              "      display:flex;\n",
              "      flex-wrap:wrap;\n",
              "      gap: 12px;\n",
              "    }\n",
              "\n",
              "    .colab-df-convert {\n",
              "      background-color: #E8F0FE;\n",
              "      border: none;\n",
              "      border-radius: 50%;\n",
              "      cursor: pointer;\n",
              "      display: none;\n",
              "      fill: #1967D2;\n",
              "      height: 32px;\n",
              "      padding: 0 0 0 0;\n",
              "      width: 32px;\n",
              "    }\n",
              "\n",
              "    .colab-df-convert:hover {\n",
              "      background-color: #E2EBFA;\n",
              "      box-shadow: 0px 1px 2px rgba(60, 64, 67, 0.3), 0px 1px 3px 1px rgba(60, 64, 67, 0.15);\n",
              "      fill: #174EA6;\n",
              "    }\n",
              "\n",
              "    [theme=dark] .colab-df-convert {\n",
              "      background-color: #3B4455;\n",
              "      fill: #D2E3FC;\n",
              "    }\n",
              "\n",
              "    [theme=dark] .colab-df-convert:hover {\n",
              "      background-color: #434B5C;\n",
              "      box-shadow: 0px 1px 3px 1px rgba(0, 0, 0, 0.15);\n",
              "      filter: drop-shadow(0px 1px 2px rgba(0, 0, 0, 0.3));\n",
              "      fill: #FFFFFF;\n",
              "    }\n",
              "  </style>\n",
              "\n",
              "      <script>\n",
              "        const buttonEl =\n",
              "          document.querySelector('#df-22676d85-402b-4f18-bf72-d68dfc0c1d4a button.colab-df-convert');\n",
              "        buttonEl.style.display =\n",
              "          google.colab.kernel.accessAllowed ? 'block' : 'none';\n",
              "\n",
              "        async function convertToInteractive(key) {\n",
              "          const element = document.querySelector('#df-22676d85-402b-4f18-bf72-d68dfc0c1d4a');\n",
              "          const dataTable =\n",
              "            await google.colab.kernel.invokeFunction('convertToInteractive',\n",
              "                                                     [key], {});\n",
              "          if (!dataTable) return;\n",
              "\n",
              "          const docLinkHtml = 'Like what you see? Visit the ' +\n",
              "            '<a target=\"_blank\" href=https://colab.research.google.com/notebooks/data_table.ipynb>data table notebook</a>'\n",
              "            + ' to learn more about interactive tables.';\n",
              "          element.innerHTML = '';\n",
              "          dataTable['output_type'] = 'display_data';\n",
              "          await google.colab.output.renderOutput(dataTable, element);\n",
              "          const docLink = document.createElement('div');\n",
              "          docLink.innerHTML = docLinkHtml;\n",
              "          element.appendChild(docLink);\n",
              "        }\n",
              "      </script>\n",
              "    </div>\n",
              "  </div>\n",
              "  "
            ]
          },
          "metadata": {},
          "execution_count": 65
        }
      ]
    },
    {
      "cell_type": "markdown",
      "source": [
        "Interpretation:\n",
        "*   Cluster #2 is second biggest segment with 83 members or 20% of total participants. This segment is a Value Seeker group that prioritizes purchasing price when choosing electric vehicles but still looking for affordable value in class and considers MPV vehicle model with 3 hrs charging time & 350 Km Driving Range.\n",
        "*   This Cluster dominated by Male, gen-Z (18-24 years old). Mostly live in Jakarta surround area. Most of them are single with Bachelor as the last education & Student as their profession. They spend less than 200 million rupiahs/year."
      ],
      "metadata": {
        "id": "tBUnc0UCw8W0"
      }
    },
    {
      "cell_type": "markdown",
      "source": [
        "## Third Cluster - \"Premium\""
      ],
      "metadata": {
        "id": "T74Q7xm5jkxR"
      }
    },
    {
      "cell_type": "code",
      "source": [
        "# Third Cluster\n",
        "Third_Cluster = combinedDf[combinedDf['cluster_predicted'].isin(['Third'])]\n",
        "Third_Cluster['cluster_predicted'].value_counts()"
      ],
      "metadata": {
        "colab": {
          "base_uri": "https://localhost:8080/"
        },
        "id": "eDonj977V_UG",
        "outputId": "116972f3-d94e-46c8-d490-b3b4a90b4a8c"
      },
      "execution_count": 66,
      "outputs": [
        {
          "output_type": "execute_result",
          "data": {
            "text/plain": [
              "Third    54\n",
              "Name: cluster_predicted, dtype: int64"
            ]
          },
          "metadata": {},
          "execution_count": 66
        }
      ]
    },
    {
      "cell_type": "code",
      "source": [
        "Third_Cluster.describe().T"
      ],
      "metadata": {
        "colab": {
          "base_uri": "https://localhost:8080/",
          "height": 426
        },
        "id": "kLtO87zDPtDh",
        "outputId": "40d53df5-f21d-4479-f9df-4725a1dd7309"
      },
      "execution_count": 67,
      "outputs": [
        {
          "output_type": "execute_result",
          "data": {
            "text/plain": [
              "                        count unique                    top freq\n",
              "Gender                     54      2                   Male   44\n",
              "Age Range (Years)          54      2                25-40     45\n",
              "Domicile                   54      6  Jakarta surround area   35\n",
              "Marital Status             54      2                Married   51\n",
              "Education                  54      2               Bachelor   48\n",
              "Occupation                 54      7       Private Employee   30\n",
              "Spending in a year         54      5        200-250 M IDR     26\n",
              "Vehicle Purchase Price     54      3        400-500 M IDR     29\n",
              "Vehicle Model              54      3                    MPV   32\n",
              "Battery Charging Time      54      3                5 hours   30\n",
              "Driving Range              54      3                 350 Km   41\n",
              "cluster_predicted          54      1                  Third   54"
            ],
            "text/html": [
              "\n",
              "  <div id=\"df-cc8a55bf-906b-41bb-8711-c9dd482c723f\">\n",
              "    <div class=\"colab-df-container\">\n",
              "      <div>\n",
              "<style scoped>\n",
              "    .dataframe tbody tr th:only-of-type {\n",
              "        vertical-align: middle;\n",
              "    }\n",
              "\n",
              "    .dataframe tbody tr th {\n",
              "        vertical-align: top;\n",
              "    }\n",
              "\n",
              "    .dataframe thead th {\n",
              "        text-align: right;\n",
              "    }\n",
              "</style>\n",
              "<table border=\"1\" class=\"dataframe\">\n",
              "  <thead>\n",
              "    <tr style=\"text-align: right;\">\n",
              "      <th></th>\n",
              "      <th>count</th>\n",
              "      <th>unique</th>\n",
              "      <th>top</th>\n",
              "      <th>freq</th>\n",
              "    </tr>\n",
              "  </thead>\n",
              "  <tbody>\n",
              "    <tr>\n",
              "      <th>Gender</th>\n",
              "      <td>54</td>\n",
              "      <td>2</td>\n",
              "      <td>Male</td>\n",
              "      <td>44</td>\n",
              "    </tr>\n",
              "    <tr>\n",
              "      <th>Age Range (Years)</th>\n",
              "      <td>54</td>\n",
              "      <td>2</td>\n",
              "      <td>25-40</td>\n",
              "      <td>45</td>\n",
              "    </tr>\n",
              "    <tr>\n",
              "      <th>Domicile</th>\n",
              "      <td>54</td>\n",
              "      <td>6</td>\n",
              "      <td>Jakarta surround area</td>\n",
              "      <td>35</td>\n",
              "    </tr>\n",
              "    <tr>\n",
              "      <th>Marital Status</th>\n",
              "      <td>54</td>\n",
              "      <td>2</td>\n",
              "      <td>Married</td>\n",
              "      <td>51</td>\n",
              "    </tr>\n",
              "    <tr>\n",
              "      <th>Education</th>\n",
              "      <td>54</td>\n",
              "      <td>2</td>\n",
              "      <td>Bachelor</td>\n",
              "      <td>48</td>\n",
              "    </tr>\n",
              "    <tr>\n",
              "      <th>Occupation</th>\n",
              "      <td>54</td>\n",
              "      <td>7</td>\n",
              "      <td>Private Employee</td>\n",
              "      <td>30</td>\n",
              "    </tr>\n",
              "    <tr>\n",
              "      <th>Spending in a year</th>\n",
              "      <td>54</td>\n",
              "      <td>5</td>\n",
              "      <td>200-250 M IDR</td>\n",
              "      <td>26</td>\n",
              "    </tr>\n",
              "    <tr>\n",
              "      <th>Vehicle Purchase Price</th>\n",
              "      <td>54</td>\n",
              "      <td>3</td>\n",
              "      <td>400-500 M IDR</td>\n",
              "      <td>29</td>\n",
              "    </tr>\n",
              "    <tr>\n",
              "      <th>Vehicle Model</th>\n",
              "      <td>54</td>\n",
              "      <td>3</td>\n",
              "      <td>MPV</td>\n",
              "      <td>32</td>\n",
              "    </tr>\n",
              "    <tr>\n",
              "      <th>Battery Charging Time</th>\n",
              "      <td>54</td>\n",
              "      <td>3</td>\n",
              "      <td>5 hours</td>\n",
              "      <td>30</td>\n",
              "    </tr>\n",
              "    <tr>\n",
              "      <th>Driving Range</th>\n",
              "      <td>54</td>\n",
              "      <td>3</td>\n",
              "      <td>350 Km</td>\n",
              "      <td>41</td>\n",
              "    </tr>\n",
              "    <tr>\n",
              "      <th>cluster_predicted</th>\n",
              "      <td>54</td>\n",
              "      <td>1</td>\n",
              "      <td>Third</td>\n",
              "      <td>54</td>\n",
              "    </tr>\n",
              "  </tbody>\n",
              "</table>\n",
              "</div>\n",
              "      <button class=\"colab-df-convert\" onclick=\"convertToInteractive('df-cc8a55bf-906b-41bb-8711-c9dd482c723f')\"\n",
              "              title=\"Convert this dataframe to an interactive table.\"\n",
              "              style=\"display:none;\">\n",
              "        \n",
              "  <svg xmlns=\"http://www.w3.org/2000/svg\" height=\"24px\"viewBox=\"0 0 24 24\"\n",
              "       width=\"24px\">\n",
              "    <path d=\"M0 0h24v24H0V0z\" fill=\"none\"/>\n",
              "    <path d=\"M18.56 5.44l.94 2.06.94-2.06 2.06-.94-2.06-.94-.94-2.06-.94 2.06-2.06.94zm-11 1L8.5 8.5l.94-2.06 2.06-.94-2.06-.94L8.5 2.5l-.94 2.06-2.06.94zm10 10l.94 2.06.94-2.06 2.06-.94-2.06-.94-.94-2.06-.94 2.06-2.06.94z\"/><path d=\"M17.41 7.96l-1.37-1.37c-.4-.4-.92-.59-1.43-.59-.52 0-1.04.2-1.43.59L10.3 9.45l-7.72 7.72c-.78.78-.78 2.05 0 2.83L4 21.41c.39.39.9.59 1.41.59.51 0 1.02-.2 1.41-.59l7.78-7.78 2.81-2.81c.8-.78.8-2.07 0-2.86zM5.41 20L4 18.59l7.72-7.72 1.47 1.35L5.41 20z\"/>\n",
              "  </svg>\n",
              "      </button>\n",
              "      \n",
              "  <style>\n",
              "    .colab-df-container {\n",
              "      display:flex;\n",
              "      flex-wrap:wrap;\n",
              "      gap: 12px;\n",
              "    }\n",
              "\n",
              "    .colab-df-convert {\n",
              "      background-color: #E8F0FE;\n",
              "      border: none;\n",
              "      border-radius: 50%;\n",
              "      cursor: pointer;\n",
              "      display: none;\n",
              "      fill: #1967D2;\n",
              "      height: 32px;\n",
              "      padding: 0 0 0 0;\n",
              "      width: 32px;\n",
              "    }\n",
              "\n",
              "    .colab-df-convert:hover {\n",
              "      background-color: #E2EBFA;\n",
              "      box-shadow: 0px 1px 2px rgba(60, 64, 67, 0.3), 0px 1px 3px 1px rgba(60, 64, 67, 0.15);\n",
              "      fill: #174EA6;\n",
              "    }\n",
              "\n",
              "    [theme=dark] .colab-df-convert {\n",
              "      background-color: #3B4455;\n",
              "      fill: #D2E3FC;\n",
              "    }\n",
              "\n",
              "    [theme=dark] .colab-df-convert:hover {\n",
              "      background-color: #434B5C;\n",
              "      box-shadow: 0px 1px 3px 1px rgba(0, 0, 0, 0.15);\n",
              "      filter: drop-shadow(0px 1px 2px rgba(0, 0, 0, 0.3));\n",
              "      fill: #FFFFFF;\n",
              "    }\n",
              "  </style>\n",
              "\n",
              "      <script>\n",
              "        const buttonEl =\n",
              "          document.querySelector('#df-cc8a55bf-906b-41bb-8711-c9dd482c723f button.colab-df-convert');\n",
              "        buttonEl.style.display =\n",
              "          google.colab.kernel.accessAllowed ? 'block' : 'none';\n",
              "\n",
              "        async function convertToInteractive(key) {\n",
              "          const element = document.querySelector('#df-cc8a55bf-906b-41bb-8711-c9dd482c723f');\n",
              "          const dataTable =\n",
              "            await google.colab.kernel.invokeFunction('convertToInteractive',\n",
              "                                                     [key], {});\n",
              "          if (!dataTable) return;\n",
              "\n",
              "          const docLinkHtml = 'Like what you see? Visit the ' +\n",
              "            '<a target=\"_blank\" href=https://colab.research.google.com/notebooks/data_table.ipynb>data table notebook</a>'\n",
              "            + ' to learn more about interactive tables.';\n",
              "          element.innerHTML = '';\n",
              "          dataTable['output_type'] = 'display_data';\n",
              "          await google.colab.output.renderOutput(dataTable, element);\n",
              "          const docLink = document.createElement('div');\n",
              "          docLink.innerHTML = docLinkHtml;\n",
              "          element.appendChild(docLink);\n",
              "        }\n",
              "      </script>\n",
              "    </div>\n",
              "  </div>\n",
              "  "
            ]
          },
          "metadata": {},
          "execution_count": 67
        }
      ]
    },
    {
      "cell_type": "markdown",
      "source": [
        "Interpretation:\n",
        "*   Cluster #3 is the last segment with 54 members or 13% of total participants. This segment is a Premium group that looking for best value in class when choosing electric vehicles,  they considers MPV vehicle model with 5 hrs charging time & 350 Km Driving Range.\n",
        "*   This Cluster dominated by Male, Milenialls (25-40 years old). Mostly live in Jakarta surround area. Most of them are Married with Bachelor as the last education & Private employee as their profession. They spend between 200-250 million rupiahs/year."
      ],
      "metadata": {
        "id": "STwn4xS8yUVV"
      }
    },
    {
      "cell_type": "markdown",
      "source": [
        "# 6. Conclusion & Recommendation"
      ],
      "metadata": {
        "id": "k_-K36KO-PG5"
      }
    },
    {
      "cell_type": "markdown",
      "source": [
        "## Conclusion"
      ],
      "metadata": {
        "id": "JLZJSgSd2J2D"
      }
    },
    {
      "cell_type": "markdown",
      "source": [
        "There are 3 cluster/segment of Electric vehicle indetified by this project:\n",
        "*   Cluster #1 is the biggest segment with 280 members or 67% of total participants. This segment is a **Price-Sensitive group** that prioritizes purchasing price when choosing battery-electric vehicles. This Cluster dominated by Female, Millenials (25-40 years old). Mostly live in West Java. Most of them are married with Bachelor as the last education & Private employee as their profession. They spend less than 200 million rupiahs/year.  \n",
        "*   Cluster #2 is second biggest segment with 83 members or 20% of total participants. This segment is a **Value Seeker group** that prioritizes purchasing price when choosing electric vehicles but still looking for affordable value in class. This Cluster dominated by Male, gen-Z (18-24 years old). Mostly live in Jakarta surround area. Most of them are single with Bachelor as the last education & Student as their profession. They spend less than 200 million rupiahs/year.\n",
        "*   Cluster #3 is the last segment with 54 members or 13% of total participants. This segment is a **Premium group** that looking for best value in class when choosing electric vehicles.This Cluster dominated by Male, Milenialls (25-40 years old). Mostly live in Jakarta surround area. Most of them are Married with Bachelor as the last education & Private employee as their profession. They spend between 200-250 million rupiahs/year.\n"
      ],
      "metadata": {
        "id": "P2W-xjq-2NRI"
      }
    },
    {
      "cell_type": "markdown",
      "source": [
        "## Recommendation"
      ],
      "metadata": {
        "id": "IjsFh98A3fOX"
      }
    },
    {
      "cell_type": "markdown",
      "source": [
        "There are 3 Basic Product Attribute/ Product Concept that suitable for each cluster/segment of Electric vehicle:\n",
        "*   Cluster #1 **Price-Sensitive** --> City Car vehicle model with 3 hrs charging time & 350 Km Driving Range.\n",
        "*   Cluster #2 **Value Seeker** --> MPV vehicle model with 3 hrs charging time & 350 Km Driving Range. \n",
        "*   Cluster #3 **Premium** --> MPV vehicle model with 5 hrs charging time & 350 Km Driving Range."
      ],
      "metadata": {
        "id": "QooEEB0M3olk"
      }
    }
  ]
}